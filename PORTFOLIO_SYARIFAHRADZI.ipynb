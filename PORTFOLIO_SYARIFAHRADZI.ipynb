{
  "nbformat": 4,
  "nbformat_minor": 0,
  "metadata": {
    "colab": {
      "name": "PORTFOLIO-SYARIFAHRADZI.ipynb",
      "provenance": [],
      "collapsed_sections": [
        "-y0SZIP_4hzA",
        "0lTObmiv5lYX",
        "4PAJr7736DrA",
        "s8cbgBzC6gKv",
        "sZU8dm346som",
        "rZiM_JtV60Kl",
        "07u9XzSS62po",
        "osq1R8vU65BH",
        "6KMXO5ti675W",
        "CfAnnTT46_HH",
        "l6baAhJjdCiU",
        "fyzO5is46_J-",
        "XBjmQBHacqrs",
        "GwIRoxWCd5Lm",
        "O4nuGVf7x1uU"
      ],
      "toc_visible": true,
      "authorship_tag": "ABX9TyOn5bXHttqGAjcpnNXwlROQ",
      "include_colab_link": true
    },
    "kernelspec": {
      "name": "python3",
      "display_name": "Python 3"
    },
    "language_info": {
      "name": "python"
    }
  },
  "cells": [
    {
      "cell_type": "markdown",
      "metadata": {
        "id": "view-in-github",
        "colab_type": "text"
      },
      "source": [
        "<a href=\"https://colab.research.google.com/github/SyarifahR/PORTFOLIO_SYARIFAHRADZI/blob/main/PORTFOLIO_SYARIFAHRADZI.ipynb\" target=\"_parent\"><img src=\"https://colab.research.google.com/assets/colab-badge.svg\" alt=\"Open In Colab\"/></a>"
      ]
    },
    {
      "cell_type": "markdown",
      "source": [
        "# 1. DHT22"
      ],
      "metadata": {
        "id": "-y0SZIP_4hzA"
      }
    },
    {
      "cell_type": "code",
      "source": [
        "## CANNOT RUN THIS CODE ON GOOGLE COLAB BECAUSE OF THE ABSENCE OF SENSOR AND RASPBERRY PI4\n",
        "# ------------------------------------------------------------------------------------------\n",
        "\n",
        "\n",
        "# import os\n",
        "# import time\n",
        "# import board\n",
        "# import adafruit_dht\n",
        "\n",
        "# dhtDevice = adafruit_dht.DHT22(board.D4, use_pulseio=False)\n",
        "\n",
        "# try:\n",
        "#     f = open('/home/pi/test27may.csv', 'a+')\n",
        "#     if os.stat('/home/pi/test27may.csv').st_size == 0:\n",
        "#         f.write('Time,Temperature,Humidity\\r\\n')\n",
        "# except:\n",
        "#     pass\n",
        "\n",
        "# while True:\n",
        "#     try:\n",
        "#         temperature = dhtDevice.temperature\n",
        "#         humidity = dhtDevice.humidity\n",
        "#         t = []\n",
        "#         h = []\n",
        "#         for i in range(5):\n",
        "#             t.append(temperature)\n",
        "#             h.append(humidity)\n",
        "#             tem_avg = sum(t) / len(t)\n",
        "#             hum_avg = sum(h) / len(h)\n",
        "#             time.sleep(1)\n",
        "#         print(\"Temp: {:.1f} C    Humidity: {}% \".format(tem_avg, hum_avg))\n",
        "#         f.write('{0},{1:0.1f},{2:0.1f}%\\r\\n'.format(time.strftime('%m/%d/%y %H:%M'), tem_avg, hum_avg))\n",
        "\n",
        "#     except KeyboardInterrupt:\n",
        "#         dhtDevice.exit()\n",
        "#         print('exiting script')\n",
        "#     except :\n",
        "#         pass"
      ],
      "metadata": {
        "id": "ilAtRh9uhPrp"
      },
      "execution_count": null,
      "outputs": []
    },
    {
      "cell_type": "markdown",
      "source": [
        "# 2. Final Year Project: Real Time Monitoring of Water Turbidity for Different Water Sources [Thesis Calibration]"
      ],
      "metadata": {
        "id": "4bb4aIo74xYV"
      }
    },
    {
      "cell_type": "code",
      "source": [
        "import numpy as np\n",
        "x = np.linspace(0, 4.5,100)\n",
        "y = -1120.4*x*x+5742.3*x-4352.9;\n",
        "\n",
        "import matplotlib.pyplot as plt\n",
        "plt.plot(x,y)\n",
        "plt.ylim([0.0, 3100])\n",
        "\n",
        "x = 2.562611567\n",
        "NTU = -1120.4*x*x+5742.3*x-4352.9\n",
        "NTU"
      ],
      "metadata": {
        "id": "0e8qTdqu5U-4",
        "colab": {
          "base_uri": "https://localhost:8080/"
        },
        "outputId": "67cd6fea-6847-45a7-a5c7-87ef4ce2a3ad"
      },
      "execution_count": null,
      "outputs": [
        {
          "output_type": "execute_result",
          "data": {
            "text/plain": [
              "3004.7422014459125"
            ]
          },
          "metadata": {},
          "execution_count": 69
        },
        {
          "output_type": "display_data",
          "data": {
            "text/plain": [
              "<Figure size 432x288 with 1 Axes>"
            ],
            "image/png": "[encoded data removed]"
          },
          "metadata": {
            "needs_background": "light"
          }
        }
      ]
    },
    {
      "cell_type": "code",
      "source": [
        "# Import libraries for python coding\n",
        "import numpy as np\n",
        "import matplotlib.pyplot as plt\n",
        "import autograd.numpy as jnp\n",
        "from autograd import grad\n",
        "\n",
        "# Plotting graph of calibration equation\n",
        "def f(x):\n",
        "  return -1120.4*x*x+5742.3*x-4352.9\n",
        "x = np.linspace ( start = 0.      # lower limit\n",
        "                , stop = 4.485    # upper limit\n",
        "                , num = 8000      # generate 8000 points between 0 and 4.485\n",
        "                )\n",
        "y = f(x)\n",
        "\n",
        "# Finding gradient within the range of experimental voltage values\n",
        "def df(x):\n",
        "  return -1120.4*x*x+5742.3*x-4352.9\n",
        "z = df(x)\n",
        "grad_df = grad(df)\n",
        "mpoint = ((3.91-3.83)/2)+3.83\n",
        "print(mpoint)\n",
        "print(\"Gradient of the sensor calibrated graph:\", grad_df(mpoint))\n",
        "\n",
        "# Displaying the graph\n",
        "plt.plot(x, y,  'b:')\n",
        "plt.axhline(y= 0, linewidth=1, color='black')\n",
        "plt.axvline(x= 2.6276699779153843, linewidth=1, color='black')\n",
        "plt.annotate(\"3000 NTU\\n2.63 V\", (2.6276699779153843, 3000.00))\n",
        "plt.annotate(\"0 NTU\\n4.20 V\", (4.2002463660981055, 0.00))\n",
        "plt.annotate(\"m= -2929.60\", (3.8,1500.00))\n",
        "plt.xlabel(\"Voltage / V\")\n",
        "plt.ylabel(\"Turbidity / NTU\")\n",
        "plt.title(\"\\nGraph of Turbidity as a Function of Voltage\\n\\n\")\n",
        "plt.text(0, 1000, \"y=-1120.4x^2+5742.3x-4352.9\", color='black', fontsize=10)\n",
        "plt.show()"
      ],
      "metadata": {
        "id": "Ogyr2FY47q84",
        "colab": {
          "base_uri": "https://localhost:8080/"
        },
        "outputId": "e8ff4375-b655-4be0-a29e-f3dd8519b6bb"
      },
      "execution_count": null,
      "outputs": [
        {
          "output_type": "stream",
          "name": "stdout",
          "text": [
            "3.87\n",
            "Gradient of the sensor calibrated graph: -2929.5960000000005\n"
          ]
        },
        {
          "output_type": "display_data",
          "data": {
            "text/plain": [
              "<Figure size 432x288 with 1 Axes>"
            ],
            "image/png": "[encoded data removed]"
          },
          "metadata": {
            "needs_background": "light"
          }
        }
      ]
    },
    {
      "cell_type": "code",
      "source": [
        "# if I want to label a specific point\n",
        "\n",
        "plt.scatter([1, 2, 3], [4, 5, 6])\n",
        "plt.annotate(\"Point 1\", (1, 4))\n",
        "plt.show()"
      ],
      "metadata": {
        "id": "Wb6kjr06723v",
        "colab": {
          "base_uri": "https://localhost:8080/"
        },
        "outputId": "d15aacaa-df8f-4397-c53f-24896910b2a3"
      },
      "execution_count": null,
      "outputs": [
        {
          "output_type": "display_data",
          "data": {
            "text/plain": [
              "<Figure size 432x288 with 1 Axes>"
            ],
            "image/png": "[encoded data removed]"
          },
          "metadata": {
            "needs_background": "light"
          }
        }
      ]
    },
    {
      "cell_type": "code",
      "source": [
        "plt.plot(range(0, 10))\n",
        "\n",
        "scale_factor = 5\n",
        "\n",
        "xmin, xmax = plt.xlim()\n",
        "ymin, ymax = plt.ylim()\n",
        "\n",
        "plt.xlim(xmin * scale_factor, xmax * scale_factor)\n",
        "plt.ylim(ymin * scale_factor, ymax * scale_factor)"
      ],
      "metadata": {
        "id": "9-kHEnzi77h_",
        "colab": {
          "base_uri": "https://localhost:8080/"
        },
        "outputId": "1046294d-4bb7-45aa-99c5-0b8d4a6acf7a"
      },
      "execution_count": null,
      "outputs": [
        {
          "output_type": "execute_result",
          "data": {
            "text/plain": [
              "(-2.25, 47.25)"
            ]
          },
          "metadata": {},
          "execution_count": 72
        },
        {
          "output_type": "display_data",
          "data": {
            "text/plain": [
              "<Figure size 432x288 with 1 Axes>"
            ],
            "image/png": "[encoded data removed]"
          },
          "metadata": {
            "needs_background": "light"
          }
        }
      ]
    },
    {
      "cell_type": "code",
      "source": [
        "# Calculating percentage error\n",
        "\n",
        "import numpy as np\n",
        "import matplotlib.pyplot as plt\n",
        "\n",
        "def f(x):\n",
        "  return -1120.4*x*x+5742.3*x-4352.9\n",
        "x = np.linspace ( start = 0.    # lower limit\n",
        "                , stop = 4.485      # upper limit\n",
        "                , num = 8000      # generate 8000 points between 0 and 4.485\n",
        "                )\n",
        "y = f(x)\n",
        "plt.plot (x,y)\n",
        "\n",
        "x = 2.562611567\n",
        "NTU = -1120.4*x*x+5742.3*x-4352.9\n",
        "NTU"
      ],
      "metadata": {
        "id": "PIzZQsTg8BCP",
        "colab": {
          "base_uri": "https://localhost:8080/"
        },
        "outputId": "0d114b87-673e-44ae-a50d-9d86ce601b60"
      },
      "execution_count": null,
      "outputs": [
        {
          "output_type": "execute_result",
          "data": {
            "text/plain": [
              "3004.7422014459125"
            ]
          },
          "metadata": {},
          "execution_count": 73
        },
        {
          "output_type": "display_data",
          "data": {
            "text/plain": [
              "<Figure size 432x288 with 1 Axes>"
            ],
            "image/png": "[encoded data removed]"
          },
          "metadata": {
            "needs_background": "light"
          }
        }
      ]
    },
    {
      "cell_type": "code",
      "source": [
        "## SOURCE CODE FOR TURBIDITY SENSOR USING ARDUINO UNO and C++ LANGUAGE\n",
        "## CANNOT RUN THIS CODE ON GOOGLE COLAB BECAUSE OF THE ABSENCE OF SENSOR AND ARDUINO IDE\n",
        "# ------------------------------------------------------------------------------------------\n",
        "\n",
        "# void setup (){ \n",
        "    \n",
        "#   // Baud rate or maximum transferring rate of 9600 bits per second\n",
        "#   Serial.begin(9600);\n",
        "#   }\n",
        "\n",
        "#   void loop(){\n",
        "    \n",
        "#     // Read values from analog pin A0\n",
        "#     int T = analogRead(A0);\n",
        "\n",
        "#     // Voltage value for light intensity detected by phototransistor\n",
        "#     // Mapping input voltage into interger values between 0 and 1023\n",
        "#     float volt = (T)*(4.485/1024.0);\n",
        "\n",
        "#     // Turbidity value for light intensity detected by phototransistor\n",
        "#     float NTU = -1120.4*pow(volt,2.0)+5742.3*volt-4352.9;\n",
        "\n",
        "# // Values to be displayed on IDE monitoring interface\n",
        "# Serial.print(T);\n",
        "# Serial.print(\"\\t\");\n",
        "# Serial.print(volt);\n",
        "# Serial.print(\"\\t\");\n",
        "# Serial.print(NTU);\n",
        "\n",
        "# // 3000 miliseconds delay in between reading\n",
        "# delay(3000);\n",
        "\n",
        "#   }"
      ],
      "metadata": {
        "id": "RjhZ9l2njNW_"
      },
      "execution_count": null,
      "outputs": []
    },
    {
      "cell_type": "markdown",
      "source": [
        "# 3. Mini Project: Corrupted Data Estimation and Correction Program"
      ],
      "metadata": {
        "id": "0lTObmiv5lYX"
      }
    },
    {
      "cell_type": "code",
      "source": [
        "## cannot run this because the file courrpteddata.csv must be in PC\n",
        "\n",
        "import pandas as pd\n",
        "import matplotlib.pyplot as plt\n",
        "import io\n",
        "import numpy as np\n",
        "from mpl_toolkits import mplot3d\n",
        "from mpl_toolkits.mplot3d import Axes3D\n",
        "from google.colab import files"
      ],
      "metadata": {
        "id": "sdxVWvo25tDe"
      },
      "execution_count": null,
      "outputs": []
    },
    {
      "cell_type": "code",
      "source": [
        "## download the file courrpteddata.csv first in PC & then upload here\n",
        "\n",
        "uploaded = files.upload()"
      ],
      "metadata": {
        "colab": {
          "resources": {
            "http://localhost:8080/nbextensions/google.colab/files.js": {
              "data": "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",
              "ok": true,
              "headers": [
                [
                  "content-type",
                  "application/javascript"
                ]
              ],
              "status": 200,
              "status_text": ""
            }
          },
          "base_uri": "https://localhost:8080/",
          "height": 72
        },
        "id": "ZyX9zG6p8qLo",
        "outputId": "936a4a43-f223-4b3b-a37f-746f654b1184"
      },
      "execution_count": null,
      "outputs": [
        {
          "output_type": "display_data",
          "data": {
            "text/plain": [
              "<IPython.core.display.HTML object>"
            ],
            "text/html": [
              "\n",
              "     <input type=\"file\" id=\"files-188dfdc8-ded5-4f42-8acf-3c22662e4f38\" name=\"files[]\" multiple disabled\n",
              "        style=\"border:none\" />\n",
              "     <output id=\"result-188dfdc8-ded5-4f42-8acf-3c22662e4f38\">\n",
              "      Upload widget is only available when the cell has been executed in the\n",
              "      current browser session. Please rerun this cell to enable.\n",
              "      </output>\n",
              "      <script src=\"/nbextensions/google.colab/files.js\"></script> "
            ]
          },
          "metadata": {}
        },
        {
          "output_type": "stream",
          "name": "stdout",
          "text": [
            "Saving corrupteddata.csv to corrupteddata (1).csv\n"
          ]
        }
      ]
    },
    {
      "cell_type": "code",
      "source": [
        "## download the file courrpteddata.csv first in PC & then upload here\n",
        "\n",
        "df2 = pd.read_csv(io.BytesIO(uploaded['corrupteddata.csv']))\n",
        "df2"
      ],
      "metadata": {
        "colab": {
          "base_uri": "https://localhost:8080/",
          "height": 505
        },
        "id": "frYrSINw-rwi",
        "outputId": "5d78475e-a3c7-42aa-915e-ec6b65bbcf93"
      },
      "execution_count": null,
      "outputs": [
        {
          "output_type": "execute_result",
          "data": {
            "text/plain": [
              "     Unnamed: 0         0         1         2         3         4         5  \\\n",
              "0             0  0.658807  0.645565  0.632154  0.618583  0.604864  0.591009   \n",
              "1             1  0.659458  0.646216  0.632805  0.619234  0.605516  0.591660   \n",
              "2             2  0.660030  0.646788  0.633377  0.619806  0.606088  0.592232   \n",
              "3             3  0.660523  0.647282  0.633870  0.620300  0.606581  0.592726   \n",
              "4             4  0.660938  0.647696  0.634284  0.620714  0.606995  0.593140   \n",
              "..          ...       ...       ...       ...       ...       ...       ...   \n",
              "495         495  0.655415  0.642174  0.628762  0.615192  0.601473  0.587618   \n",
              "496         496  0.656381  0.643139  0.629728  0.616157  0.602439  0.588583   \n",
              "497         497  0.657268  0.644027  0.630615  0.617044  0.603326  0.589470   \n",
              "498         498  0.658077  0.644835  0.631424  0.617853  0.604134  0.590279   \n",
              "499         499  0.658807  0.645565  0.632154  0.618583  0.604864  0.591009   \n",
              "\n",
              "            6         7         8  ...       490       491       492  \\\n",
              "0    0.577028  0.562935  0.548740  ...  0.768756  0.757463  0.745921   \n",
              "1    0.577680  0.563586  0.549392  ...  0.769407  0.758114  0.746572   \n",
              "2    0.578252  0.564158  0.549964  ...  0.769980  0.758686  0.747144   \n",
              "3    0.578745  0.564652  0.550457  ...  0.770473  0.759180  0.747637   \n",
              "4    0.579159  0.565066  0.550871  ...  0.770887  0.759594  0.748051   \n",
              "..        ...       ...       ...  ...       ...       ...       ...   \n",
              "495  0.573637  0.559544  0.545349  ...  0.765365  0.754071  0.742529   \n",
              "496  0.574603  0.560509  0.546315  ...  0.766330  0.755037  0.743495   \n",
              "497  0.575490  0.561396  0.547202  ...  0.767218  0.755924  0.744382   \n",
              "498  0.576299  0.562205  0.548010  ...  0.768026  0.756733  0.745191   \n",
              "499  0.577028  0.562935  0.548740  ...  0.768756  0.757463  0.745921   \n",
              "\n",
              "          493       494       495       496       497       498       499  \n",
              "0    0.734136  0.722118  0.709873  0.697411  0.684739  0.671868  0.658807  \n",
              "1    0.734788  0.722769  0.710525  0.698062  0.685391  0.672519  0.659458  \n",
              "2    0.735360  0.723342  0.711097  0.698634  0.685963  0.673092  0.660030  \n",
              "3    0.735853  0.723835  0.711590  0.699128  0.686456  0.673585  0.660523  \n",
              "4    0.736267  0.724249  0.712004  0.699542  0.686870  0.673999  0.660938  \n",
              "..        ...       ...       ...       ...       ...       ...       ...  \n",
              "495  0.730745  0.718727  0.706482  0.694020  0.681348  0.668477  0.655415  \n",
              "496  0.731711  0.719692  0.707448  0.694985  0.682314  0.669442  0.656381  \n",
              "497  0.732598  0.720580  0.708335  0.695872  0.683201  0.670330  0.657268  \n",
              "498  0.733407  0.721388  0.709144  0.696681  0.684010  0.671138  0.658077  \n",
              "499  0.734136  0.722118  0.709873  0.697411  0.684739  0.671868  0.658807  \n",
              "\n",
              "[500 rows x 501 columns]"
            ],
            "text/html": [
              "\n",
              "  <div id=\"df-233c28a4-389e-4070-bc55-795daa3d3ba9\">\n",
              "    <div class=\"colab-df-container\">\n",
              "      <div>\n",
              "<style scoped>\n",
              "    .dataframe tbody tr th:only-of-type {\n",
              "        vertical-align: middle;\n",
              "    }\n",
              "\n",
              "    .dataframe tbody tr th {\n",
              "        vertical-align: top;\n",
              "    }\n",
              "\n",
              "    .dataframe thead th {\n",
              "        text-align: right;\n",
              "    }\n",
              "</style>\n",
              "<table border=\"1\" class=\"dataframe\">\n",
              "  <thead>\n",
              "    <tr style=\"text-align: right;\">\n",
              "      <th></th>\n",
              "      <th>Unnamed: 0</th>\n",
              "      <th>0</th>\n",
              "      <th>1</th>\n",
              "      <th>2</th>\n",
              "      <th>3</th>\n",
              "      <th>4</th>\n",
              "      <th>5</th>\n",
              "      <th>6</th>\n",
              "      <th>7</th>\n",
              "      <th>8</th>\n",
              "      <th>...</th>\n",
              "      <th>490</th>\n",
              "      <th>491</th>\n",
              "      <th>492</th>\n",
              "      <th>493</th>\n",
              "      <th>494</th>\n",
              "      <th>495</th>\n",
              "      <th>496</th>\n",
              "      <th>497</th>\n",
              "      <th>498</th>\n",
              "      <th>499</th>\n",
              "    </tr>\n",
              "  </thead>\n",
              "  <tbody>\n",
              "    <tr>\n",
              "      <th>0</th>\n",
              "      <td>0</td>\n",
              "      <td>0.658807</td>\n",
              "      <td>0.645565</td>\n",
              "      <td>0.632154</td>\n",
              "      <td>0.618583</td>\n",
              "      <td>0.604864</td>\n",
              "      <td>0.591009</td>\n",
              "      <td>0.577028</td>\n",
              "      <td>0.562935</td>\n",
              "      <td>0.548740</td>\n",
              "      <td>...</td>\n",
              "      <td>0.768756</td>\n",
              "      <td>0.757463</td>\n",
              "      <td>0.745921</td>\n",
              "      <td>0.734136</td>\n",
              "      <td>0.722118</td>\n",
              "      <td>0.709873</td>\n",
              "      <td>0.697411</td>\n",
              "      <td>0.684739</td>\n",
              "      <td>0.671868</td>\n",
              "      <td>0.658807</td>\n",
              "    </tr>\n",
              "    <tr>\n",
              "      <th>1</th>\n",
              "      <td>1</td>\n",
              "      <td>0.659458</td>\n",
              "      <td>0.646216</td>\n",
              "      <td>0.632805</td>\n",
              "      <td>0.619234</td>\n",
              "      <td>0.605516</td>\n",
              "      <td>0.591660</td>\n",
              "      <td>0.577680</td>\n",
              "      <td>0.563586</td>\n",
              "      <td>0.549392</td>\n",
              "      <td>...</td>\n",
              "      <td>0.769407</td>\n",
              "      <td>0.758114</td>\n",
              "      <td>0.746572</td>\n",
              "      <td>0.734788</td>\n",
              "      <td>0.722769</td>\n",
              "      <td>0.710525</td>\n",
              "      <td>0.698062</td>\n",
              "      <td>0.685391</td>\n",
              "      <td>0.672519</td>\n",
              "      <td>0.659458</td>\n",
              "    </tr>\n",
              "    <tr>\n",
              "      <th>2</th>\n",
              "      <td>2</td>\n",
              "      <td>0.660030</td>\n",
              "      <td>0.646788</td>\n",
              "      <td>0.633377</td>\n",
              "      <td>0.619806</td>\n",
              "      <td>0.606088</td>\n",
              "      <td>0.592232</td>\n",
              "      <td>0.578252</td>\n",
              "      <td>0.564158</td>\n",
              "      <td>0.549964</td>\n",
              "      <td>...</td>\n",
              "      <td>0.769980</td>\n",
              "      <td>0.758686</td>\n",
              "      <td>0.747144</td>\n",
              "      <td>0.735360</td>\n",
              "      <td>0.723342</td>\n",
              "      <td>0.711097</td>\n",
              "      <td>0.698634</td>\n",
              "      <td>0.685963</td>\n",
              "      <td>0.673092</td>\n",
              "      <td>0.660030</td>\n",
              "    </tr>\n",
              "    <tr>\n",
              "      <th>3</th>\n",
              "      <td>3</td>\n",
              "      <td>0.660523</td>\n",
              "      <td>0.647282</td>\n",
              "      <td>0.633870</td>\n",
              "      <td>0.620300</td>\n",
              "      <td>0.606581</td>\n",
              "      <td>0.592726</td>\n",
              "      <td>0.578745</td>\n",
              "      <td>0.564652</td>\n",
              "      <td>0.550457</td>\n",
              "      <td>...</td>\n",
              "      <td>0.770473</td>\n",
              "      <td>0.759180</td>\n",
              "      <td>0.747637</td>\n",
              "      <td>0.735853</td>\n",
              "      <td>0.723835</td>\n",
              "      <td>0.711590</td>\n",
              "      <td>0.699128</td>\n",
              "      <td>0.686456</td>\n",
              "      <td>0.673585</td>\n",
              "      <td>0.660523</td>\n",
              "    </tr>\n",
              "    <tr>\n",
              "      <th>4</th>\n",
              "      <td>4</td>\n",
              "      <td>0.660938</td>\n",
              "      <td>0.647696</td>\n",
              "      <td>0.634284</td>\n",
              "      <td>0.620714</td>\n",
              "      <td>0.606995</td>\n",
              "      <td>0.593140</td>\n",
              "      <td>0.579159</td>\n",
              "      <td>0.565066</td>\n",
              "      <td>0.550871</td>\n",
              "      <td>...</td>\n",
              "      <td>0.770887</td>\n",
              "      <td>0.759594</td>\n",
              "      <td>0.748051</td>\n",
              "      <td>0.736267</td>\n",
              "      <td>0.724249</td>\n",
              "      <td>0.712004</td>\n",
              "      <td>0.699542</td>\n",
              "      <td>0.686870</td>\n",
              "      <td>0.673999</td>\n",
              "      <td>0.660938</td>\n",
              "    </tr>\n",
              "    <tr>\n",
              "      <th>...</th>\n",
              "      <td>...</td>\n",
              "      <td>...</td>\n",
              "      <td>...</td>\n",
              "      <td>...</td>\n",
              "      <td>...</td>\n",
              "      <td>...</td>\n",
              "      <td>...</td>\n",
              "      <td>...</td>\n",
              "      <td>...</td>\n",
              "      <td>...</td>\n",
              "      <td>...</td>\n",
              "      <td>...</td>\n",
              "      <td>...</td>\n",
              "      <td>...</td>\n",
              "      <td>...</td>\n",
              "      <td>...</td>\n",
              "      <td>...</td>\n",
              "      <td>...</td>\n",
              "      <td>...</td>\n",
              "      <td>...</td>\n",
              "      <td>...</td>\n",
              "    </tr>\n",
              "    <tr>\n",
              "      <th>495</th>\n",
              "      <td>495</td>\n",
              "      <td>0.655415</td>\n",
              "      <td>0.642174</td>\n",
              "      <td>0.628762</td>\n",
              "      <td>0.615192</td>\n",
              "      <td>0.601473</td>\n",
              "      <td>0.587618</td>\n",
              "      <td>0.573637</td>\n",
              "      <td>0.559544</td>\n",
              "      <td>0.545349</td>\n",
              "      <td>...</td>\n",
              "      <td>0.765365</td>\n",
              "      <td>0.754071</td>\n",
              "      <td>0.742529</td>\n",
              "      <td>0.730745</td>\n",
              "      <td>0.718727</td>\n",
              "      <td>0.706482</td>\n",
              "      <td>0.694020</td>\n",
              "      <td>0.681348</td>\n",
              "      <td>0.668477</td>\n",
              "      <td>0.655415</td>\n",
              "    </tr>\n",
              "    <tr>\n",
              "      <th>496</th>\n",
              "      <td>496</td>\n",
              "      <td>0.656381</td>\n",
              "      <td>0.643139</td>\n",
              "      <td>0.629728</td>\n",
              "      <td>0.616157</td>\n",
              "      <td>0.602439</td>\n",
              "      <td>0.588583</td>\n",
              "      <td>0.574603</td>\n",
              "      <td>0.560509</td>\n",
              "      <td>0.546315</td>\n",
              "      <td>...</td>\n",
              "      <td>0.766330</td>\n",
              "      <td>0.755037</td>\n",
              "      <td>0.743495</td>\n",
              "      <td>0.731711</td>\n",
              "      <td>0.719692</td>\n",
              "      <td>0.707448</td>\n",
              "      <td>0.694985</td>\n",
              "      <td>0.682314</td>\n",
              "      <td>0.669442</td>\n",
              "      <td>0.656381</td>\n",
              "    </tr>\n",
              "    <tr>\n",
              "      <th>497</th>\n",
              "      <td>497</td>\n",
              "      <td>0.657268</td>\n",
              "      <td>0.644027</td>\n",
              "      <td>0.630615</td>\n",
              "      <td>0.617044</td>\n",
              "      <td>0.603326</td>\n",
              "      <td>0.589470</td>\n",
              "      <td>0.575490</td>\n",
              "      <td>0.561396</td>\n",
              "      <td>0.547202</td>\n",
              "      <td>...</td>\n",
              "      <td>0.767218</td>\n",
              "      <td>0.755924</td>\n",
              "      <td>0.744382</td>\n",
              "      <td>0.732598</td>\n",
              "      <td>0.720580</td>\n",
              "      <td>0.708335</td>\n",
              "      <td>0.695872</td>\n",
              "      <td>0.683201</td>\n",
              "      <td>0.670330</td>\n",
              "      <td>0.657268</td>\n",
              "    </tr>\n",
              "    <tr>\n",
              "      <th>498</th>\n",
              "      <td>498</td>\n",
              "      <td>0.658077</td>\n",
              "      <td>0.644835</td>\n",
              "      <td>0.631424</td>\n",
              "      <td>0.617853</td>\n",
              "      <td>0.604134</td>\n",
              "      <td>0.590279</td>\n",
              "      <td>0.576299</td>\n",
              "      <td>0.562205</td>\n",
              "      <td>0.548010</td>\n",
              "      <td>...</td>\n",
              "      <td>0.768026</td>\n",
              "      <td>0.756733</td>\n",
              "      <td>0.745191</td>\n",
              "      <td>0.733407</td>\n",
              "      <td>0.721388</td>\n",
              "      <td>0.709144</td>\n",
              "      <td>0.696681</td>\n",
              "      <td>0.684010</td>\n",
              "      <td>0.671138</td>\n",
              "      <td>0.658077</td>\n",
              "    </tr>\n",
              "    <tr>\n",
              "      <th>499</th>\n",
              "      <td>499</td>\n",
              "      <td>0.658807</td>\n",
              "      <td>0.645565</td>\n",
              "      <td>0.632154</td>\n",
              "      <td>0.618583</td>\n",
              "      <td>0.604864</td>\n",
              "      <td>0.591009</td>\n",
              "      <td>0.577028</td>\n",
              "      <td>0.562935</td>\n",
              "      <td>0.548740</td>\n",
              "      <td>...</td>\n",
              "      <td>0.768756</td>\n",
              "      <td>0.757463</td>\n",
              "      <td>0.745921</td>\n",
              "      <td>0.734136</td>\n",
              "      <td>0.722118</td>\n",
              "      <td>0.709873</td>\n",
              "      <td>0.697411</td>\n",
              "      <td>0.684739</td>\n",
              "      <td>0.671868</td>\n",
              "      <td>0.658807</td>\n",
              "    </tr>\n",
              "  </tbody>\n",
              "</table>\n",
              "<p>500 rows × 501 columns</p>\n",
              "</div>\n",
              "      <button class=\"colab-df-convert\" onclick=\"convertToInteractive('df-233c28a4-389e-4070-bc55-795daa3d3ba9')\"\n",
              "              title=\"Convert this dataframe to an interactive table.\"\n",
              "              style=\"display:none;\">\n",
              "        \n",
              "  <svg xmlns=\"http://www.w3.org/2000/svg\" height=\"24px\"viewBox=\"0 0 24 24\"\n",
              "       width=\"24px\">\n",
              "    <path d=\"M0 0h24v24H0V0z\" fill=\"none\"/>\n",
              "    <path d=\"M18.56 5.44l.94 2.06.94-2.06 2.06-.94-2.06-.94-.94-2.06-.94 2.06-2.06.94zm-11 1L8.5 8.5l.94-2.06 2.06-.94-2.06-.94L8.5 2.5l-.94 2.06-2.06.94zm10 10l.94 2.06.94-2.06 2.06-.94-2.06-.94-.94-2.06-.94 2.06-2.06.94z\"/><path d=\"M17.41 7.96l-1.37-1.37c-.4-.4-.92-.59-1.43-.59-.52 0-1.04.2-1.43.59L10.3 9.45l-7.72 7.72c-.78.78-.78 2.05 0 2.83L4 21.41c.39.39.9.59 1.41.59.51 0 1.02-.2 1.41-.59l7.78-7.78 2.81-2.81c.8-.78.8-2.07 0-2.86zM5.41 20L4 18.59l7.72-7.72 1.47 1.35L5.41 20z\"/>\n",
              "  </svg>\n",
              "      </button>\n",
              "      \n",
              "  <style>\n",
              "    .colab-df-container {\n",
              "      display:flex;\n",
              "      flex-wrap:wrap;\n",
              "      gap: 12px;\n",
              "    }\n",
              "\n",
              "    .colab-df-convert {\n",
              "      background-color: #E8F0FE;\n",
              "      border: none;\n",
              "      border-radius: 50%;\n",
              "      cursor: pointer;\n",
              "      display: none;\n",
              "      fill: #1967D2;\n",
              "      height: 32px;\n",
              "      padding: 0 0 0 0;\n",
              "      width: 32px;\n",
              "    }\n",
              "\n",
              "    .colab-df-convert:hover {\n",
              "      background-color: #E2EBFA;\n",
              "      box-shadow: 0px 1px 2px rgba(60, 64, 67, 0.3), 0px 1px 3px 1px rgba(60, 64, 67, 0.15);\n",
              "      fill: #174EA6;\n",
              "    }\n",
              "\n",
              "    [theme=dark] .colab-df-convert {\n",
              "      background-color: #3B4455;\n",
              "      fill: #D2E3FC;\n",
              "    }\n",
              "\n",
              "    [theme=dark] .colab-df-convert:hover {\n",
              "      background-color: #434B5C;\n",
              "      box-shadow: 0px 1px 3px 1px rgba(0, 0, 0, 0.15);\n",
              "      filter: drop-shadow(0px 1px 2px rgba(0, 0, 0, 0.3));\n",
              "      fill: #FFFFFF;\n",
              "    }\n",
              "  </style>\n",
              "\n",
              "      <script>\n",
              "        const buttonEl =\n",
              "          document.querySelector('#df-233c28a4-389e-4070-bc55-795daa3d3ba9 button.colab-df-convert');\n",
              "        buttonEl.style.display =\n",
              "          google.colab.kernel.accessAllowed ? 'block' : 'none';\n",
              "\n",
              "        async function convertToInteractive(key) {\n",
              "          const element = document.querySelector('#df-233c28a4-389e-4070-bc55-795daa3d3ba9');\n",
              "          const dataTable =\n",
              "            await google.colab.kernel.invokeFunction('convertToInteractive',\n",
              "                                                     [key], {});\n",
              "          if (!dataTable) return;\n",
              "\n",
              "          const docLinkHtml = 'Like what you see? Visit the ' +\n",
              "            '<a target=\"_blank\" href=https://colab.research.google.com/notebooks/data_table.ipynb>data table notebook</a>'\n",
              "            + ' to learn more about interactive tables.';\n",
              "          element.innerHTML = '';\n",
              "          dataTable['output_type'] = 'display_data';\n",
              "          await google.colab.output.renderOutput(dataTable, element);\n",
              "          const docLink = document.createElement('div');\n",
              "          docLink.innerHTML = docLinkHtml;\n",
              "          element.appendChild(docLink);\n",
              "        }\n",
              "      </script>\n",
              "    </div>\n",
              "  </div>\n",
              "  "
            ]
          },
          "metadata": {},
          "execution_count": 77
        }
      ]
    },
    {
      "cell_type": "code",
      "source": [
        "## download the file courrpteddata.csv first in PC & then upload here\n",
        "\n",
        "df2 = df2.drop(['Unnamed: 0'], axis='columns')\n",
        "df2"
      ],
      "metadata": {
        "colab": {
          "base_uri": "https://localhost:8080/",
          "height": 488
        },
        "id": "DaRu7WCk8404",
        "outputId": "6a30dd1a-29ac-479b-ba3c-6a5dece3457b"
      },
      "execution_count": null,
      "outputs": [
        {
          "output_type": "execute_result",
          "data": {
            "text/plain": [
              "            0         1         2         3         4         5         6  \\\n",
              "0    0.658807  0.645565  0.632154  0.618583  0.604864  0.591009  0.577028   \n",
              "1    0.659458  0.646216  0.632805  0.619234  0.605516  0.591660  0.577680   \n",
              "2    0.660030  0.646788  0.633377  0.619806  0.606088  0.592232  0.578252   \n",
              "3    0.660523  0.647282  0.633870  0.620300  0.606581  0.592726  0.578745   \n",
              "4    0.660938  0.647696  0.634284  0.620714  0.606995  0.593140  0.579159   \n",
              "..        ...       ...       ...       ...       ...       ...       ...   \n",
              "495  0.655415  0.642174  0.628762  0.615192  0.601473  0.587618  0.573637   \n",
              "496  0.656381  0.643139  0.629728  0.616157  0.602439  0.588583  0.574603   \n",
              "497  0.657268  0.644027  0.630615  0.617044  0.603326  0.589470  0.575490   \n",
              "498  0.658077  0.644835  0.631424  0.617853  0.604134  0.590279  0.576299   \n",
              "499  0.658807  0.645565  0.632154  0.618583  0.604864  0.591009  0.577028   \n",
              "\n",
              "            7         8         9  ...       490       491       492  \\\n",
              "0    0.562935  0.548740  0.534458  ...  0.768756  0.757463  0.745921   \n",
              "1    0.563586  0.549392  0.535109  ...  0.769407  0.758114  0.746572   \n",
              "2    0.564158  0.549964  0.535681  ...  0.769980  0.758686  0.747144   \n",
              "3    0.564652  0.550457  0.536174  ...  0.770473  0.759180  0.747637   \n",
              "4    0.565066  0.550871  0.536588  ...  0.770887  0.759594  0.748051   \n",
              "..        ...       ...       ...  ...       ...       ...       ...   \n",
              "495  0.559544  0.545349  0.531066  ...  0.765365  0.754071  0.742529   \n",
              "496  0.560509  0.546315  0.532032  ...  0.766330  0.755037  0.743495   \n",
              "497  0.561396  0.547202  0.532919  ...  0.767218  0.755924  0.744382   \n",
              "498  0.562205  0.548010  0.533728  ...  0.768026  0.756733  0.745191   \n",
              "499  0.562935  0.548740  0.534458  ...  0.768756  0.757463  0.745921   \n",
              "\n",
              "          493       494       495       496       497       498       499  \n",
              "0    0.734136  0.722118  0.709873  0.697411  0.684739  0.671868  0.658807  \n",
              "1    0.734788  0.722769  0.710525  0.698062  0.685391  0.672519  0.659458  \n",
              "2    0.735360  0.723342  0.711097  0.698634  0.685963  0.673092  0.660030  \n",
              "3    0.735853  0.723835  0.711590  0.699128  0.686456  0.673585  0.660523  \n",
              "4    0.736267  0.724249  0.712004  0.699542  0.686870  0.673999  0.660938  \n",
              "..        ...       ...       ...       ...       ...       ...       ...  \n",
              "495  0.730745  0.718727  0.706482  0.694020  0.681348  0.668477  0.655415  \n",
              "496  0.731711  0.719692  0.707448  0.694985  0.682314  0.669442  0.656381  \n",
              "497  0.732598  0.720580  0.708335  0.695872  0.683201  0.670330  0.657268  \n",
              "498  0.733407  0.721388  0.709144  0.696681  0.684010  0.671138  0.658077  \n",
              "499  0.734136  0.722118  0.709873  0.697411  0.684739  0.671868  0.658807  \n",
              "\n",
              "[500 rows x 500 columns]"
            ],
            "text/html": [
              "\n",
              "  <div id=\"df-ecbaa0b8-50ca-4b07-8794-90fe585aac76\">\n",
              "    <div class=\"colab-df-container\">\n",
              "      <div>\n",
              "<style scoped>\n",
              "    .dataframe tbody tr th:only-of-type {\n",
              "        vertical-align: middle;\n",
              "    }\n",
              "\n",
              "    .dataframe tbody tr th {\n",
              "        vertical-align: top;\n",
              "    }\n",
              "\n",
              "    .dataframe thead th {\n",
              "        text-align: right;\n",
              "    }\n",
              "</style>\n",
              "<table border=\"1\" class=\"dataframe\">\n",
              "  <thead>\n",
              "    <tr style=\"text-align: right;\">\n",
              "      <th></th>\n",
              "      <th>0</th>\n",
              "      <th>1</th>\n",
              "      <th>2</th>\n",
              "      <th>3</th>\n",
              "      <th>4</th>\n",
              "      <th>5</th>\n",
              "      <th>6</th>\n",
              "      <th>7</th>\n",
              "      <th>8</th>\n",
              "      <th>9</th>\n",
              "      <th>...</th>\n",
              "      <th>490</th>\n",
              "      <th>491</th>\n",
              "      <th>492</th>\n",
              "      <th>493</th>\n",
              "      <th>494</th>\n",
              "      <th>495</th>\n",
              "      <th>496</th>\n",
              "      <th>497</th>\n",
              "      <th>498</th>\n",
              "      <th>499</th>\n",
              "    </tr>\n",
              "  </thead>\n",
              "  <tbody>\n",
              "    <tr>\n",
              "      <th>0</th>\n",
              "      <td>0.658807</td>\n",
              "      <td>0.645565</td>\n",
              "      <td>0.632154</td>\n",
              "      <td>0.618583</td>\n",
              "      <td>0.604864</td>\n",
              "      <td>0.591009</td>\n",
              "      <td>0.577028</td>\n",
              "      <td>0.562935</td>\n",
              "      <td>0.548740</td>\n",
              "      <td>0.534458</td>\n",
              "      <td>...</td>\n",
              "      <td>0.768756</td>\n",
              "      <td>0.757463</td>\n",
              "      <td>0.745921</td>\n",
              "      <td>0.734136</td>\n",
              "      <td>0.722118</td>\n",
              "      <td>0.709873</td>\n",
              "      <td>0.697411</td>\n",
              "      <td>0.684739</td>\n",
              "      <td>0.671868</td>\n",
              "      <td>0.658807</td>\n",
              "    </tr>\n",
              "    <tr>\n",
              "      <th>1</th>\n",
              "      <td>0.659458</td>\n",
              "      <td>0.646216</td>\n",
              "      <td>0.632805</td>\n",
              "      <td>0.619234</td>\n",
              "      <td>0.605516</td>\n",
              "      <td>0.591660</td>\n",
              "      <td>0.577680</td>\n",
              "      <td>0.563586</td>\n",
              "      <td>0.549392</td>\n",
              "      <td>0.535109</td>\n",
              "      <td>...</td>\n",
              "      <td>0.769407</td>\n",
              "      <td>0.758114</td>\n",
              "      <td>0.746572</td>\n",
              "      <td>0.734788</td>\n",
              "      <td>0.722769</td>\n",
              "      <td>0.710525</td>\n",
              "      <td>0.698062</td>\n",
              "      <td>0.685391</td>\n",
              "      <td>0.672519</td>\n",
              "      <td>0.659458</td>\n",
              "    </tr>\n",
              "    <tr>\n",
              "      <th>2</th>\n",
              "      <td>0.660030</td>\n",
              "      <td>0.646788</td>\n",
              "      <td>0.633377</td>\n",
              "      <td>0.619806</td>\n",
              "      <td>0.606088</td>\n",
              "      <td>0.592232</td>\n",
              "      <td>0.578252</td>\n",
              "      <td>0.564158</td>\n",
              "      <td>0.549964</td>\n",
              "      <td>0.535681</td>\n",
              "      <td>...</td>\n",
              "      <td>0.769980</td>\n",
              "      <td>0.758686</td>\n",
              "      <td>0.747144</td>\n",
              "      <td>0.735360</td>\n",
              "      <td>0.723342</td>\n",
              "      <td>0.711097</td>\n",
              "      <td>0.698634</td>\n",
              "      <td>0.685963</td>\n",
              "      <td>0.673092</td>\n",
              "      <td>0.660030</td>\n",
              "    </tr>\n",
              "    <tr>\n",
              "      <th>3</th>\n",
              "      <td>0.660523</td>\n",
              "      <td>0.647282</td>\n",
              "      <td>0.633870</td>\n",
              "      <td>0.620300</td>\n",
              "      <td>0.606581</td>\n",
              "      <td>0.592726</td>\n",
              "      <td>0.578745</td>\n",
              "      <td>0.564652</td>\n",
              "      <td>0.550457</td>\n",
              "      <td>0.536174</td>\n",
              "      <td>...</td>\n",
              "      <td>0.770473</td>\n",
              "      <td>0.759180</td>\n",
              "      <td>0.747637</td>\n",
              "      <td>0.735853</td>\n",
              "      <td>0.723835</td>\n",
              "      <td>0.711590</td>\n",
              "      <td>0.699128</td>\n",
              "      <td>0.686456</td>\n",
              "      <td>0.673585</td>\n",
              "      <td>0.660523</td>\n",
              "    </tr>\n",
              "    <tr>\n",
              "      <th>4</th>\n",
              "      <td>0.660938</td>\n",
              "      <td>0.647696</td>\n",
              "      <td>0.634284</td>\n",
              "      <td>0.620714</td>\n",
              "      <td>0.606995</td>\n",
              "      <td>0.593140</td>\n",
              "      <td>0.579159</td>\n",
              "      <td>0.565066</td>\n",
              "      <td>0.550871</td>\n",
              "      <td>0.536588</td>\n",
              "      <td>...</td>\n",
              "      <td>0.770887</td>\n",
              "      <td>0.759594</td>\n",
              "      <td>0.748051</td>\n",
              "      <td>0.736267</td>\n",
              "      <td>0.724249</td>\n",
              "      <td>0.712004</td>\n",
              "      <td>0.699542</td>\n",
              "      <td>0.686870</td>\n",
              "      <td>0.673999</td>\n",
              "      <td>0.660938</td>\n",
              "    </tr>\n",
              "    <tr>\n",
              "      <th>...</th>\n",
              "      <td>...</td>\n",
              "      <td>...</td>\n",
              "      <td>...</td>\n",
              "      <td>...</td>\n",
              "      <td>...</td>\n",
              "      <td>...</td>\n",
              "      <td>...</td>\n",
              "      <td>...</td>\n",
              "      <td>...</td>\n",
              "      <td>...</td>\n",
              "      <td>...</td>\n",
              "      <td>...</td>\n",
              "      <td>...</td>\n",
              "      <td>...</td>\n",
              "      <td>...</td>\n",
              "      <td>...</td>\n",
              "      <td>...</td>\n",
              "      <td>...</td>\n",
              "      <td>...</td>\n",
              "      <td>...</td>\n",
              "      <td>...</td>\n",
              "    </tr>\n",
              "    <tr>\n",
              "      <th>495</th>\n",
              "      <td>0.655415</td>\n",
              "      <td>0.642174</td>\n",
              "      <td>0.628762</td>\n",
              "      <td>0.615192</td>\n",
              "      <td>0.601473</td>\n",
              "      <td>0.587618</td>\n",
              "      <td>0.573637</td>\n",
              "      <td>0.559544</td>\n",
              "      <td>0.545349</td>\n",
              "      <td>0.531066</td>\n",
              "      <td>...</td>\n",
              "      <td>0.765365</td>\n",
              "      <td>0.754071</td>\n",
              "      <td>0.742529</td>\n",
              "      <td>0.730745</td>\n",
              "      <td>0.718727</td>\n",
              "      <td>0.706482</td>\n",
              "      <td>0.694020</td>\n",
              "      <td>0.681348</td>\n",
              "      <td>0.668477</td>\n",
              "      <td>0.655415</td>\n",
              "    </tr>\n",
              "    <tr>\n",
              "      <th>496</th>\n",
              "      <td>0.656381</td>\n",
              "      <td>0.643139</td>\n",
              "      <td>0.629728</td>\n",
              "      <td>0.616157</td>\n",
              "      <td>0.602439</td>\n",
              "      <td>0.588583</td>\n",
              "      <td>0.574603</td>\n",
              "      <td>0.560509</td>\n",
              "      <td>0.546315</td>\n",
              "      <td>0.532032</td>\n",
              "      <td>...</td>\n",
              "      <td>0.766330</td>\n",
              "      <td>0.755037</td>\n",
              "      <td>0.743495</td>\n",
              "      <td>0.731711</td>\n",
              "      <td>0.719692</td>\n",
              "      <td>0.707448</td>\n",
              "      <td>0.694985</td>\n",
              "      <td>0.682314</td>\n",
              "      <td>0.669442</td>\n",
              "      <td>0.656381</td>\n",
              "    </tr>\n",
              "    <tr>\n",
              "      <th>497</th>\n",
              "      <td>0.657268</td>\n",
              "      <td>0.644027</td>\n",
              "      <td>0.630615</td>\n",
              "      <td>0.617044</td>\n",
              "      <td>0.603326</td>\n",
              "      <td>0.589470</td>\n",
              "      <td>0.575490</td>\n",
              "      <td>0.561396</td>\n",
              "      <td>0.547202</td>\n",
              "      <td>0.532919</td>\n",
              "      <td>...</td>\n",
              "      <td>0.767218</td>\n",
              "      <td>0.755924</td>\n",
              "      <td>0.744382</td>\n",
              "      <td>0.732598</td>\n",
              "      <td>0.720580</td>\n",
              "      <td>0.708335</td>\n",
              "      <td>0.695872</td>\n",
              "      <td>0.683201</td>\n",
              "      <td>0.670330</td>\n",
              "      <td>0.657268</td>\n",
              "    </tr>\n",
              "    <tr>\n",
              "      <th>498</th>\n",
              "      <td>0.658077</td>\n",
              "      <td>0.644835</td>\n",
              "      <td>0.631424</td>\n",
              "      <td>0.617853</td>\n",
              "      <td>0.604134</td>\n",
              "      <td>0.590279</td>\n",
              "      <td>0.576299</td>\n",
              "      <td>0.562205</td>\n",
              "      <td>0.548010</td>\n",
              "      <td>0.533728</td>\n",
              "      <td>...</td>\n",
              "      <td>0.768026</td>\n",
              "      <td>0.756733</td>\n",
              "      <td>0.745191</td>\n",
              "      <td>0.733407</td>\n",
              "      <td>0.721388</td>\n",
              "      <td>0.709144</td>\n",
              "      <td>0.696681</td>\n",
              "      <td>0.684010</td>\n",
              "      <td>0.671138</td>\n",
              "      <td>0.658077</td>\n",
              "    </tr>\n",
              "    <tr>\n",
              "      <th>499</th>\n",
              "      <td>0.658807</td>\n",
              "      <td>0.645565</td>\n",
              "      <td>0.632154</td>\n",
              "      <td>0.618583</td>\n",
              "      <td>0.604864</td>\n",
              "      <td>0.591009</td>\n",
              "      <td>0.577028</td>\n",
              "      <td>0.562935</td>\n",
              "      <td>0.548740</td>\n",
              "      <td>0.534458</td>\n",
              "      <td>...</td>\n",
              "      <td>0.768756</td>\n",
              "      <td>0.757463</td>\n",
              "      <td>0.745921</td>\n",
              "      <td>0.734136</td>\n",
              "      <td>0.722118</td>\n",
              "      <td>0.709873</td>\n",
              "      <td>0.697411</td>\n",
              "      <td>0.684739</td>\n",
              "      <td>0.671868</td>\n",
              "      <td>0.658807</td>\n",
              "    </tr>\n",
              "  </tbody>\n",
              "</table>\n",
              "<p>500 rows × 500 columns</p>\n",
              "</div>\n",
              "      <button class=\"colab-df-convert\" onclick=\"convertToInteractive('df-ecbaa0b8-50ca-4b07-8794-90fe585aac76')\"\n",
              "              title=\"Convert this dataframe to an interactive table.\"\n",
              "              style=\"display:none;\">\n",
              "        \n",
              "  <svg xmlns=\"http://www.w3.org/2000/svg\" height=\"24px\"viewBox=\"0 0 24 24\"\n",
              "       width=\"24px\">\n",
              "    <path d=\"M0 0h24v24H0V0z\" fill=\"none\"/>\n",
              "    <path d=\"M18.56 5.44l.94 2.06.94-2.06 2.06-.94-2.06-.94-.94-2.06-.94 2.06-2.06.94zm-11 1L8.5 8.5l.94-2.06 2.06-.94-2.06-.94L8.5 2.5l-.94 2.06-2.06.94zm10 10l.94 2.06.94-2.06 2.06-.94-2.06-.94-.94-2.06-.94 2.06-2.06.94z\"/><path d=\"M17.41 7.96l-1.37-1.37c-.4-.4-.92-.59-1.43-.59-.52 0-1.04.2-1.43.59L10.3 9.45l-7.72 7.72c-.78.78-.78 2.05 0 2.83L4 21.41c.39.39.9.59 1.41.59.51 0 1.02-.2 1.41-.59l7.78-7.78 2.81-2.81c.8-.78.8-2.07 0-2.86zM5.41 20L4 18.59l7.72-7.72 1.47 1.35L5.41 20z\"/>\n",
              "  </svg>\n",
              "      </button>\n",
              "      \n",
              "  <style>\n",
              "    .colab-df-container {\n",
              "      display:flex;\n",
              "      flex-wrap:wrap;\n",
              "      gap: 12px;\n",
              "    }\n",
              "\n",
              "    .colab-df-convert {\n",
              "      background-color: #E8F0FE;\n",
              "      border: none;\n",
              "      border-radius: 50%;\n",
              "      cursor: pointer;\n",
              "      display: none;\n",
              "      fill: #1967D2;\n",
              "      height: 32px;\n",
              "      padding: 0 0 0 0;\n",
              "      width: 32px;\n",
              "    }\n",
              "\n",
              "    .colab-df-convert:hover {\n",
              "      background-color: #E2EBFA;\n",
              "      box-shadow: 0px 1px 2px rgba(60, 64, 67, 0.3), 0px 1px 3px 1px rgba(60, 64, 67, 0.15);\n",
              "      fill: #174EA6;\n",
              "    }\n",
              "\n",
              "    [theme=dark] .colab-df-convert {\n",
              "      background-color: #3B4455;\n",
              "      fill: #D2E3FC;\n",
              "    }\n",
              "\n",
              "    [theme=dark] .colab-df-convert:hover {\n",
              "      background-color: #434B5C;\n",
              "      box-shadow: 0px 1px 3px 1px rgba(0, 0, 0, 0.15);\n",
              "      filter: drop-shadow(0px 1px 2px rgba(0, 0, 0, 0.3));\n",
              "      fill: #FFFFFF;\n",
              "    }\n",
              "  </style>\n",
              "\n",
              "      <script>\n",
              "        const buttonEl =\n",
              "          document.querySelector('#df-ecbaa0b8-50ca-4b07-8794-90fe585aac76 button.colab-df-convert');\n",
              "        buttonEl.style.display =\n",
              "          google.colab.kernel.accessAllowed ? 'block' : 'none';\n",
              "\n",
              "        async function convertToInteractive(key) {\n",
              "          const element = document.querySelector('#df-ecbaa0b8-50ca-4b07-8794-90fe585aac76');\n",
              "          const dataTable =\n",
              "            await google.colab.kernel.invokeFunction('convertToInteractive',\n",
              "                                                     [key], {});\n",
              "          if (!dataTable) return;\n",
              "\n",
              "          const docLinkHtml = 'Like what you see? Visit the ' +\n",
              "            '<a target=\"_blank\" href=https://colab.research.google.com/notebooks/data_table.ipynb>data table notebook</a>'\n",
              "            + ' to learn more about interactive tables.';\n",
              "          element.innerHTML = '';\n",
              "          dataTable['output_type'] = 'display_data';\n",
              "          await google.colab.output.renderOutput(dataTable, element);\n",
              "          const docLink = document.createElement('div');\n",
              "          docLink.innerHTML = docLinkHtml;\n",
              "          element.appendChild(docLink);\n",
              "        }\n",
              "      </script>\n",
              "    </div>\n",
              "  </div>\n",
              "  "
            ]
          },
          "metadata": {},
          "execution_count": 78
        }
      ]
    },
    {
      "cell_type": "code",
      "source": [
        "## download the file courrpteddata.csv first in PC & then upload here\n",
        "\n",
        "df = df2.replace(0,np.NaN)\n",
        "df = df.interpolate()\n",
        "dflist = df.values.tolist()\n",
        "x = np.linspace(0, 500, 500)\n",
        "y = np.linspace(0, 500, 500)\n",
        "\n",
        "X, Y = np.meshgrid(x, y)\n",
        "Z = dflist\n",
        "\n",
        "fig = plt.figure()\n",
        "plt.contourf(X, Y, Z, 20, cmap='RdGy')\n",
        "plt.colorbar();\n",
        "plt.show()"
      ],
      "metadata": {
        "colab": {
          "base_uri": "https://localhost:8080/",
          "height": 269
        },
        "id": "iSh-K-9A8_Yb",
        "outputId": "864f2312-74e5-4eea-aafe-19b5e1a5f6ae"
      },
      "execution_count": null,
      "outputs": [
        {
          "output_type": "display_data",
          "data": {
            "text/plain": [
              "<Figure size 432x288 with 2 Axes>"
            ],
            "image/png": "[encoded data removed]"
          },
          "metadata": {
            "needs_background": "light"
          }
        }
      ]
    },
    {
      "cell_type": "code",
      "source": [
        "## download the file courrpteddata.csv first in PC & then upload here\n",
        "\n",
        "xls = np.linspace(0, 500, 500)\n",
        "yls = np.linspace(0, 500, 500)\n",
        "\n",
        "#dflist \n",
        "xls"
      ],
      "metadata": {
        "id": "CForwIo89Lmo",
        "colab": {
          "base_uri": "https://localhost:8080/"
        },
        "outputId": "950e07c9-213f-4611-ae76-2553d1968a6d"
      },
      "execution_count": null,
      "outputs": [
        {
          "output_type": "execute_result",
          "data": {
            "text/plain": [
              "array([  0.        ,   1.00200401,   2.00400802,   3.00601202,\n",
              "         4.00801603,   5.01002004,   6.01202405,   7.01402806,\n",
              "         8.01603206,   9.01803607,  10.02004008,  11.02204409,\n",
              "        12.0240481 ,  13.0260521 ,  14.02805611,  15.03006012,\n",
              "        16.03206413,  17.03406814,  18.03607214,  19.03807615,\n",
              "        20.04008016,  21.04208417,  22.04408818,  23.04609218,\n",
              "        24.04809619,  25.0501002 ,  26.05210421,  27.05410822,\n",
              "        28.05611222,  29.05811623,  30.06012024,  31.06212425,\n",
              "        32.06412826,  33.06613226,  34.06813627,  35.07014028,\n",
              "        36.07214429,  37.0741483 ,  38.0761523 ,  39.07815631,\n",
              "        40.08016032,  41.08216433,  42.08416834,  43.08617234,\n",
              "        44.08817635,  45.09018036,  46.09218437,  47.09418838,\n",
              "        48.09619238,  49.09819639,  50.1002004 ,  51.10220441,\n",
              "        52.10420842,  53.10621242,  54.10821643,  55.11022044,\n",
              "        56.11222445,  57.11422846,  58.11623246,  59.11823647,\n",
              "        60.12024048,  61.12224449,  62.1242485 ,  63.12625251,\n",
              "        64.12825651,  65.13026052,  66.13226453,  67.13426854,\n",
              "        68.13627255,  69.13827655,  70.14028056,  71.14228457,\n",
              "        72.14428858,  73.14629259,  74.14829659,  75.1503006 ,\n",
              "        76.15230461,  77.15430862,  78.15631263,  79.15831663,\n",
              "        80.16032064,  81.16232465,  82.16432866,  83.16633267,\n",
              "        84.16833667,  85.17034068,  86.17234469,  87.1743487 ,\n",
              "        88.17635271,  89.17835671,  90.18036072,  91.18236473,\n",
              "        92.18436874,  93.18637275,  94.18837675,  95.19038076,\n",
              "        96.19238477,  97.19438878,  98.19639279,  99.19839679,\n",
              "       100.2004008 , 101.20240481, 102.20440882, 103.20641283,\n",
              "       104.20841683, 105.21042084, 106.21242485, 107.21442886,\n",
              "       108.21643287, 109.21843687, 110.22044088, 111.22244489,\n",
              "       112.2244489 , 113.22645291, 114.22845691, 115.23046092,\n",
              "       116.23246493, 117.23446894, 118.23647295, 119.23847695,\n",
              "       120.24048096, 121.24248497, 122.24448898, 123.24649299,\n",
              "       124.24849699, 125.250501  , 126.25250501, 127.25450902,\n",
              "       128.25651303, 129.25851703, 130.26052104, 131.26252505,\n",
              "       132.26452906, 133.26653307, 134.26853707, 135.27054108,\n",
              "       136.27254509, 137.2745491 , 138.27655311, 139.27855711,\n",
              "       140.28056112, 141.28256513, 142.28456914, 143.28657315,\n",
              "       144.28857715, 145.29058116, 146.29258517, 147.29458918,\n",
              "       148.29659319, 149.29859719, 150.3006012 , 151.30260521,\n",
              "       152.30460922, 153.30661323, 154.30861723, 155.31062124,\n",
              "       156.31262525, 157.31462926, 158.31663327, 159.31863727,\n",
              "       160.32064128, 161.32264529, 162.3246493 , 163.32665331,\n",
              "       164.32865731, 165.33066132, 166.33266533, 167.33466934,\n",
              "       168.33667335, 169.33867735, 170.34068136, 171.34268537,\n",
              "       172.34468938, 173.34669339, 174.34869739, 175.3507014 ,\n",
              "       176.35270541, 177.35470942, 178.35671343, 179.35871743,\n",
              "       180.36072144, 181.36272545, 182.36472946, 183.36673347,\n",
              "       184.36873747, 185.37074148, 186.37274549, 187.3747495 ,\n",
              "       188.37675351, 189.37875752, 190.38076152, 191.38276553,\n",
              "       192.38476954, 193.38677355, 194.38877756, 195.39078156,\n",
              "       196.39278557, 197.39478958, 198.39679359, 199.3987976 ,\n",
              "       200.4008016 , 201.40280561, 202.40480962, 203.40681363,\n",
              "       204.40881764, 205.41082164, 206.41282565, 207.41482966,\n",
              "       208.41683367, 209.41883768, 210.42084168, 211.42284569,\n",
              "       212.4248497 , 213.42685371, 214.42885772, 215.43086172,\n",
              "       216.43286573, 217.43486974, 218.43687375, 219.43887776,\n",
              "       220.44088176, 221.44288577, 222.44488978, 223.44689379,\n",
              "       224.4488978 , 225.4509018 , 226.45290581, 227.45490982,\n",
              "       228.45691383, 229.45891784, 230.46092184, 231.46292585,\n",
              "       232.46492986, 233.46693387, 234.46893788, 235.47094188,\n",
              "       236.47294589, 237.4749499 , 238.47695391, 239.47895792,\n",
              "       240.48096192, 241.48296593, 242.48496994, 243.48697395,\n",
              "       244.48897796, 245.49098196, 246.49298597, 247.49498998,\n",
              "       248.49699399, 249.498998  , 250.501002  , 251.50300601,\n",
              "       252.50501002, 253.50701403, 254.50901804, 255.51102204,\n",
              "       256.51302605, 257.51503006, 258.51703407, 259.51903808,\n",
              "       260.52104208, 261.52304609, 262.5250501 , 263.52705411,\n",
              "       264.52905812, 265.53106212, 266.53306613, 267.53507014,\n",
              "       268.53707415, 269.53907816, 270.54108216, 271.54308617,\n",
              "       272.54509018, 273.54709419, 274.5490982 , 275.5511022 ,\n",
              "       276.55310621, 277.55511022, 278.55711423, 279.55911824,\n",
              "       280.56112224, 281.56312625, 282.56513026, 283.56713427,\n",
              "       284.56913828, 285.57114228, 286.57314629, 287.5751503 ,\n",
              "       288.57715431, 289.57915832, 290.58116232, 291.58316633,\n",
              "       292.58517034, 293.58717435, 294.58917836, 295.59118236,\n",
              "       296.59318637, 297.59519038, 298.59719439, 299.5991984 ,\n",
              "       300.6012024 , 301.60320641, 302.60521042, 303.60721443,\n",
              "       304.60921844, 305.61122244, 306.61322645, 307.61523046,\n",
              "       308.61723447, 309.61923848, 310.62124248, 311.62324649,\n",
              "       312.6252505 , 313.62725451, 314.62925852, 315.63126253,\n",
              "       316.63326653, 317.63527054, 318.63727455, 319.63927856,\n",
              "       320.64128257, 321.64328657, 322.64529058, 323.64729459,\n",
              "       324.6492986 , 325.65130261, 326.65330661, 327.65531062,\n",
              "       328.65731463, 329.65931864, 330.66132265, 331.66332665,\n",
              "       332.66533066, 333.66733467, 334.66933868, 335.67134269,\n",
              "       336.67334669, 337.6753507 , 338.67735471, 339.67935872,\n",
              "       340.68136273, 341.68336673, 342.68537074, 343.68737475,\n",
              "       344.68937876, 345.69138277, 346.69338677, 347.69539078,\n",
              "       348.69739479, 349.6993988 , 350.70140281, 351.70340681,\n",
              "       352.70541082, 353.70741483, 354.70941884, 355.71142285,\n",
              "       356.71342685, 357.71543086, 358.71743487, 359.71943888,\n",
              "       360.72144289, 361.72344689, 362.7254509 , 363.72745491,\n",
              "       364.72945892, 365.73146293, 366.73346693, 367.73547094,\n",
              "       368.73747495, 369.73947896, 370.74148297, 371.74348697,\n",
              "       372.74549098, 373.74749499, 374.749499  , 375.75150301,\n",
              "       376.75350701, 377.75551102, 378.75751503, 379.75951904,\n",
              "       380.76152305, 381.76352705, 382.76553106, 383.76753507,\n",
              "       384.76953908, 385.77154309, 386.77354709, 387.7755511 ,\n",
              "       388.77755511, 389.77955912, 390.78156313, 391.78356713,\n",
              "       392.78557114, 393.78757515, 394.78957916, 395.79158317,\n",
              "       396.79358717, 397.79559118, 398.79759519, 399.7995992 ,\n",
              "       400.80160321, 401.80360721, 402.80561122, 403.80761523,\n",
              "       404.80961924, 405.81162325, 406.81362725, 407.81563126,\n",
              "       408.81763527, 409.81963928, 410.82164329, 411.82364729,\n",
              "       412.8256513 , 413.82765531, 414.82965932, 415.83166333,\n",
              "       416.83366733, 417.83567134, 418.83767535, 419.83967936,\n",
              "       420.84168337, 421.84368737, 422.84569138, 423.84769539,\n",
              "       424.8496994 , 425.85170341, 426.85370741, 427.85571142,\n",
              "       428.85771543, 429.85971944, 430.86172345, 431.86372745,\n",
              "       432.86573146, 433.86773547, 434.86973948, 435.87174349,\n",
              "       436.87374749, 437.8757515 , 438.87775551, 439.87975952,\n",
              "       440.88176353, 441.88376754, 442.88577154, 443.88777555,\n",
              "       444.88977956, 445.89178357, 446.89378758, 447.89579158,\n",
              "       448.89779559, 449.8997996 , 450.90180361, 451.90380762,\n",
              "       452.90581162, 453.90781563, 454.90981964, 455.91182365,\n",
              "       456.91382766, 457.91583166, 458.91783567, 459.91983968,\n",
              "       460.92184369, 461.9238477 , 462.9258517 , 463.92785571,\n",
              "       464.92985972, 465.93186373, 466.93386774, 467.93587174,\n",
              "       468.93787575, 469.93987976, 470.94188377, 471.94388778,\n",
              "       472.94589178, 473.94789579, 474.9498998 , 475.95190381,\n",
              "       476.95390782, 477.95591182, 478.95791583, 479.95991984,\n",
              "       480.96192385, 481.96392786, 482.96593186, 483.96793587,\n",
              "       484.96993988, 485.97194389, 486.9739479 , 487.9759519 ,\n",
              "       488.97795591, 489.97995992, 490.98196393, 491.98396794,\n",
              "       492.98597194, 493.98797595, 494.98997996, 495.99198397,\n",
              "       496.99398798, 497.99599198, 498.99799599, 500.        ])"
            ]
          },
          "metadata": {},
          "execution_count": 80
        }
      ]
    },
    {
      "cell_type": "code",
      "source": [
        "## download the file courrpteddata.csv first in PC & then upload here\n",
        "\n",
        "Xlist = list(range(0,500,1))\n",
        "Ylist = Xlist\n",
        "inputxls = []\n",
        "inputyls = []\n",
        "outputzls = []\n",
        "\n",
        "for x in Xlist:\n",
        "  for y in Ylist:\n",
        "    z = dflist[x][y]\n",
        "\n",
        "    inputxls.append(x)\n",
        "    inputyls.append(y)\n",
        "    outputzls.append(z)\n",
        "\n",
        "len(outputzls)\n",
        "\n",
        "fig = plt.figure()\n",
        "ax = fig.add_subplot(111, projection = '3d')\n",
        "cf = ax.plot_trisurf(inputxls, inputyls, outputzls, cmap='coolwarm')\n",
        "plt.colorbar(cf)\n",
        "plt.show()"
      ],
      "metadata": {
        "colab": {
          "base_uri": "https://localhost:8080/",
          "height": 248
        },
        "id": "gWovS1T29WZg",
        "outputId": "a1e3565c-dcf6-4377-8112-8fcc3a3b1b10"
      },
      "execution_count": null,
      "outputs": [
        {
          "output_type": "display_data",
          "data": {
            "text/plain": [
              "<Figure size 432x288 with 2 Axes>"
            ],
            "image/png": "[encoded data removed]"
          },
          "metadata": {
            "needs_background": "light"
          }
        }
      ]
    },
    {
      "cell_type": "markdown",
      "source": [
        "# 4. Sequential vs Multiprocessing Techniques "
      ],
      "metadata": {
        "id": "4PAJr7736DrA"
      }
    },
    {
      "cell_type": "code",
      "source": [
        "## Integration by Sequential Technique\n",
        "\n",
        "import numpy as np\n",
        "import matplotlib.pyplot as plt\n",
        "\n",
        "xls = np.linspace(-5, 5, 100)\n",
        "yls = xls\n",
        "fxy_ls = []\n",
        "SUM_ONE = 0\n",
        "fxy_One = []\n",
        "fxy_Zero = []\n",
        "\n",
        "for x in xls:\n",
        "  for y in yls:\n",
        "    fxy = (3*x*x*y*y) - (x*y) + 1\n",
        "    if fxy > np.pi :\n",
        "      fxy_ls.append(1)\n",
        "      #SUM_ONE = SUM_ONE + 1 \n",
        "      fxy_One.append(1)\n",
        "    else :\n",
        "      fxy_ls.append(0)\n",
        "      fxy_Zero.append(1)\n",
        "\n",
        "a = np.array(fxy_ls).reshape(len(yls),len(yls))\n",
        "\n",
        "AllArea = 10 * 10\n",
        "Proba_All = (len(xls)**2)\n",
        "Proba_White = len(fxy_One)\n",
        "\n",
        "WhiteArea = (AllArea) * (Proba_White/Proba_All)\n",
        "print('Area of white zone = %s' % WhiteArea)\n",
        "\n",
        "fig,ax=plt.subplots(1,1)\n",
        "cp = ax.contourf(xls, yls, a)\n",
        "fig.colorbar(cp) # Add a colorbar to a plot\n",
        "plt.show()"
      ],
      "metadata": {
        "id": "foiw9kiL6fRX",
        "colab": {
          "base_uri": "https://localhost:8080/"
        },
        "outputId": "4d49a671-196d-4459-99ca-14d47a823946"
      },
      "execution_count": null,
      "outputs": [
        {
          "output_type": "stream",
          "name": "stdout",
          "text": [
            "Area of white zone = 85.39999999999999\n"
          ]
        },
        {
          "output_type": "display_data",
          "data": {
            "text/plain": [
              "<Figure size 432x288 with 2 Axes>"
            ],
            "image/png": "[encoded data removed]"
          },
          "metadata": {
            "needs_background": "light"
          }
        }
      ]
    },
    {
      "cell_type": "code",
      "source": [
        "## Integration By Multiprocess Technique\n",
        "\n",
        "import os\n",
        "import multiprocessing\n",
        "import numpy as np\n",
        "import matplotlib.pyplot as plt\n",
        "\n",
        "def Function(xls,yls,fxy_ls,fxy_One):\n",
        "\n",
        "    pid = os.getpid()\n",
        "    print('Function = PID: %s ' % (pid))\n",
        "    for x in xls:\n",
        "        for y in yls:\n",
        "            fxy = (3*x*x*y*y) - (x*y) + 1\n",
        "            if fxy > np.pi:\n",
        "                AppendList(1, fxy_ls)\n",
        "                fxy_One.append(1)\n",
        "            else:\n",
        "                AppendList(0,fxy_ls)\n",
        "\n",
        "\n",
        "def AppendList(x,fxy_ls):\n",
        "   \n",
        "    fxy_ls.append(x)\n",
        "\n",
        "\n",
        "def Plotgraph(xls,yls,fxy_ls):\n",
        "\n",
        "    pid = os.getpid()\n",
        "    print('Plotting Graph = PID: %s ' % (pid))\n",
        "    Z = np.array(fxy_ls).reshape(len(xls), len(yls))\n",
        "    fig, ax = plt.subplots(1, 1)\n",
        "    cp = ax.contourf(xls, yls, Z)\n",
        "    fig.colorbar(cp)\n",
        "    plt.show()\n",
        "\n",
        "def Approx_Area(xls, fxy_One):\n",
        "\n",
        "    pid = os.getpid()\n",
        "    print('Approximate Area = PID: %s ' % (pid))\n",
        "    AllArea = 10 * 10\n",
        "    Proba_All = (len(xls) ** 2)\n",
        "    Proba_White = len(fxy_One)\n",
        "\n",
        "    WhiteArea = (AllArea) * (Proba_White / Proba_All)\n",
        "    print('\\nArea of white zone = %s' % WhiteArea)\n",
        "\n",
        "if __name__ == '__main__':\n",
        "    with multiprocessing.Manager() as manager:\n",
        "        fxy_ls = manager.list([])\n",
        "        fxy_One = manager.list([])\n",
        "\n",
        "        print('Start')\n",
        "        print('\\nMultiprocessing\\n')\n",
        "\n",
        "        N = 100     # N higher, approximation more accurate\n",
        "        xls = np.linspace(-5, 5, N)\n",
        "        yls = xls\n",
        "\n",
        "        p1 = multiprocessing.Process(target=Function, args=(xls, yls, fxy_ls,fxy_One))\n",
        "        p2 = multiprocessing.Process(target=Plotgraph, args=(xls, yls, fxy_ls,))\n",
        "        p3 = multiprocessing.Process(target=Approx_Area, args=(xls,fxy_One,))\n",
        "\n",
        "        p1.start()\n",
        "        p1.join()\n",
        "\n",
        "        p2.start()\n",
        "        p3.start()\n",
        "        p2.join()\n",
        "        p3.join()\n",
        "\n",
        "        print('\\nEND')"
      ],
      "metadata": {
        "id": "KFmtkuY0Akza",
        "colab": {
          "base_uri": "https://localhost:8080/"
        },
        "outputId": "3f8e3f2b-9d02-4949-e76b-f2ca710bb8fc"
      },
      "execution_count": null,
      "outputs": [
        {
          "output_type": "stream",
          "name": "stdout",
          "text": [
            "Start\n",
            "\n",
            "Multiprocessing\n",
            "\n",
            "Function = PID: 1693 \n",
            "Plotting Graph = PID: 1701 \n",
            "Approximate Area = PID: 1706 \n",
            "\n",
            "Area of white zone = 85.39999999999999\n"
          ]
        },
        {
          "output_type": "display_data",
          "data": {
            "text/plain": [
              "<Figure size 432x288 with 2 Axes>"
            ],
            "image/png": "[encoded data removed]"
          },
          "metadata": {
            "needs_background": "light"
          }
        },
        {
          "output_type": "stream",
          "name": "stdout",
          "text": [
            "\n",
            "END\n"
          ]
        }
      ]
    },
    {
      "cell_type": "markdown",
      "source": [
        "# 5. Integration Method : Trapezoid vs Monte Carlo"
      ],
      "metadata": {
        "id": "s8cbgBzC6gKv"
      }
    },
    {
      "cell_type": "code",
      "source": [
        "import numpy as np \n",
        "from matplotlib import pyplot as plt \n",
        "\n",
        "def f1(x):\n",
        "  return np.exp(-np.power(x, 2)+1) / np.exp(np.power(x, 2)+1)\n",
        "\n",
        "a = -1\n",
        "b = 1\n",
        "\n",
        "xls = np.linspace(a,b, 100)\n",
        "yls = f1(xls)\n",
        "plt.plot(xls, yls)"
      ],
      "metadata": {
        "colab": {
          "base_uri": "https://localhost:8080/"
        },
        "id": "XaTtfHon6r0-",
        "outputId": "3478b5e5-59ed-4974-b09f-f36425e43e6d"
      },
      "execution_count": null,
      "outputs": [
        {
          "output_type": "execute_result",
          "data": {
            "text/plain": [
              "[<matplotlib.lines.Line2D at 0x7f95f3750590>]"
            ]
          },
          "metadata": {},
          "execution_count": 84
        },
        {
          "output_type": "display_data",
          "data": {
            "text/plain": [
              "<Figure size 432x288 with 1 Axes>"
            ],
            "image/png": "[encoded data removed]"
          },
          "metadata": {
            "needs_background": "light"
          }
        }
      ]
    },
    {
      "cell_type": "code",
      "source": [
        "# Trapezoid Method\n",
        "\n",
        "mls = [100, 1000, 10000, 100000, 1000000]\n",
        "a = -1 \n",
        "b = 1 \n",
        "m = 100\n",
        "\n",
        "#z = (b1 - a1) / (m - 1)\n",
        "#x = np.linspace(a1, b1, m)\n",
        "#y = f1(x)\n",
        "\n",
        "for m in mls: \n",
        "  z = (b - a) / (m - 1)\n",
        "  x = np.linspace(a, b, m)\n",
        "  y = f1(x)\n",
        "\n",
        "  integration = (z/2)*(y[0] + 2 * sum(y[1:m-1]) + y[m-1])\n",
        "  pererrm = (1.19629 -integration)/1.19629 * 100\n",
        "\n",
        "  print('n: %s integration value: %f Percentage error: %f' % (m, integration, pererrm))"
      ],
      "metadata": {
        "colab": {
          "base_uri": "https://localhost:8080/"
        },
        "id": "rii2jZXfBnRK",
        "outputId": "54f5d24b-3e89-4099-f2f4-7867164216c4"
      },
      "execution_count": null,
      "outputs": [
        {
          "output_type": "stream",
          "name": "stdout",
          "text": [
            "n: 100 integration value: 1.196251 Percentage error: 0.003244\n",
            "n: 1000 integration value: 1.196288 Percentage error: 0.000196\n",
            "n: 10000 integration value: 1.196288 Percentage error: 0.000166\n",
            "n: 100000 integration value: 1.196288 Percentage error: 0.000166\n",
            "n: 1000000 integration value: 1.196288 Percentage error: 0.000166\n"
          ]
        }
      ]
    },
    {
      "cell_type": "code",
      "source": [
        "# MonteCarlo Method\n",
        "\n",
        "nls = [100, 1000, 10000, 100000, 1000000]\n",
        "a = -1 \n",
        "b = 1 \n",
        "\n",
        "for n in nls:\n",
        "  xsample = np.random.normal (loc=0.0, scale=0.5, size = n)\n",
        "  interval = ((b-a)/n) * (sum(f1(xsample)))\n",
        "  pererr = (1.19629-interval)/1.19629 * 100\n",
        "\n",
        "  print('n: %s integration value: %.4f Percentage error: %.3f' % (n, interval, pererr))"
      ],
      "metadata": {
        "colab": {
          "base_uri": "https://localhost:8080/"
        },
        "id": "INtBv9bWBpQc",
        "outputId": "3087da43-2301-450b-c4dd-17db02eb09bc"
      },
      "execution_count": null,
      "outputs": [
        {
          "output_type": "stream",
          "name": "stdout",
          "text": [
            "n: 100 integration value: 1.4264 Percentage error: -19.233\n",
            "n: 1000 integration value: 1.3910 Percentage error: -16.274\n",
            "n: 10000 integration value: 1.4194 Percentage error: -18.648\n",
            "n: 100000 integration value: 1.4149 Percentage error: -18.271\n",
            "n: 1000000 integration value: 1.4145 Percentage error: -18.238\n"
          ]
        }
      ]
    },
    {
      "cell_type": "code",
      "source": [
        "# More points (number of n) used to approximate the integration value of the given function, more precise will be the result. \n",
        "# Trapezoid Method generated more precise integration value to be compared with Monte Carlo Method in approximating the \n",
        "# integration value of the given function. "
      ],
      "metadata": {
        "id": "LRzlSpkGB1pb"
      },
      "execution_count": null,
      "outputs": []
    },
    {
      "cell_type": "markdown",
      "source": [
        "# 6. Monte Carlo Simulations"
      ],
      "metadata": {
        "id": "sZU8dm346som"
      }
    },
    {
      "cell_type": "code",
      "source": [
        "## Monte Carlo Simulation 1\n",
        "\n",
        "import numpy as np \n",
        "from matplotlib import pyplot as plt \n",
        "import random\n",
        "\n",
        "def fx(x) :\n",
        "  fx = 1/(1+np.power(x,2)) + 1/(1+np.power(x,4)) + 1/(1+np.power(x,6)) + 1/(1+np.power(x,8))\n",
        "  return fx\n",
        "\n",
        "a = -np.pi\n",
        "b = np.pi\n",
        "xls = np.linspace(a,b,100)\n",
        "yls = fx(xls)\n",
        "plt.plot(xls,yls)\n",
        "\n",
        "n = 100 \n",
        "xsample = np.random.random(size = n)\n",
        "plt.hist(xsample, bins=25)\n",
        "\n",
        "# MC integeration formula\n",
        "interval = (b - a / n) * (sum(fx(xsample)))\n",
        "\n",
        "print('=',interval)"
      ],
      "metadata": {
        "id": "Pt5j9Nlu6y9v",
        "colab": {
          "base_uri": "https://localhost:8080/"
        },
        "outputId": "6520c355-ae2f-4e47-b410-a386ce844c85"
      },
      "execution_count": null,
      "outputs": [
        {
          "output_type": "stream",
          "name": "stdout",
          "text": [
            "= 1112.8449116954182\n"
          ]
        },
        {
          "output_type": "display_data",
          "data": {
            "text/plain": [
              "<Figure size 432x288 with 1 Axes>"
            ],
            "image/png": "[encoded data removed]"
          },
          "metadata": {
            "needs_background": "light"
          }
        }
      ]
    },
    {
      "cell_type": "code",
      "source": [
        "## Monte Carlo Simulation 2\n",
        "## Integration using Random Uniform Distribution and Monte Carlo Method\n",
        "\n",
        "import numpy as np \n",
        "from matplotlib import pyplot as plt \n",
        "import random\n",
        "\n",
        "def fx(x) :\n",
        "  fx = 1/(1+np.power(x,2)) + 1/(1+np.power(x,4)) + 1/(1+np.power(x,6)) + 1/(1+np.power(x,8))\n",
        "  return fx\n",
        "\n",
        "# True value = 10.9039\n",
        "\n",
        "nls = [10,100, 1000, 10000, 100000, 1000000]\n",
        "a = -np.pi \n",
        "b = np.pi\n",
        "\n",
        "for n in nls:\n",
        "  xsample = np.random.uniform(low = a, high = b, size = n)\n",
        "  interval = ((b-a)/n) * (sum(fx(xsample)))\n",
        "  pererr = (10.9039-interval)/10.9039 * 100\n",
        "\n",
        "  print('n: %s intergeration value: %.4f Percentage error: %.3f' % (n, interval, pererr))"
      ],
      "metadata": {
        "id": "EGAkqlv_CuNd",
        "colab": {
          "base_uri": "https://localhost:8080/"
        },
        "outputId": "402e4df7-bea5-4ade-b4ac-ae796a166b0c"
      },
      "execution_count": null,
      "outputs": [
        {
          "output_type": "stream",
          "name": "stdout",
          "text": [
            "n: 10 intergeration value: 6.5558 Percentage error: 39.876\n",
            "n: 100 intergeration value: 6.3850 Percentage error: 41.443\n",
            "n: 1000 intergeration value: 8.7586 Percentage error: 19.675\n",
            "n: 10000 intergeration value: 8.8198 Percentage error: 19.113\n",
            "n: 100000 intergeration value: 8.8382 Percentage error: 18.945\n",
            "n: 1000000 intergeration value: 8.8680 Percentage error: 18.672\n"
          ]
        }
      ]
    },
    {
      "cell_type": "code",
      "source": [
        "## Monte Carlo Simulation 3\n",
        "## Integration using Monte Carlo Method if 3 Different Shapes of Line Graph\n",
        "\n",
        "import numpy as np \n",
        "from matplotlib import pyplot as plt \n",
        "import random\n",
        "\n",
        "def fx(x) :\n",
        "  fx = 1/(1+np.power(x,2)) + 1/(1+np.power(x,4)) + 1/(1+np.power(x,6)) + 1/(1+np.power(x,8))\n",
        "  plt.plot(fx)\n",
        "  return fx\n",
        "\n",
        "n1 = 100\n",
        "a1 = -2\n",
        "b1 = -0.5\n",
        "  \n",
        "xgausssample = []\n",
        "while len(xgausssample) < n1:\n",
        "  x1 = np.random.normal(loc=0.0, scale=0.5)\n",
        "  if x1 > a and x1 < b:\n",
        "    xgausssample.append(x1)\n",
        "\n",
        "i1 = ((b-a)/n1) * (sum(fx(xgausssample)))\n",
        "\n",
        "n2 = 1000\n",
        "a2 = -0.5\n",
        "b2 = 0.5\n",
        "\n",
        "xsample = np.random.uniform(low = a2, high = b2, size = n2)\n",
        "i2 = ((b2-a2)/n2) * (sum(fx(xsample)))\n",
        "\n",
        "n3 = 100\n",
        "a3 = 0.5\n",
        "b3 = 2\n",
        "  \n",
        "xgausssample2 = []\n",
        "while len(xgausssample2) < n3:\n",
        "  x3 = np.random.normal(loc=0.0, scale=0.5)\n",
        "  if x3 > a3 and x3 < b3:\n",
        "    xgausssample2.append(x3)\n",
        "\n",
        "i3 = ((b3 - a3) / n3) * (sum(fx(xgausssample2)))\n",
        "\n",
        "interval = i1 + i2 + i3\n",
        "interval"
      ],
      "metadata": {
        "id": "MVN87ImiC-ZY",
        "outputId": "33c5a836-5490-45e1-84e5-3a8c09131116",
        "colab": {
          "base_uri": "https://localhost:8080/"
        }
      },
      "execution_count": null,
      "outputs": [
        {
          "output_type": "execute_result",
          "data": {
            "text/plain": [
              "31.502625383165665"
            ]
          },
          "metadata": {},
          "execution_count": 90
        },
        {
          "output_type": "display_data",
          "data": {
            "text/plain": [
              "<Figure size 432x288 with 1 Axes>"
            ],
            "image/png": "[encoded data removed]"
          },
          "metadata": {
            "needs_background": "light"
          }
        }
      ]
    },
    {
      "cell_type": "markdown",
      "source": [
        "# 7. Solve Ordinary Differential Equation by Euler Method"
      ],
      "metadata": {
        "id": "rZiM_JtV60Kl"
      }
    },
    {
      "cell_type": "code",
      "source": [
        "import numpy as np\n",
        "from matplotlib import pyplot as plt\n",
        "from scipy.integrate import solve_ivp\n",
        "\n",
        "# Euler Method\n",
        "# y(x+h) = y(x) + y'(x)h\n",
        "# y(0) = 1\n",
        "\n",
        "def euler_method(x, y, h):\n",
        "  return y + (10 * x * y * h)\n",
        "\n",
        "xls1 = []\n",
        "yls1 = []\n",
        "\n",
        "h = 0.0001\n",
        "xmax = 1\n",
        "x = 0\n",
        "y = 1\n",
        "\n",
        "while x < xmax:\n",
        "  \n",
        "  y = euler_method(x, y, h)\n",
        "\n",
        "  xls1.append(x)\n",
        "  yls1.append(y)\n",
        "  \n",
        "  x += h\n",
        "\n",
        "plt.plot(xls1, yls1)"
      ],
      "metadata": {
        "id": "suneIt9C62K4",
        "colab": {
          "base_uri": "https://localhost:8080/"
        },
        "outputId": "9ca7d61c-c7e6-4bc0-8a2c-d01895fb431d"
      },
      "execution_count": null,
      "outputs": [
        {
          "output_type": "execute_result",
          "data": {
            "text/plain": [
              "[<matplotlib.lines.Line2D at 0x7f95fda6a190>]"
            ]
          },
          "metadata": {},
          "execution_count": 91
        },
        {
          "output_type": "display_data",
          "data": {
            "text/plain": [
              "<Figure size 432x288 with 1 Axes>"
            ],
            "image/png": "[encoded data removed]"
          },
          "metadata": {
            "needs_background": "light"
          }
        }
      ]
    },
    {
      "cell_type": "markdown",
      "source": [
        "# 8. Solve Linear Equations by Inversed Matrix"
      ],
      "metadata": {
        "id": "07u9XzSS62po"
      }
    },
    {
      "cell_type": "code",
      "source": [
        "import numpy as np\n",
        "from numpy.linalg import inv\n",
        "\n",
        "#3.0001x + 5.0001y - 6.9999z = 10.001\n",
        "#6.0002x + 4.9999y - 10.0001z = 8.999\n",
        "#5.9999x + 10.0001y - 11.999z = 19.998\n",
        "\n",
        "A = np.array([[3.0001, 5.0001, -6.9999],[6.0002, 4.9999, -10.0001],[5.9999, 10.0001, -11.999]])\n",
        "B = np.array([[[10.001], [8.999], [19.998]]])\n",
        "X = np.linalg.inv(A).dot(B)\n",
        "\n",
        "print(X)"
      ],
      "metadata": {
        "colab": {
          "base_uri": "https://localhost:8080/"
        },
        "id": "JGHgnCBd64SP",
        "outputId": "5d3327d4-0f95-48b0-d3a5-5b99c0e22e5a"
      },
      "execution_count": null,
      "outputs": [
        {
          "output_type": "stream",
          "name": "stdout",
          "text": [
            "[[[-3.35781988e-01]]\n",
            "\n",
            " [[ 2.19891646e+00]]\n",
            "\n",
            " [[-1.93964562e-03]]]\n"
          ]
        }
      ]
    },
    {
      "cell_type": "markdown",
      "source": [
        "# 9. 3D Graph Plotting"
      ],
      "metadata": {
        "id": "osq1R8vU65BH"
      }
    },
    {
      "cell_type": "code",
      "source": [
        "import numpy as np\n",
        "from mpl_toolkits.mplot3d import Axes3D\n",
        "\n",
        "xls = []\n",
        "yls = []\n",
        "zls = []\n",
        "\n",
        "for x in np.linspace(np.pi,-np.pi,201):\n",
        "  for y in np.linspace(np.pi,-np.pi,201):\n",
        "    xls.append(x)\n",
        "    yls.append(y)\n",
        "    zls.append(y**2 *np.sin(x) - x**2 *np.cos(x))\n",
        "\n",
        "mx = max(zls)\n",
        "print ('Maximum point is %f' %mx)\n",
        "mn = min(zls)\n",
        "print ('Minimum point is %f' %mn)\n",
        "\n",
        "fig=plt.figure()\n",
        "ax=fig.add_subplot(111,projection='3d')\n",
        "ax.plot_trisurf(xls,yls,zls,cmap='coolwarm')\n",
        "plt.show()\n"
      ],
      "metadata": {
        "colab": {
          "base_uri": "https://localhost:8080/",
          "height": 283
        },
        "id": "fRgoR_l1HMhJ",
        "outputId": "74a11da9-c52f-4010-ef4f-7ad096bc28d9"
      },
      "execution_count": null,
      "outputs": [
        {
          "output_type": "stream",
          "name": "stdout",
          "text": [
            "Maximum point is 10.917798\n",
            "Minimum point is -10.060742\n"
          ]
        },
        {
          "output_type": "display_data",
          "data": {
            "text/plain": [
              "<Figure size 432x288 with 1 Axes>"
            ],
            "image/png": "[encoded data removed]"
          },
          "metadata": {
            "needs_background": "light"
          }
        }
      ]
    },
    {
      "cell_type": "code",
      "source": [
        "import numpy as np\n",
        "import matplotlib.pyplot as plt\n",
        "from matplotlib import cm\n",
        "from matplotlib.ticker import LinearLocator, FormatStrFormatter\n",
        "from mpl_toolkits.mplot3d import Axes3D\n",
        "\n",
        "## Matplotlib Sample Code using 2D arrays via meshgrid\n",
        "X = np.arange(-5, 5, 0.25)\n",
        "Y = np.arange(-5, 5, 0.25)\n",
        "X, Y = np.meshgrid(X, Y)\n",
        "R = np.sqrt(X ** 2 + Y ** 2)\n",
        "Z = np.sin(R)\n",
        "fig = plt.figure()\n",
        "ax = Axes3D(fig)\n",
        "surf = ax.plot_surface(X, Y, Z, rstride=1, cstride=1, cmap=cm.coolwarm,\n",
        "                       linewidth=0, antialiased=False)\n",
        "ax.set_zlim(-1.01, 1.01)\n",
        "\n",
        "ax.zaxis.set_major_locator(LinearLocator(10))\n",
        "ax.zaxis.set_major_formatter(FormatStrFormatter('%.02f'))\n",
        "\n",
        "fig.colorbar(surf, shrink=0.5, aspect=5)\n",
        "plt.title('Original Code')\n",
        "plt.show()"
      ],
      "metadata": {
        "id": "zifRe_pG667w",
        "colab": {
          "base_uri": "https://localhost:8080/",
          "height": 319
        },
        "outputId": "c7d28e2a-0ff2-45f6-82ef-3e3e3d1de1e9"
      },
      "execution_count": null,
      "outputs": [
        {
          "output_type": "display_data",
          "data": {
            "text/plain": [
              "<Figure size 432x288 with 2 Axes>"
            ],
            "image/png": "[encoded data removed]"
          },
          "metadata": {
            "needs_background": "light"
          }
        }
      ]
    },
    {
      "cell_type": "markdown",
      "source": [
        "# 10. Interpolation : Lagrange vs Cubic Spline"
      ],
      "metadata": {
        "id": "6KMXO5ti675W"
      }
    },
    {
      "cell_type": "code",
      "source": [
        "import numpy as np \n",
        "from numpy import log as ln\n",
        "from matplotlib import pyplot as plt\n",
        "from scipy.interpolate import lagrange, CubicSpline\n",
        "\n",
        "xls = [-3,-2,-1,0,1,2,3]\n",
        "yls = [np.exp((-(x-2)**2)/8) for x in xls]\n",
        "\n",
        "flag = lagrange(xls,yls)\n",
        "fcubspl = CubicSpline(xls,yls)\n",
        "\n",
        "newxls = np.linspace(-3,3,40)\n",
        "newyls_lag = flag(newxls)\n",
        "newyls_cbsp = fcubspl(newxls)\n",
        "\n",
        "plt.scatter(xls, yls)\n",
        "plt.plot(newxls,newyls_lag,label='lagrange')\n",
        "plt.plot(newxls,newyls_cbsp,label='CubicSpline')\n",
        "plt.legend()"
      ],
      "metadata": {
        "colab": {
          "base_uri": "https://localhost:8080/"
        },
        "id": "nRXSpZiA693P",
        "outputId": "437785a4-3f1b-42fe-c6d0-9887207beac1"
      },
      "execution_count": null,
      "outputs": [
        {
          "output_type": "execute_result",
          "data": {
            "text/plain": [
              "<matplotlib.legend.Legend at 0x7f95fde65dd0>"
            ]
          },
          "metadata": {},
          "execution_count": 94
        },
        {
          "output_type": "display_data",
          "data": {
            "text/plain": [
              "<Figure size 432x288 with 1 Axes>"
            ],
            "image/png": "[encoded data removed]"
          },
          "metadata": {
            "needs_background": "light"
          }
        }
      ]
    },
    {
      "cell_type": "markdown",
      "source": [
        "# 11. Lagrange Interpolation"
      ],
      "metadata": {
        "id": "CfAnnTT46_HH"
      }
    },
    {
      "cell_type": "code",
      "source": [
        "## Before Interpolate (Lagrange)\n",
        "\n",
        "import numpy as np\n",
        "from numpy import log as ln\n",
        "from matplotlib import pyplot as plt\n",
        "from scipy.interpolate import lagrange\n",
        "\n",
        "xls = np.linspace(0,4,100)\n",
        "yls = [(3*x**2)*(ln(x**2))-(x**4) for x in xls]\n",
        "\n",
        "plt.scatter(xls, yls)"
      ],
      "metadata": {
        "id": "Y3gIgj2qbsIp",
        "colab": {
          "base_uri": "https://localhost:8080/"
        },
        "outputId": "7bfba89d-94e1-4807-b79c-da6e0d08ad08"
      },
      "execution_count": null,
      "outputs": [
        {
          "output_type": "stream",
          "name": "stderr",
          "text": [
            "/usr/local/lib/python3.7/dist-packages/ipykernel_launcher.py:9: RuntimeWarning:\n",
            "\n",
            "divide by zero encountered in log\n",
            "\n",
            "/usr/local/lib/python3.7/dist-packages/ipykernel_launcher.py:9: RuntimeWarning:\n",
            "\n",
            "invalid value encountered in double_scalars\n",
            "\n"
          ]
        },
        {
          "output_type": "execute_result",
          "data": {
            "text/plain": [
              "<matplotlib.collections.PathCollection at 0x7f961fb10bd0>"
            ]
          },
          "metadata": {},
          "execution_count": 95
        },
        {
          "output_type": "display_data",
          "data": {
            "text/plain": [
              "<Figure size 432x288 with 1 Axes>"
            ],
            "image/png": "[encoded data removed]"
          },
          "metadata": {
            "needs_background": "light"
          }
        }
      ]
    },
    {
      "cell_type": "code",
      "source": [
        "## After Interpolate (Lagrange)\n",
        "\n",
        "import numpy as np \n",
        "from numpy import log as ln\n",
        "from matplotlib import pyplot as plt\n",
        "from scipy.interpolate import lagrange\n",
        "\n",
        "xls = np.linspace(0,4,10)\n",
        "yls = [(3*x**2)*(ln(x**2))-(x**4) for x in xls]\n",
        "\n",
        "flag = lagrange(xls,yls)\n",
        "\n",
        "newxls = np.linspace(-3,3,10)\n",
        "newyls = flag(newxls)\n",
        "\n",
        "plt.scatter(xls, yls)\n",
        "plt.plot(newxls,newyls,label='lagrange')\n",
        "plt.legend()"
      ],
      "metadata": {
        "id": "Y-TPgu7M7Baf",
        "colab": {
          "base_uri": "https://localhost:8080/"
        },
        "outputId": "ad9b532c-8206-443a-eeda-2a45b40b1aaf"
      },
      "execution_count": null,
      "outputs": [
        {
          "output_type": "stream",
          "name": "stderr",
          "text": [
            "/usr/local/lib/python3.7/dist-packages/ipykernel_launcher.py:9: RuntimeWarning:\n",
            "\n",
            "divide by zero encountered in log\n",
            "\n",
            "/usr/local/lib/python3.7/dist-packages/ipykernel_launcher.py:9: RuntimeWarning:\n",
            "\n",
            "invalid value encountered in double_scalars\n",
            "\n"
          ]
        },
        {
          "output_type": "execute_result",
          "data": {
            "text/plain": [
              "<matplotlib.legend.Legend at 0x7f961e1ecb90>"
            ]
          },
          "metadata": {},
          "execution_count": 96
        },
        {
          "output_type": "display_data",
          "data": {
            "text/plain": [
              "<Figure size 432x288 with 1 Axes>"
            ],
            "image/png": "[encoded data removed]"
          },
          "metadata": {
            "needs_background": "light"
          }
        }
      ]
    },
    {
      "cell_type": "markdown",
      "source": [
        "# 12. Cubic Spline Interpolation"
      ],
      "metadata": {
        "id": "l6baAhJjdCiU"
      }
    },
    {
      "cell_type": "code",
      "source": [
        "import numpy as np\n",
        "from matplotlib import pyplot as plt\n",
        "from scipy.interpolate import CubicSpline\n",
        "\n",
        "xls=[0.05,0.2,0.5,0.75]\n",
        "yls=[-4.812e-4,-2.72e-2,-3.125e-1,-7.383e-1]\n",
        "\n",
        "plt.scatter(xls, yls)\n",
        "plt.plot(xls, yls)"
      ],
      "metadata": {
        "id": "yjh3Y_FgdG4l",
        "colab": {
          "base_uri": "https://localhost:8080/"
        },
        "outputId": "2edb981b-37f3-4226-8b44-80523d5a4f52"
      },
      "execution_count": null,
      "outputs": [
        {
          "output_type": "execute_result",
          "data": {
            "text/plain": [
              "[<matplotlib.lines.Line2D at 0x7f95ff05ac10>]"
            ]
          },
          "metadata": {},
          "execution_count": 97
        },
        {
          "output_type": "display_data",
          "data": {
            "text/plain": [
              "<Figure size 432x288 with 1 Axes>"
            ],
            "image/png": "[encoded data removed]"
          },
          "metadata": {
            "needs_background": "light"
          }
        }
      ]
    },
    {
      "cell_type": "markdown",
      "source": [
        "# 13. Solve Linear Equations by Inversed Matrix"
      ],
      "metadata": {
        "id": "fyzO5is46_J-"
      }
    },
    {
      "cell_type": "code",
      "source": [
        "import numpy as np\n",
        "from numpy.linalg import inv\n",
        "\n",
        "#3.0001x + 5.0001y - 6.9999z = 10.001\n",
        "#6.0002x + 4.9999y - 10.0001z = 8.999\n",
        "#5.9999x + 10.0001y - 11.999z = 19.998\n",
        "\n",
        "A = np.array([[3.0001, 5.0001, -6.9999],[6.0002, 4.9999, -10.0001],[5.9999, 10.0001, -11.999]])\n",
        "B = np.array([[[10.001], [8.999], [19.998]]])\n",
        "X = np.linalg.inv(A).dot(B)\n",
        "\n",
        "print(X)"
      ],
      "metadata": {
        "id": "03owyA0n7DY2",
        "colab": {
          "base_uri": "https://localhost:8080/"
        },
        "outputId": "9b26453a-2873-4a9b-bbe2-e79617c3f988"
      },
      "execution_count": null,
      "outputs": [
        {
          "output_type": "stream",
          "name": "stdout",
          "text": [
            "[[[-3.35781988e-01]]\n",
            "\n",
            " [[ 2.19891646e+00]]\n",
            "\n",
            " [[-1.93964562e-03]]]\n"
          ]
        }
      ]
    },
    {
      "cell_type": "markdown",
      "source": [
        "# 14. Matrix Multiplication\n"
      ],
      "metadata": {
        "id": "XBjmQBHacqrs"
      }
    },
    {
      "cell_type": "code",
      "source": [
        "import numpy as np\n",
        " \n",
        "als = [1,2,3,4,5]\n",
        "bls = [6,7,8,9,10]\n",
        "cls = []\n",
        "for val_a, val_b, in zip(als, bls) : \n",
        "  cls.append (val_a*val_b)\n",
        "cls"
      ],
      "metadata": {
        "id": "y7EGyrxnczCv",
        "colab": {
          "base_uri": "https://localhost:8080/"
        },
        "outputId": "e7909631-211b-4d5e-a17d-3310c01a25e7"
      },
      "execution_count": null,
      "outputs": [
        {
          "output_type": "execute_result",
          "data": {
            "text/plain": [
              "[6, 14, 24, 36, 50]"
            ]
          },
          "metadata": {},
          "execution_count": 99
        }
      ]
    },
    {
      "cell_type": "markdown",
      "source": [
        "# 15. Locating International Space Station (ISS)"
      ],
      "metadata": {
        "id": "GwIRoxWCd5Lm"
      }
    },
    {
      "cell_type": "code",
      "source": [
        "import plotly\n",
        "import plotly.graph_objs as go\n",
        "import pandas as pd\n",
        "import numpy as np\n",
        "x = np.linspace(0, 4.5,100)\n",
        "y = -1120.4*x*x+5742.3*x-4352.9;\n",
        "\n",
        "df = pd.read_csv('https://raw.githubusercontent.com/pcm-dpc/COVID-19/master/dati-andamento-nazionale/dpc-covid19-ita-andamento-nazionale.csv')\n",
        "# Create a trace\n",
        "data = [go.Scatter(\n",
        "    x = df['data'],\n",
        "    y = df['totale_positivi'],\n",
        ")]\n",
        "layout = go.Layout(\n",
        "        xaxis=dict(\n",
        "            title='Data',    \n",
        "        ),\n",
        "        yaxis=dict(\n",
        "            title='Totale positivi',  \n",
        "        )\n",
        "    )\n",
        "fig = go.Figure(data=data, layout=layout)\n",
        "fig"
      ],
      "metadata": {
        "id": "1oOZcg_TeCNZ",
        "colab": {
          "base_uri": "https://localhost:8080/"
        },
        "outputId": "2049aac5-d88a-4675-df38-70b76c1cfa1b"
      },
      "execution_count": null,
      "outputs": [
        {
          "output_type": "display_data",
          "data": {
            "text/html": [
              "<html>\n",
              "<head><meta charset=\"utf-8\" /></head>\n",
              "<body>\n",
              "    <div>            <script src=\"https://cdnjs.cloudflare.com/ajax/libs/mathjax/2.7.5/MathJax.js?config=TeX-AMS-MML_SVG\"></script><script type=\"text/javascript\">if (window.MathJax) {MathJax.Hub.Config({SVG: {font: \"STIX-Web\"}});}</script>                <script type=\"text/javascript\">window.PlotlyConfig = {MathJaxConfig: 'local'};</script>\n",
              "        <script src=\"https://cdn.plot.ly/plotly-2.8.3.min.js\"></script>                <div id=\"5ae5b465-f391-4fe3-ac32-6b4897912768\" class=\"plotly-graph-div\" style=\"height:525px; width:100%;\"></div>            <script type=\"text/javascript\">                                    window.PLOTLYENV=window.PLOTLYENV || {};                                    if (document.getElementById(\"5ae5b465-f391-4fe3-ac32-6b4897912768\")) {                    Plotly.newPlot(                        \"5ae5b465-f391-4fe3-ac32-6b4897912768\",                        [{\"x\":[\"2020-02-24T18:00:00\",\"2020-02-25T18:00:00\",\"2020-02-26T18:00:00\",\"2020-02-27T18:00:00\",\"2020-02-28T18:00:00\",\"2020-02-29T18:00:00\",\"2020-03-01T18:00:00\",\"2020-03-02T18:00:00\",\"2020-03-03T18:00:00\",\"2020-03-04T18:00:00\",\"2020-03-05T18:00:00\",\"2020-03-06T18:00:00\",\"2020-03-07T18:00:00\",\"2020-03-08T18:00:00\",\"2020-03-09T18:00:00\",\"2020-03-10T18:00:00\",\"2020-03-11T17:00:00\",\"2020-03-12T17:00:00\",\"2020-03-13T17:00:00\",\"2020-03-14T17:00:00\",\"2020-03-15T17:00:00\",\"2020-03-16T17:00:00\",\"2020-03-17T17:00:00\",\"2020-03-18T17:00:00\",\"2020-03-19T17:00:00\",\"2020-03-20T17:00:00\",\"2020-03-21T17:00:00\",\"2020-03-22T17:00:00\",\"2020-03-23T17:00:00\",\"2020-03-24T17:00:00\",\"2020-03-25T17:00:00\",\"2020-03-26T17:00:00\",\"2020-03-27T17:00:00\",\"2020-03-28T17:00:00\",\"2020-03-29T17:00:00\",\"2020-03-30T17:00:00\",\"2020-03-31T17:00:00\",\"2020-04-01T17:00:00\",\"2020-04-02T17:00:00\",\"2020-04-03T17:00:00\",\"2020-04-04T17:00:00\",\"2020-04-05T17:00:00\",\"2020-04-06T17:00:00\",\"2020-04-07T17:00:00\",\"2020-04-08T17:00:00\",\"2020-04-09T17:00:00\",\"2020-04-10T17:00:00\",\"2020-04-11T17:00:00\",\"2020-04-12T17:00:00\",\"2020-04-13T17:00:00\",\"2020-04-14T17:00:00\",\"2020-04-15T17:00:00\",\"2020-04-16T17:00:00\",\"2020-04-17T17:00:00\",\"2020-04-18T17:00:00\",\"2020-04-19T17:00:00\",\"2020-04-20T17:00:00\",\"2020-04-21T17:00:00\",\"2020-04-22T17:00:00\",\"2020-04-23T17:00:00\",\"2020-04-24T17:00:00\",\"2020-04-25T17:00:00\",\"2020-04-26T17:00:00\",\"2020-04-27T17:00:00\",\"2020-04-28T17:00:00\",\"2020-04-29T17:00:00\",\"2020-04-30T17:00:00\",\"2020-05-01T17:00:00\",\"2020-05-02T17:00:00\",\"2020-05-03T17:00:00\",\"2020-05-04T17:00:00\",\"2020-05-05T17:00:00\",\"2020-05-06T17:00:00\",\"2020-05-07T17:00:00\",\"2020-05-08T17:00:00\",\"2020-05-09T17:00:00\",\"2020-05-10T17:00:00\",\"2020-05-11T17:00:00\",\"2020-05-12T17:00:00\",\"2020-05-13T17:00:00\",\"2020-05-14T17:00:00\",\"2020-05-15T17:00:00\",\"2020-05-16T17:00:00\",\"2020-05-17T17:00:00\",\"2020-05-18T17:00:00\",\"2020-05-19T17:00:00\",\"2020-05-20T17:00:00\",\"2020-05-21T17:00:00\",\"2020-05-22T17:00:00\",\"2020-05-23T17:00:00\",\"2020-05-24T17:00:00\",\"2020-05-25T17:00:00\",\"2020-05-26T17:00:00\",\"2020-05-27T17:00:00\",\"2020-05-28T17:00:00\",\"2020-05-29T17:00:00\",\"2020-05-30T17:00:00\",\"2020-05-31T17:00:00\",\"2020-06-01T17:00:00\",\"2020-06-02T17:00:00\",\"2020-06-03T17:00:00\",\"2020-06-04T17:00:00\",\"2020-06-05T17:00:00\",\"2020-06-06T17:00:00\",\"2020-06-07T17:00:00\",\"2020-06-08T17:00:00\",\"2020-06-09T17:00:00\",\"2020-06-10T17:00:00\",\"2020-06-11T17:00:00\",\"2020-06-12T17:00:00\",\"2020-06-13T17:00:00\",\"2020-06-14T17:00:00\",\"2020-06-15T17:00:00\",\"2020-06-16T17:00:00\",\"2020-06-17T17:00:00\",\"2020-06-18T17:00:00\",\"2020-06-19T17:00:00\",\"2020-06-20T17:00:00\",\"2020-06-21T17:00:00\",\"2020-06-22T17:00:00\",\"2020-06-23T17:00:00\",\"2020-06-24T17:00:00\",\"2020-06-25T17:00:00\",\"2020-06-26T17:00:00\",\"2020-06-27T17:00:00\",\"2020-06-28T17:00:00\",\"2020-06-29T17:00:00\",\"2020-06-30T17:00:00\",\"2020-07-01T17:00:00\",\"2020-07-02T17:00:00\",\"2020-07-03T17:00:00\",\"2020-07-04T17:00:00\",\"2020-07-05T17:00:00\",\"2020-07-06T17:00:00\",\"2020-07-07T17:00:00\",\"2020-07-08T17:00:00\",\"2020-07-09T17:00:00\",\"2020-07-10T17:00:00\",\"2020-07-11T17:00:00\",\"2020-07-12T17:00:00\",\"2020-07-13T17:00:00\",\"2020-07-14T17:00:00\",\"2020-07-15T17:00:00\",\"2020-07-16T17:00:00\",\"2020-07-17T17:00:00\",\"2020-07-18T17:00:00\",\"2020-07-19T17:00:00\",\"2020-07-20T17:00:00\",\"2020-07-21T17:00:00\",\"2020-07-22T17:00:00\",\"2020-07-23T17:00:00\",\"2020-07-24T17:00:00\",\"2020-07-25T17:00:00\",\"2020-07-26T17:00:00\",\"2020-07-27T17:00:00\",\"2020-07-28T17:00:00\",\"2020-07-29T17:00:00\",\"2020-07-30T17:00:00\",\"2020-07-31T17:00:00\",\"2020-08-01T17:00:00\",\"2020-08-02T17:00:00\",\"2020-08-03T17:00:00\",\"2020-08-04T17:00:00\",\"2020-08-05T17:00:00\",\"2020-08-06T17:00:00\",\"2020-08-07T17:00:00\",\"2020-08-08T17:00:00\",\"2020-08-09T17:00:00\",\"2020-08-10T17:00:00\",\"2020-08-11T17:00:00\",\"2020-08-12T17:00:00\",\"2020-08-13T17:00:00\",\"2020-08-14T17:00:00\",\"2020-08-15T17:00:00\",\"2020-08-16T17:00:00\",\"2020-08-17T17:00:00\",\"2020-08-18T17:00:00\",\"2020-08-19T17:00:00\",\"2020-08-20T17:00:00\",\"2020-08-21T17:00:00\",\"2020-08-22T17:00:00\",\"2020-08-23T17:00:00\",\"2020-08-24T17:00:00\",\"2020-08-25T17:00:00\",\"2020-08-26T17:00:00\",\"2020-08-27T17:00:00\",\"2020-08-28T17:00:00\",\"2020-08-29T17:00:00\",\"2020-08-30T17:00:00\",\"2020-08-31T17:00:00\",\"2020-09-01T17:00:00\",\"2020-09-02T17:00:00\",\"2020-09-03T17:00:00\",\"2020-09-04T17:00:00\",\"2020-09-05T17:00:00\",\"2020-09-06T17:00:00\",\"2020-09-07T17:00:00\",\"2020-09-08T17:00:00\",\"2020-09-09T17:00:00\",\"2020-09-10T17:00:00\",\"2020-09-11T17:00:00\",\"2020-09-12T17:00:00\",\"2020-09-13T17:00:00\",\"2020-09-14T17:00:00\",\"2020-09-15T17:00:00\",\"2020-09-16T17:00:00\",\"2020-09-17T17:00:00\",\"2020-09-18T17:00:00\",\"2020-09-19T17:00:00\",\"2020-09-20T17:00:00\",\"2020-09-21T17:00:00\",\"2020-09-22T17:00:00\",\"2020-09-23T17:00:00\",\"2020-09-24T17:00:00\",\"2020-09-25T17:00:00\",\"2020-09-26T17:00:00\",\"2020-09-27T17:00:00\",\"2020-09-28T17:00:00\",\"2020-09-29T17:00:00\",\"2020-09-30T17:00:00\",\"2020-10-01T17:00:00\",\"2020-10-02T17:00:00\",\"2020-10-03T17:00:00\",\"2020-10-04T17:00:00\",\"2020-10-05T17:00:00\",\"2020-10-06T17:00:00\",\"2020-10-07T17:00:00\",\"2020-10-08T17:00:00\",\"2020-10-09T17:00:00\",\"2020-10-10T17:00:00\",\"2020-10-11T17:00:00\",\"2020-10-12T17:00:00\",\"2020-10-13T17:00:00\",\"2020-10-14T17:00:00\",\"2020-10-15T17:00:00\",\"2020-10-16T17:00:00\",\"2020-10-17T17:00:00\",\"2020-10-18T17:00:00\",\"2020-10-19T17:00:00\",\"2020-10-20T17:00:00\",\"2020-10-21T17:00:00\",\"2020-10-22T17:00:00\",\"2020-10-23T17:00:00\",\"2020-10-24T17:00:00\",\"2020-10-25T17:00:00\",\"2020-10-26T17:00:00\",\"2020-10-27T17:00:00\",\"2020-10-28T17:00:00\",\"2020-10-29T17:00:00\",\"2020-10-30T17:00:00\",\"2020-10-31T17:00:00\",\"2020-11-01T17:00:00\",\"2020-11-02T17:00:00\",\"2020-11-03T17:00:00\",\"2020-11-04T17:00:00\",\"2020-11-05T17:00:00\",\"2020-11-06T17:00:00\",\"2020-11-07T17:00:00\",\"2020-11-08T17:00:00\",\"2020-11-09T17:00:00\",\"2020-11-10T17:00:00\",\"2020-11-11T17:00:00\",\"2020-11-12T17:00:00\",\"2020-11-13T17:00:00\",\"2020-11-14T17:00:00\",\"2020-11-15T17:00:00\",\"2020-11-16T17:00:00\",\"2020-11-17T17:00:00\",\"2020-11-18T17:00:00\",\"2020-11-19T17:00:00\",\"2020-11-20T17:00:00\",\"2020-11-21T17:00:00\",\"2020-11-22T17:00:00\",\"2020-11-23T17:00:00\",\"2020-11-24T17:00:00\",\"2020-11-25T17:00:00\",\"2020-11-26T17:00:00\",\"2020-11-27T17:00:00\",\"2020-11-28T17:00:00\",\"2020-11-29T17:00:00\",\"2020-11-30T17:00:00\",\"2020-12-01T17:00:00\",\"2020-12-02T17:00:00\",\"2020-12-03T17:00:00\",\"2020-12-04T17:00:00\",\"2020-12-05T17:00:00\",\"2020-12-06T17:00:00\",\"2020-12-07T17:00:00\",\"2020-12-08T17:00:00\",\"2020-12-09T17:00:00\",\"2020-12-10T17:00:00\",\"2020-12-11T17:00:00\",\"2020-12-12T17:00:00\",\"2020-12-13T17:00:00\",\"2020-12-14T17:00:00\",\"2020-12-15T17:00:00\",\"2020-12-16T17:00:00\",\"2020-12-17T17:00:00\",\"2020-12-18T17:00:00\",\"2020-12-19T17:00:00\",\"2020-12-20T17:00:00\",\"2020-12-21T17:00:00\",\"2020-12-22T17:00:00\",\"2020-12-23T17:00:00\",\"2020-12-24T17:00:00\",\"2020-12-25T17:00:00\",\"2020-12-26T17:00:00\",\"2020-12-27T17:00:00\",\"2020-12-28T17:00:00\",\"2020-12-29T17:00:00\",\"2020-12-30T17:00:00\",\"2020-12-31T17:00:00\",\"2021-01-01T17:00:00\",\"2021-01-02T17:00:00\",\"2021-01-03T17:00:00\",\"2021-01-04T17:00:00\",\"2021-01-05T17:00:00\",\"2021-01-06T17:00:00\",\"2021-01-07T17:00:00\",\"2021-01-08T17:00:00\",\"2021-01-09T17:00:00\",\"2021-01-10T17:00:00\",\"2021-01-11T17:00:00\",\"2021-01-12T17:00:00\",\"2021-01-13T17:00:00\",\"2021-01-14T17:00:00\",\"2021-01-15T17:00:00\",\"2021-01-16T17:00:00\",\"2021-01-17T17:00:00\",\"2021-01-18T17:00:00\",\"2021-01-19T17:00:00\",\"2021-01-20T17:00:00\",\"2021-01-21T17:00:00\",\"2021-01-22T17:00:00\",\"2021-01-23T17:00:00\",\"2021-01-24T17:00:00\",\"2021-01-25T17:00:00\",\"2021-01-26T17:00:00\",\"2021-01-27T17:00:00\",\"2021-01-28T17:00:00\",\"2021-01-29T17:00:00\",\"2021-01-30T17:00:00\",\"2021-01-31T17:00:00\",\"2021-02-01T17:00:00\",\"2021-02-02T17:00:00\",\"2021-02-03T17:00:00\",\"2021-02-04T17:00:00\",\"2021-02-05T17:00:00\",\"2021-02-06T17:00:00\",\"2021-02-07T17:00:00\",\"2021-02-08T17:00:00\",\"2021-02-09T17:00:00\",\"2021-02-10T17:00:00\",\"2021-02-11T17:00:00\",\"2021-02-12T17:00:00\",\"2021-02-13T17:00:00\",\"2021-02-14T17:00:00\",\"2021-02-15T17:00:00\",\"2021-02-16T17:00:00\",\"2021-02-17T17:00:00\",\"2021-02-18T17:00:00\",\"2021-02-19T17:00:00\",\"2021-02-20T17:00:00\",\"2021-02-21T17:00:00\",\"2021-02-22T17:00:00\",\"2021-02-23T17:00:00\",\"2021-02-24T17:00:00\",\"2021-02-25T17:00:00\",\"2021-02-26T17:00:00\",\"2021-02-27T17:00:00\",\"2021-02-28T17:00:00\",\"2021-03-01T17:00:00\",\"2021-03-02T17:00:00\",\"2021-03-03T17:00:00\",\"2021-03-04T17:00:00\",\"2021-03-05T17:00:00\",\"2021-03-06T17:00:00\",\"2021-03-07T17:00:00\",\"2021-03-08T17:00:00\",\"2021-03-09T17:00:00\",\"2021-03-10T17:00:00\",\"2021-03-11T17:00:00\",\"2021-03-12T17:00:00\",\"2021-03-13T17:00:00\",\"2021-03-14T17:00:00\",\"2021-03-15T17:00:00\",\"2021-03-16T17:00:00\",\"2021-03-17T17:00:00\",\"2021-03-18T17:00:00\",\"2021-03-19T17:00:00\",\"2021-03-20T17:00:00\",\"2021-03-21T17:00:00\",\"2021-03-22T17:00:00\",\"2021-03-23T17:00:00\",\"2021-03-24T17:00:00\",\"2021-03-25T17:00:00\",\"2021-03-26T17:00:00\",\"2021-03-27T17:00:00\",\"2021-03-28T17:00:00\",\"2021-03-29T17:00:00\",\"2021-03-30T17:00:00\",\"2021-03-31T17:00:00\",\"2021-04-01T17:00:00\",\"2021-04-02T17:00:00\",\"2021-04-03T17:00:00\",\"2021-04-04T17:00:00\",\"2021-04-05T17:00:00\",\"2021-04-06T17:00:00\",\"2021-04-07T17:00:00\",\"2021-04-08T17:00:00\",\"2021-04-09T17:00:00\",\"2021-04-10T17:00:00\",\"2021-04-11T17:00:00\",\"2021-04-12T17:00:00\",\"2021-04-13T17:00:00\",\"2021-04-14T17:00:00\",\"2021-04-15T17:00:00\",\"2021-04-16T17:00:00\",\"2021-04-17T17:00:00\",\"2021-04-18T17:00:00\",\"2021-04-19T17:00:00\",\"2021-04-20T17:00:00\",\"2021-04-21T17:00:00\",\"2021-04-22T17:00:00\",\"2021-04-23T17:00:00\",\"2021-04-24T17:00:00\",\"2021-04-25T17:00:00\",\"2021-04-26T17:00:00\",\"2021-04-27T17:00:00\",\"2021-04-28T17:00:00\",\"2021-04-29T17:00:00\",\"2021-04-30T17:00:00\",\"2021-05-01T17:00:00\",\"2021-05-02T17:00:00\",\"2021-05-03T17:00:00\",\"2021-05-04T17:00:00\",\"2021-05-05T17:00:00\",\"2021-05-06T17:00:00\",\"2021-05-07T17:00:00\",\"2021-05-08T17:00:00\",\"2021-05-09T17:00:00\",\"2021-05-10T17:00:00\",\"2021-05-11T17:00:00\",\"2021-05-12T17:00:00\",\"2021-05-13T17:00:00\",\"2021-05-14T17:00:00\",\"2021-05-15T17:00:00\",\"2021-05-16T17:00:00\",\"2021-05-17T17:00:00\",\"2021-05-18T17:00:00\",\"2021-05-19T17:00:00\",\"2021-05-20T17:00:00\",\"2021-05-21T17:00:00\",\"2021-05-22T17:00:00\",\"2021-05-23T17:00:00\",\"2021-05-24T17:00:00\",\"2021-05-25T17:00:00\",\"2021-05-26T17:00:00\",\"2021-05-27T17:00:00\",\"2021-05-28T17:00:00\",\"2021-05-29T17:00:00\",\"2021-05-30T17:00:00\",\"2021-05-31T17:00:00\",\"2021-06-01T17:00:00\",\"2021-06-02T17:00:00\",\"2021-06-03T17:00:00\",\"2021-06-04T17:00:00\",\"2021-06-05T17:00:00\",\"2021-06-06T17:00:00\",\"2021-06-07T17:00:00\",\"2021-06-08T17:00:00\",\"2021-06-09T17:00:00\",\"2021-06-10T17:00:00\",\"2021-06-11T17:00:00\",\"2021-06-12T17:00:00\",\"2021-06-13T17:00:00\",\"2021-06-14T17:00:00\",\"2021-06-15T17:00:00\",\"2021-06-16T17:00:00\",\"2021-06-17T17:00:00\",\"2021-06-18T17:00:00\",\"2021-06-19T17:00:00\",\"2021-06-20T17:00:00\",\"2021-06-21T17:00:00\",\"2021-06-22T17:00:00\",\"2021-06-23T17:00:00\",\"2021-06-24T17:00:00\",\"2021-06-25T17:00:00\",\"2021-06-26T17:00:00\",\"2021-06-27T17:00:00\",\"2021-06-28T17:00:00\",\"2021-06-29T17:00:00\",\"2021-06-30T17:00:00\",\"2021-07-01T17:00:00\",\"2021-07-02T17:00:00\",\"2021-07-03T17:00:00\",\"2021-07-04T17:00:00\",\"2021-07-05T17:00:00\",\"2021-07-06T17:00:00\",\"2021-07-07T17:00:00\",\"2021-07-08T17:00:00\",\"2021-07-09T17:00:00\",\"2021-07-10T17:00:00\",\"2021-07-11T17:00:00\",\"2021-07-12T17:00:00\",\"2021-07-13T17:00:00\",\"2021-07-14T17:00:00\",\"2021-07-15T17:00:00\",\"2021-07-16T17:00:00\",\"2021-07-17T17:00:00\",\"2021-07-18T17:00:00\",\"2021-07-19T17:00:00\",\"2021-07-20T17:00:00\",\"2021-07-21T17:00:00\",\"2021-07-22T17:00:00\",\"2021-07-23T17:00:00\",\"2021-07-24T17:00:00\",\"2021-07-25T17:00:00\",\"2021-07-26T17:00:00\",\"2021-07-27T17:00:00\",\"2021-07-28T17:00:00\",\"2021-07-29T17:00:00\",\"2021-07-30T17:00:00\",\"2021-07-31T17:00:00\",\"2021-08-01T17:00:00\",\"2021-08-02T17:00:00\",\"2021-08-03T17:00:00\",\"2021-08-04T17:00:00\",\"2021-08-05T17:00:00\",\"2021-08-06T17:00:00\",\"2021-08-07T17:00:00\",\"2021-08-08T17:00:00\",\"2021-08-09T17:00:00\",\"2021-08-10T17:00:00\",\"2021-08-11T17:00:00\",\"2021-08-12T17:00:00\",\"2021-08-13T17:00:00\",\"2021-08-14T17:00:00\",\"2021-08-15T17:00:00\",\"2021-08-16T17:00:00\",\"2021-08-17T17:00:00\",\"2021-08-18T17:00:00\",\"2021-08-19T17:00:00\",\"2021-08-20T17:00:00\",\"2021-08-21T17:00:00\",\"2021-08-22T17:00:00\",\"2021-08-23T17:00:00\",\"2021-08-24T17:00:00\",\"2021-08-25T17:00:00\",\"2021-08-26T17:00:00\",\"2021-08-27T17:00:00\",\"2021-08-28T17:00:00\",\"2021-08-29T17:00:00\",\"2021-08-30T17:00:00\",\"2021-08-31T17:00:00\",\"2021-09-01T17:00:00\",\"2021-09-02T17:00:00\",\"2021-09-03T17:00:00\",\"2021-09-04T17:00:00\",\"2021-09-05T17:00:00\",\"2021-09-06T17:00:00\",\"2021-09-07T17:00:00\",\"2021-09-08T17:00:00\",\"2021-09-09T17:00:00\",\"2021-09-10T17:00:00\",\"2021-09-11T17:00:00\",\"2021-09-12T17:00:00\",\"2021-09-13T17:00:00\",\"2021-09-14T17:00:00\",\"2021-09-15T17:00:00\",\"2021-09-16T17:00:00\",\"2021-09-17T17:00:00\",\"2021-09-18T17:00:00\",\"2021-09-19T17:00:00\",\"2021-09-20T17:00:00\",\"2021-09-21T17:00:00\",\"2021-09-22T17:00:00\",\"2021-09-23T17:00:00\",\"2021-09-24T17:00:00\",\"2021-09-25T17:00:00\",\"2021-09-26T17:00:00\",\"2021-09-27T17:00:00\",\"2021-09-28T17:00:00\",\"2021-09-29T17:00:00\",\"2021-09-30T17:00:00\",\"2021-10-01T17:00:00\",\"2021-10-02T17:00:00\",\"2021-10-03T17:00:00\",\"2021-10-04T17:00:00\",\"2021-10-05T17:00:00\",\"2021-10-06T17:00:00\",\"2021-10-07T17:00:00\",\"2021-10-08T17:00:00\",\"2021-10-09T17:00:00\",\"2021-10-10T17:00:00\",\"2021-10-11T17:00:00\",\"2021-10-12T17:00:00\",\"2021-10-13T17:00:00\",\"2021-10-14T17:00:00\",\"2021-10-15T17:00:00\",\"2021-10-16T17:00:00\",\"2021-10-17T17:00:00\",\"2021-10-18T17:00:00\",\"2021-10-19T17:00:00\",\"2021-10-20T17:00:00\",\"2021-10-21T17:00:00\",\"2021-10-22T17:00:00\",\"2021-10-23T17:00:00\",\"2021-10-24T17:00:00\",\"2021-10-25T17:00:00\",\"2021-10-26T17:00:00\",\"2021-10-27T17:00:00\",\"2021-10-28T17:00:00\",\"2021-10-29T17:00:00\",\"2021-10-30T17:00:00\",\"2021-10-31T17:00:00\",\"2021-11-01T17:00:00\",\"2021-11-02T17:00:00\",\"2021-11-03T17:00:00\",\"2021-11-04T17:00:00\",\"2021-11-05T17:00:00\",\"2021-11-06T17:00:00\",\"2021-11-07T17:00:00\",\"2021-11-08T17:00:00\",\"2021-11-09T17:00:00\",\"2021-11-10T17:00:00\",\"2021-11-11T17:00:00\",\"2021-11-12T17:00:00\",\"2021-11-13T17:00:00\",\"2021-11-14T17:00:00\",\"2021-11-15T17:00:00\",\"2021-11-16T17:00:00\",\"2021-11-17T17:00:00\",\"2021-11-18T17:00:00\",\"2021-11-19T17:00:00\",\"2021-11-20T17:00:00\",\"2021-11-21T17:00:00\",\"2021-11-22T17:00:00\",\"2021-11-23T17:00:00\",\"2021-11-24T17:00:00\",\"2021-11-25T17:00:00\",\"2021-11-26T17:00:00\",\"2021-11-27T17:00:00\",\"2021-11-28T17:00:00\",\"2021-11-29T17:00:00\",\"2021-11-30T17:00:00\",\"2021-12-01T17:00:00\",\"2021-12-02T17:00:00\",\"2021-12-03T17:00:00\",\"2021-12-04T17:00:00\",\"2021-12-05T17:00:00\",\"2021-12-06T17:00:00\",\"2021-12-07T17:00:00\",\"2021-12-08T17:00:00\",\"2021-12-09T17:00:00\",\"2021-12-10T17:00:00\",\"2021-12-11T17:00:00\",\"2021-12-12T17:00:00\",\"2021-12-13T17:00:00\",\"2021-12-14T17:00:00\",\"2021-12-15T17:00:00\",\"2021-12-16T17:00:00\",\"2021-12-17T17:00:00\",\"2021-12-18T17:00:00\",\"2021-12-19T17:00:00\",\"2021-12-20T17:00:00\",\"2021-12-21T17:00:00\",\"2021-12-22T17:00:00\",\"2021-12-23T17:00:00\",\"2021-12-24T17:00:00\",\"2021-12-25T17:00:00\",\"2021-12-26T17:00:00\",\"2021-12-27T17:00:00\",\"2021-12-28T17:00:00\",\"2021-12-29T17:00:00\",\"2021-12-30T17:00:00\",\"2021-12-31T17:00:00\",\"2022-01-01T17:00:00\",\"2022-01-02T17:00:00\",\"2022-01-03T17:00:00\",\"2022-01-04T17:00:00\",\"2022-01-05T17:00:00\",\"2022-01-06T17:00:00\",\"2022-01-07T17:00:00\",\"2022-01-08T17:00:00\",\"2022-01-09T17:00:00\",\"2022-01-10T17:00:00\",\"2022-01-11T17:00:00\",\"2022-01-12T17:00:00\",\"2022-01-13T17:00:00\",\"2022-01-14T17:00:00\",\"2022-01-15T17:00:00\",\"2022-01-16T17:00:00\",\"2022-01-17T17:00:00\",\"2022-01-18T17:00:00\",\"2022-01-19T17:00:00\",\"2022-01-20T17:00:00\",\"2022-01-21T17:00:00\",\"2022-01-22T17:00:00\",\"2022-01-23T17:00:00\",\"2022-01-24T17:00:00\",\"2022-01-25T17:00:00\",\"2022-01-26T17:00:00\",\"2022-01-27T17:00:00\",\"2022-01-28T17:00:00\",\"2022-01-29T17:00:00\",\"2022-01-30T17:00:00\",\"2022-01-31T17:00:00\",\"2022-02-01T17:00:00\",\"2022-02-02T17:00:00\",\"2022-02-03T17:00:00\",\"2022-02-04T17:00:00\",\"2022-02-05T17:00:00\",\"2022-02-06T17:00:00\",\"2022-02-07T17:00:00\",\"2022-02-08T17:00:00\",\"2022-02-09T17:00:00\",\"2022-02-10T17:00:00\",\"2022-02-11T17:00:00\",\"2022-02-12T17:00:00\",\"2022-02-13T17:00:00\",\"2022-02-14T17:00:00\",\"2022-02-15T17:00:00\",\"2022-02-16T17:00:00\",\"2022-02-17T17:00:00\",\"2022-02-18T17:00:00\",\"2022-02-19T17:00:00\",\"2022-02-20T17:00:00\",\"2022-02-21T17:00:00\",\"2022-02-22T17:00:00\",\"2022-02-23T17:00:00\",\"2022-02-24T17:00:00\",\"2022-02-25T17:00:00\",\"2022-02-26T17:00:00\",\"2022-02-27T17:00:00\",\"2022-02-28T17:00:00\",\"2022-03-01T17:00:00\",\"2022-03-02T17:00:00\",\"2022-03-03T17:00:00\",\"2022-03-04T17:00:00\",\"2022-03-05T17:00:00\",\"2022-03-06T17:00:00\",\"2022-03-07T17:00:00\",\"2022-03-08T17:00:00\",\"2022-03-09T17:00:00\",\"2022-03-10T17:00:00\",\"2022-03-11T17:00:00\",\"2022-03-12T17:00:00\",\"2022-03-13T17:00:00\",\"2022-03-14T17:00:00\",\"2022-03-15T17:00:00\",\"2022-03-16T17:00:00\",\"2022-03-17T17:00:00\",\"2022-03-18T17:00:00\",\"2022-03-19T17:00:00\",\"2022-03-20T17:00:00\",\"2022-03-21T17:00:00\",\"2022-03-22T17:00:00\",\"2022-03-23T17:00:00\",\"2022-03-24T17:00:00\",\"2022-03-25T17:00:00\",\"2022-03-26T17:00:00\",\"2022-03-27T17:00:00\",\"2022-03-28T17:00:00\",\"2022-03-29T17:00:00\",\"2022-03-30T17:00:00\",\"2022-03-31T17:00:00\",\"2022-04-01T17:00:00\",\"2022-04-02T17:00:00\",\"2022-04-03T17:00:00\",\"2022-04-04T17:00:00\",\"2022-04-05T17:00:00\",\"2022-04-06T17:00:00\",\"2022-04-07T17:00:00\",\"2022-04-08T17:00:00\",\"2022-04-09T17:00:00\",\"2022-04-10T17:00:00\",\"2022-04-11T17:00:00\",\"2022-04-12T17:00:00\",\"2022-04-13T17:00:00\",\"2022-04-14T17:00:00\",\"2022-04-15T17:00:00\",\"2022-04-16T17:00:00\",\"2022-04-17T17:00:00\",\"2022-04-18T17:00:00\",\"2022-04-19T17:00:00\",\"2022-04-20T17:00:00\",\"2022-04-21T17:00:00\",\"2022-04-22T17:00:00\",\"2022-04-23T17:00:00\",\"2022-04-24T17:00:00\",\"2022-04-25T17:00:00\",\"2022-04-26T17:00:00\",\"2022-04-27T17:00:00\",\"2022-04-28T17:00:00\",\"2022-04-29T17:00:00\",\"2022-04-30T17:00:00\",\"2022-05-01T17:00:00\",\"2022-05-02T17:00:00\",\"2022-05-03T17:00:00\",\"2022-05-04T17:00:00\",\"2022-05-05T17:00:00\",\"2022-05-06T17:00:00\",\"2022-05-07T17:00:00\",\"2022-05-08T17:00:00\",\"2022-05-09T17:00:00\",\"2022-05-10T17:00:00\",\"2022-05-11T17:00:00\",\"2022-05-12T17:00:00\",\"2022-05-13T17:00:00\",\"2022-05-14T17:00:00\",\"2022-05-15T17:00:00\",\"2022-05-16T17:00:00\",\"2022-05-17T17:00:00\",\"2022-05-18T17:00:00\",\"2022-05-19T17:00:00\",\"2022-05-20T17:00:00\",\"2022-05-21T17:00:00\",\"2022-05-22T17:00:00\",\"2022-05-23T17:00:00\",\"2022-05-24T17:00:00\",\"2022-05-25T17:00:00\",\"2022-05-26T17:00:00\",\"2022-05-27T17:00:00\",\"2022-05-28T17:00:00\",\"2022-05-29T17:00:00\",\"2022-05-30T17:00:00\",\"2022-05-31T17:00:00\",\"2022-06-01T17:00:00\",\"2022-06-02T17:00:00\",\"2022-06-03T17:00:00\",\"2022-06-04T17:00:00\",\"2022-06-05T17:00:00\",\"2022-06-06T17:00:00\",\"2022-06-07T17:00:00\",\"2022-06-08T17:00:00\",\"2022-06-09T17:00:00\",\"2022-06-10T17:00:00\",\"2022-06-11T17:00:00\",\"2022-06-12T17:00:00\",\"2022-06-13T17:00:00\",\"2022-06-14T17:00:00\",\"2022-06-15T17:00:00\",\"2022-06-16T17:00:00\",\"2022-06-17T17:00:00\",\"2022-06-18T17:00:00\",\"2022-06-19T17:00:00\",\"2022-06-20T17:00:00\",\"2022-06-21T17:00:00\",\"2022-06-22T17:00:00\",\"2022-06-23T17:00:00\",\"2022-06-24T17:00:00\",\"2022-06-25T17:00:00\",\"2022-06-26T17:00:00\",\"2022-06-27T17:00:00\",\"2022-06-28T17:00:00\",\"2022-06-29T17:00:00\",\"2022-06-30T17:00:00\",\"2022-07-01T17:00:00\",\"2022-07-02T17:00:00\",\"2022-07-03T17:00:00\",\"2022-07-04T17:00:00\",\"2022-07-05T17:00:00\",\"2022-07-06T17:00:00\",\"2022-07-07T17:00:00\",\"2022-07-08T17:00:00\",\"2022-07-09T17:00:00\",\"2022-07-10T17:00:00\",\"2022-07-11T17:00:00\",\"2022-07-12T17:00:00\",\"2022-07-13T17:00:00\",\"2022-07-14T17:00:00\",\"2022-07-15T17:00:00\"],\"y\":[221,311,385,588,821,1049,1577,1835,2263,2706,3296,3916,5061,6387,7985,8514,10590,12839,14955,17750,20603,23073,26062,28710,33190,37860,42681,46638,50418,54030,57521,62013,66414,70065,73880,75528,77635,80572,83049,85388,88274,91246,93187,94067,95262,96877,98273,100269,102253,103616,104291,105418,106607,106962,107771,108257,108237,107709,107699,106848,106527,105847,106103,105813,105205,104657,101551,100943,100704,100179,99980,98467,91528,89624,87961,84842,83324,82488,81266,78457,76440,72070,70187,68351,66553,65129,62752,60960,59322,57752,56594,55300,52942,50966,47986,46175,43691,42097,41367,39893,39297,38429,36976,35877,35262,34730,32872,31710,30637,28997,27485,26274,25909,24569,23925,23101,21543,21212,20972,20637,19573,18655,18303,17638,16836,16681,16496,15563,15255,15060,14884,14621,14642,14709,14242,13595,13459,13428,13303,13179,13157,12919,12493,12473,12456,12368,12440,12404,12248,12322,12404,12301,12442,12565,12581,12609,12616,12230,12422,12457,12456,12474,12482,12646,12694,12924,12953,13263,13368,13561,13791,14081,14249,14406,14733,14867,15089,15360,16014,16678,17503,18438,19195,19714,20753,21932,23035,24156,25205,26078,26754,27817,28915,30099,31194,32078,32993,33789,34734,35708,36767,37503,38509,39187,39712,40532,41413,42457,43161,44098,45079,45489,46114,46780,47718,48593,49618,50323,50630,51263,52647,53997,55566,57429,58903,60134,62576,65952,70110,74829,79075,82764,87193,92445,99266,107312,116935,126237,134003,142739,155442,169302,186002,203182,222241,236684,255090,276457,299191,325786,351386,378129,396512,418142,443235,472348,499118,532536,558636,573334,590110,613358,635054,663926,688435,712490,717784,733810,743168,761671,777176,791746,805947,796849,798386,791697,795845,787893,789308,795771,788471,779945,761230,759982,757702,754169,755306,748819,737525,710515,696527,690323,684848,686031,675109,663313,645706,635343,627798,620166,622760,613582,605955,598816,593632,579886,580943,581760,575221,568728,564395,569896,574767,577062,576214,570458,569161,568712,571055,570389,572842,579932,575979,570040,564774,561380,558068,557717,553374,547059,535524,523553,516568,502053,498834,499278,491630,482417,477969,474617,467824,463352,453968,447589,437765,434722,430277,429118,427034,427024,419604,413967,410111,405019,402174,401413,402783,398098,393686,388864,384501,382448,384623,388895,387903,387948,389433,396143,404664,411966,422367,424333,430996,437421,446439,456470,465812,472862,472533,478883,487074,497350,509317,520061,531266,530357,536115,539008,547510,556539,565453,571672,563067,560654,561308,562958,566711,571815,573172,565930,562765,561053,563479,565295,564855,569035,570096,555705,547837,544330,536361,533085,533005,524417,519220,514660,510023,506738,505308,504611,493489,482715,475635,472196,465543,461448,461212,452812,448149,442771,438709,436270,430542,430906,423558,413889,407129,402802,397564,390120,383854,373670,363859,352422,346008,339606,332830,328882,322891,315308,306730,299486,291788,283744,281092,276439,268145,260029,253193,246270,241966,238296,233674,225751,210050,205562,200192,195369,192272,188453,181726,174935,169309,165239,162409,160313,157790,105906,101855,98608,92072,89150,87710,76853,72964,68619,62309,60235,57732,57162,54682,52824,50441,49358,47779,45576,44664,43531,42579,41840,41469,41396,41015,41081,40426,40649,41700,40900,42714,43491,46113,47525,49310,51308,54866,58752,62523,66257,68236,70310,74161,78484,82962,87285,91350,93017,94216,97220,101046,104685,108535,112266,114855,116323,118761,121285,124250,126466,128528,128696,129116,128782,130502,131462,133421,134938,135555,135325,135724,137057,138118,139428,141047,141393,137925,136578,136898,137025,137039,136702,136020,133787,131581,129918,128489,127626,127334,125904,122340,118487,116342,114271,113040,113536,112514,109513,106559,105083,103556,102574,102244,101080,98872,95979,94308,93652,92749,92967,92096,90299,88247,87173,85926,85302,84808,84106,82546,80451,79368,78522,78071,77569,76363,74546,73668,73750,73729,74016,74775,74654,75046,75365,76778,78644,80381,82448,83722,84447,85287,87376,90356,93693,96987,98775,100205,102859,106920,110659,115112,119230,120875,123396,127085,132513,137130,143401,148760,151514,154510,159317,166598,172618,178946,186443,189643,194270,199783,208871,216154,223718,232000,235835,240894,249214,254553,263148,273882,284877,290757,297394,305653,317930,331968,347472,362275,369703,384144,402729,430029,460674,500466,516839,537504,598868,674865,779463,900984,1021793,1070537,1125052,1265297,1421117,1593579,1674071,1818893,1943979,2004597,2134139,2222060,2323518,2398828,2470847,2548857,2555278,2562156,2626590,2682041,2695703,2723949,2734906,2709857,2689262,2716581,2706453,2668828,2664648,2643817,2592606,2476514,2407626,2328230,2218344,2128543,2073248,1990701,1927800,1874625,1813274,1751125,1695614,1638673,1590615,1550410,1480113,1438208,1404122,1369778,1348347,1321971,1291793,1221423,1199228,1175924,1140558,1122278,1099934,1073230,1061610,1041462,1023787,1018831,1016341,1008360,1011521,1001922,971155,976479,985622,999504,1003239,1036124,1054167,1088217,1120221,1147519,1172824,1175280,1200607,1226890,1245803,1246281,1254383,1262891,1254056,1266878,1282816,1277044,1271487,1277611,1284016,1274305,1274388,1273857,1253056,1249607,1237865,1246556,1232762,1228745,1227858,1227662,1218924,1221338,1226038,1216843,1208279,1206900,1222813,1223122,1232229,1244149,1242600,1234976,1234676,1248806,1247117,1229379,1231670,1205102,1199960,1187070,1165124,1146385,1131364,1119914,1103755,1082972,1041196,1018683,1007863,1000788,998118,982368,967401,952578,893175,874410,856869,850596,833047,810021,792583,753748,738946,721575,712048,698861,679394,668909,655900,648056,641870,641427,631348,628977,628995,625217,623421,620966,622214,616928,603882,603885,600781,572045,561015,593348,574649,599930,625013,652572,678178,703479,733440,738851,773450,835213,884789,929006,965564,1009943,1019179,1087272,1146034,1198697,1247222,1262865,1300072,1304018,1350481,1391890,1423425,1426766],\"type\":\"scatter\"}],                        {\"xaxis\":{\"title\":{\"text\":\"Data\"}},\"yaxis\":{\"title\":{\"text\":\"Totale positivi\"}},\"template\":{\"data\":{\"bar\":[{\"error_x\":{\"color\":\"#2a3f5f\"},\"error_y\":{\"color\":\"#2a3f5f\"},\"marker\":{\"line\":{\"color\":\"#E5ECF6\",\"width\":0.5},\"pattern\":{\"fillmode\":\"overlay\",\"size\":10,\"solidity\":0.2}},\"type\":\"bar\"}],\"barpolar\":[{\"marker\":{\"line\":{\"color\":\"#E5ECF6\",\"width\":0.5},\"pattern\":{\"fillmode\":\"overlay\",\"size\":10,\"solidity\":0.2}},\"type\":\"barpolar\"}],\"carpet\":[{\"aaxis\":{\"endlinecolor\":\"#2a3f5f\",\"gridcolor\":\"white\",\"linecolor\":\"white\",\"minorgridcolor\":\"white\",\"startlinecolor\":\"#2a3f5f\"},\"baxis\":{\"endlinecolor\":\"#2a3f5f\",\"gridcolor\":\"white\",\"linecolor\":\"white\",\"minorgridcolor\":\"white\",\"startlinecolor\":\"#2a3f5f\"},\"type\":\"carpet\"}],\"choropleth\":[{\"colorbar\":{\"outlinewidth\":0,\"ticks\":\"\"},\"type\":\"choropleth\"}],\"contour\":[{\"colorbar\":{\"outlinewidth\":0,\"ticks\":\"\"},\"colorscale\":[[0.0,\"#0d0887\"],[0.1111111111111111,\"#46039f\"],[0.2222222222222222,\"#7201a8\"],[0.3333333333333333,\"#9c179e\"],[0.4444444444444444,\"#bd3786\"],[0.5555555555555556,\"#d8576b\"],[0.6666666666666666,\"#ed7953\"],[0.7777777777777778,\"#fb9f3a\"],[0.8888888888888888,\"#fdca26\"],[1.0,\"#f0f921\"]],\"type\":\"contour\"}],\"contourcarpet\":[{\"colorbar\":{\"outlinewidth\":0,\"ticks\":\"\"},\"type\":\"contourcarpet\"}],\"heatmap\":[{\"colorbar\":{\"outlinewidth\":0,\"ticks\":\"\"},\"colorscale\":[[0.0,\"#0d0887\"],[0.1111111111111111,\"#46039f\"],[0.2222222222222222,\"#7201a8\"],[0.3333333333333333,\"#9c179e\"],[0.4444444444444444,\"#bd3786\"],[0.5555555555555556,\"#d8576b\"],[0.6666666666666666,\"#ed7953\"],[0.7777777777777778,\"#fb9f3a\"],[0.8888888888888888,\"#fdca26\"],[1.0,\"#f0f921\"]],\"type\":\"heatmap\"}],\"heatmapgl\":[{\"colorbar\":{\"outlinewidth\":0,\"ticks\":\"\"},\"colorscale\":[[0.0,\"#0d0887\"],[0.1111111111111111,\"#46039f\"],[0.2222222222222222,\"#7201a8\"],[0.3333333333333333,\"#9c179e\"],[0.4444444444444444,\"#bd3786\"],[0.5555555555555556,\"#d8576b\"],[0.6666666666666666,\"#ed7953\"],[0.7777777777777778,\"#fb9f3a\"],[0.8888888888888888,\"#fdca26\"],[1.0,\"#f0f921\"]],\"type\":\"heatmapgl\"}],\"histogram\":[{\"marker\":{\"pattern\":{\"fillmode\":\"overlay\",\"size\":10,\"solidity\":0.2}},\"type\":\"histogram\"}],\"histogram2d\":[{\"colorbar\":{\"outlinewidth\":0,\"ticks\":\"\"},\"colorscale\":[[0.0,\"#0d0887\"],[0.1111111111111111,\"#46039f\"],[0.2222222222222222,\"#7201a8\"],[0.3333333333333333,\"#9c179e\"],[0.4444444444444444,\"#bd3786\"],[0.5555555555555556,\"#d8576b\"],[0.6666666666666666,\"#ed7953\"],[0.7777777777777778,\"#fb9f3a\"],[0.8888888888888888,\"#fdca26\"],[1.0,\"#f0f921\"]],\"type\":\"histogram2d\"}],\"histogram2dcontour\":[{\"colorbar\":{\"outlinewidth\":0,\"ticks\":\"\"},\"colorscale\":[[0.0,\"#0d0887\"],[0.1111111111111111,\"#46039f\"],[0.2222222222222222,\"#7201a8\"],[0.3333333333333333,\"#9c179e\"],[0.4444444444444444,\"#bd3786\"],[0.5555555555555556,\"#d8576b\"],[0.6666666666666666,\"#ed7953\"],[0.7777777777777778,\"#fb9f3a\"],[0.8888888888888888,\"#fdca26\"],[1.0,\"#f0f921\"]],\"type\":\"histogram2dcontour\"}],\"mesh3d\":[{\"colorbar\":{\"outlinewidth\":0,\"ticks\":\"\"},\"type\":\"mesh3d\"}],\"parcoords\":[{\"line\":{\"colorbar\":{\"outlinewidth\":0,\"ticks\":\"\"}},\"type\":\"parcoords\"}],\"pie\":[{\"automargin\":true,\"type\":\"pie\"}],\"scatter\":[{\"marker\":{\"colorbar\":{\"outlinewidth\":0,\"ticks\":\"\"}},\"type\":\"scatter\"}],\"scatter3d\":[{\"line\":{\"colorbar\":{\"outlinewidth\":0,\"ticks\":\"\"}},\"marker\":{\"colorbar\":{\"outlinewidth\":0,\"ticks\":\"\"}},\"type\":\"scatter3d\"}],\"scattercarpet\":[{\"marker\":{\"colorbar\":{\"outlinewidth\":0,\"ticks\":\"\"}},\"type\":\"scattercarpet\"}],\"scattergeo\":[{\"marker\":{\"colorbar\":{\"outlinewidth\":0,\"ticks\":\"\"}},\"type\":\"scattergeo\"}],\"scattergl\":[{\"marker\":{\"colorbar\":{\"outlinewidth\":0,\"ticks\":\"\"}},\"type\":\"scattergl\"}],\"scattermapbox\":[{\"marker\":{\"colorbar\":{\"outlinewidth\":0,\"ticks\":\"\"}},\"type\":\"scattermapbox\"}],\"scatterpolar\":[{\"marker\":{\"colorbar\":{\"outlinewidth\":0,\"ticks\":\"\"}},\"type\":\"scatterpolar\"}],\"scatterpolargl\":[{\"marker\":{\"colorbar\":{\"outlinewidth\":0,\"ticks\":\"\"}},\"type\":\"scatterpolargl\"}],\"scatterternary\":[{\"marker\":{\"colorbar\":{\"outlinewidth\":0,\"ticks\":\"\"}},\"type\":\"scatterternary\"}],\"surface\":[{\"colorbar\":{\"outlinewidth\":0,\"ticks\":\"\"},\"colorscale\":[[0.0,\"#0d0887\"],[0.1111111111111111,\"#46039f\"],[0.2222222222222222,\"#7201a8\"],[0.3333333333333333,\"#9c179e\"],[0.4444444444444444,\"#bd3786\"],[0.5555555555555556,\"#d8576b\"],[0.6666666666666666,\"#ed7953\"],[0.7777777777777778,\"#fb9f3a\"],[0.8888888888888888,\"#fdca26\"],[1.0,\"#f0f921\"]],\"type\":\"surface\"}],\"table\":[{\"cells\":{\"fill\":{\"color\":\"#EBF0F8\"},\"line\":{\"color\":\"white\"}},\"header\":{\"fill\":{\"color\":\"#C8D4E3\"},\"line\":{\"color\":\"white\"}},\"type\":\"table\"}]},\"layout\":{\"annotationdefaults\":{\"arrowcolor\":\"#2a3f5f\",\"arrowhead\":0,\"arrowwidth\":1},\"autotypenumbers\":\"strict\",\"coloraxis\":{\"colorbar\":{\"outlinewidth\":0,\"ticks\":\"\"}},\"colorscale\":{\"diverging\":[[0,\"#8e0152\"],[0.1,\"#c51b7d\"],[0.2,\"#de77ae\"],[0.3,\"#f1b6da\"],[0.4,\"#fde0ef\"],[0.5,\"#f7f7f7\"],[0.6,\"#e6f5d0\"],[0.7,\"#b8e186\"],[0.8,\"#7fbc41\"],[0.9,\"#4d9221\"],[1,\"#276419\"]],\"sequential\":[[0.0,\"#0d0887\"],[0.1111111111111111,\"#46039f\"],[0.2222222222222222,\"#7201a8\"],[0.3333333333333333,\"#9c179e\"],[0.4444444444444444,\"#bd3786\"],[0.5555555555555556,\"#d8576b\"],[0.6666666666666666,\"#ed7953\"],[0.7777777777777778,\"#fb9f3a\"],[0.8888888888888888,\"#fdca26\"],[1.0,\"#f0f921\"]],\"sequentialminus\":[[0.0,\"#0d0887\"],[0.1111111111111111,\"#46039f\"],[0.2222222222222222,\"#7201a8\"],[0.3333333333333333,\"#9c179e\"],[0.4444444444444444,\"#bd3786\"],[0.5555555555555556,\"#d8576b\"],[0.6666666666666666,\"#ed7953\"],[0.7777777777777778,\"#fb9f3a\"],[0.8888888888888888,\"#fdca26\"],[1.0,\"#f0f921\"]]},\"colorway\":[\"#636efa\",\"#EF553B\",\"#00cc96\",\"#ab63fa\",\"#FFA15A\",\"#19d3f3\",\"#FF6692\",\"#B6E880\",\"#FF97FF\",\"#FECB52\"],\"font\":{\"color\":\"#2a3f5f\"},\"geo\":{\"bgcolor\":\"white\",\"lakecolor\":\"white\",\"landcolor\":\"#E5ECF6\",\"showlakes\":true,\"showland\":true,\"subunitcolor\":\"white\"},\"hoverlabel\":{\"align\":\"left\"},\"hovermode\":\"closest\",\"mapbox\":{\"style\":\"light\"},\"paper_bgcolor\":\"white\",\"plot_bgcolor\":\"#E5ECF6\",\"polar\":{\"angularaxis\":{\"gridcolor\":\"white\",\"linecolor\":\"white\",\"ticks\":\"\"},\"bgcolor\":\"#E5ECF6\",\"radialaxis\":{\"gridcolor\":\"white\",\"linecolor\":\"white\",\"ticks\":\"\"}},\"scene\":{\"xaxis\":{\"backgroundcolor\":\"#E5ECF6\",\"gridcolor\":\"white\",\"gridwidth\":2,\"linecolor\":\"white\",\"showbackground\":true,\"ticks\":\"\",\"zerolinecolor\":\"white\"},\"yaxis\":{\"backgroundcolor\":\"#E5ECF6\",\"gridcolor\":\"white\",\"gridwidth\":2,\"linecolor\":\"white\",\"showbackground\":true,\"ticks\":\"\",\"zerolinecolor\":\"white\"},\"zaxis\":{\"backgroundcolor\":\"#E5ECF6\",\"gridcolor\":\"white\",\"gridwidth\":2,\"linecolor\":\"white\",\"showbackground\":true,\"ticks\":\"\",\"zerolinecolor\":\"white\"}},\"shapedefaults\":{\"line\":{\"color\":\"#2a3f5f\"}},\"ternary\":{\"aaxis\":{\"gridcolor\":\"white\",\"linecolor\":\"white\",\"ticks\":\"\"},\"baxis\":{\"gridcolor\":\"white\",\"linecolor\":\"white\",\"ticks\":\"\"},\"bgcolor\":\"#E5ECF6\",\"caxis\":{\"gridcolor\":\"white\",\"linecolor\":\"white\",\"ticks\":\"\"}},\"title\":{\"x\":0.05},\"xaxis\":{\"automargin\":true,\"gridcolor\":\"white\",\"linecolor\":\"white\",\"ticks\":\"\",\"title\":{\"standoff\":15},\"zerolinecolor\":\"white\",\"zerolinewidth\":2},\"yaxis\":{\"automargin\":true,\"gridcolor\":\"white\",\"linecolor\":\"white\",\"ticks\":\"\",\"title\":{\"standoff\":15},\"zerolinecolor\":\"white\",\"zerolinewidth\":2}}}},                        {\"responsive\": true}                    ).then(function(){\n",
              "                            \n",
              "var gd = document.getElementById('5ae5b465-f391-4fe3-ac32-6b4897912768');\n",
              "var x = new MutationObserver(function (mutations, observer) {{\n",
              "        var display = window.getComputedStyle(gd).display;\n",
              "        if (!display || display === 'none') {{\n",
              "            console.log([gd, 'removed!']);\n",
              "            Plotly.purge(gd);\n",
              "            observer.disconnect();\n",
              "        }}\n",
              "}});\n",
              "\n",
              "// Listen for the removal of the full notebook cells\n",
              "var notebookContainer = gd.closest('#notebook-container');\n",
              "if (notebookContainer) {{\n",
              "    x.observe(notebookContainer, {childList: true});\n",
              "}}\n",
              "\n",
              "// Listen for the clearing of the current output cell\n",
              "var outputEl = gd.closest('.output');\n",
              "if (outputEl) {{\n",
              "    x.observe(outputEl, {childList: true});\n",
              "}}\n",
              "\n",
              "                        })                };                            </script>        </div>\n",
              "</body>\n",
              "</html>"
            ]
          },
          "metadata": {}
        }
      ]
    },
    {
      "cell_type": "markdown",
      "source": [
        "# 16. Differentiation (Dy/Dx) : Lagrange vs Cubic Spline"
      ],
      "metadata": {
        "id": "QKoQif7tvtR6"
      }
    },
    {
      "cell_type": "code",
      "source": [
        "xls=[0.05,0.2,0.5,0.75]\n",
        "yls=[-4.812e-4,-2.72e-2,-3.125e-1,-7.383e-1]\n",
        "\n",
        "import numpy as np\n",
        "from matplotlib import pyplot as plt\n",
        "from scipy.interpolate import lagrange,CubicSpline\n",
        "\n",
        "#just to see how the data looks like in a graph\n",
        "plt.plot(xls,yls)"
      ],
      "metadata": {
        "id": "B7fMin48v2Ji",
        "colab": {
          "base_uri": "https://localhost:8080/"
        },
        "outputId": "05af9a36-93f3-431e-ee6a-848ba0eac4b9"
      },
      "execution_count": null,
      "outputs": [
        {
          "output_type": "execute_result",
          "data": {
            "text/plain": [
              "[<matplotlib.lines.Line2D at 0x7f95fe62f050>]"
            ]
          },
          "metadata": {},
          "execution_count": 101
        },
        {
          "output_type": "display_data",
          "data": {
            "text/plain": [
              "<Figure size 432x288 with 1 Axes>"
            ],
            "image/png": "[encoded data removed]"
          },
          "metadata": {
            "needs_background": "light"
          }
        }
      ]
    },
    {
      "cell_type": "code",
      "source": [
        "# now we need to interpolate the data \n",
        "# there are four methods of interpolation\n",
        "# 1st: Lagrange interpolation\n",
        "# 2nd: Cubic Spline interpolation\n",
        "# 3rd: Cubic Spline (natural) interpolation\n",
        "# 4th: Cubic Spline (clamped) interpolation\n",
        "\n",
        "flag = lagrange(xls,yls)\n",
        "fcubspl = CubicSpline(xls,yls)\n",
        "fcubsplnat = CubicSpline(xls,yls,bc_type='natural')\n",
        "fcubsplclm = CubicSpline(xls,yls,bc_type='clamped')\n",
        "\n",
        "newxls = np.linspace(0,1,100)\n",
        "newyls_lag = flag(newxls)\n",
        "newyls_cbs = fcubspl(newxls)\n",
        "newyls_cbsnat = fcubsplnat(newxls)\n",
        "newyls_cbsclm = fcubsplclm(newxls)"
      ],
      "metadata": {
        "id": "jdjiQ3WCwGvq"
      },
      "execution_count": null,
      "outputs": []
    },
    {
      "cell_type": "code",
      "source": [
        "# There are two methods that we can use to differentiate the data\n",
        "# 1st: Cubic method\n",
        "# 2nd: Gradient method\n",
        "\n",
        "# 1st: Cubic method: only for cubic spline interpolated, we may differentiate using the cubic method\n",
        "\n",
        "fcubspl_1d = fcubspl.derivative(nu=1)\n",
        "fcubsplls_1d_0= fcubspl_1d(newxls)\n",
        "fcubsplls_1d_1= fcubspl_1d(0.1)\n",
        "fcubsplls_1d_2= fcubspl_1d(0.4)\n",
        "fcubsplls_1d_3= fcubspl_1d(0.7)\n",
        "\n",
        "fcubsplnat_1d = fcubsplnat.derivative(nu=1)\n",
        "fcubsplnatls_1d_0= fcubsplnat_1d(newxls)\n",
        "fcubsplnatls_1d_1= fcubsplnat_1d(0.1)\n",
        "fcubsplnatls_1d_2= fcubsplnat_1d(0.4)\n",
        "fcubsplnatls_1d_3= fcubsplnat_1d(0.7)\n",
        "\n",
        "fcubsplclm_1d = fcubsplclm.derivative(nu=1)\n",
        "fcubsplclmls_1d_0= fcubsplclm_1d(newxls)\n",
        "fcubsplclmls_1d_1= fcubsplclm_1d(0.1)\n",
        "fcubsplclmls_1d_2= fcubsplclm_1d(0.4)\n",
        "fcubsplclmls_1d_3= fcubsplclm_1d(0.7)"
      ],
      "metadata": {
        "id": "TBdsY3S8wRKp"
      },
      "execution_count": null,
      "outputs": []
    },
    {
      "cell_type": "code",
      "source": [
        "plt.scatter(xls,yls)\n",
        "plt.plot(newxls,fcubsplls_1d_0,label='Cubic Spline')\n",
        "plt.plot(newxls,fcubsplnatls_1d_0,label='Cubic Spline (natural)')\n",
        "plt.plot(newxls,fcubsplclmls_1d_0,label='Cubic Spline (clamped)')\n",
        "plt.legend()"
      ],
      "metadata": {
        "id": "gHbDFjRZwWmZ",
        "colab": {
          "base_uri": "https://localhost:8080/"
        },
        "outputId": "7d6489f0-ceb4-4d4d-b627-331f2480719f"
      },
      "execution_count": null,
      "outputs": [
        {
          "output_type": "execute_result",
          "data": {
            "text/plain": [
              "<matplotlib.legend.Legend at 0x7f95fcec6c50>"
            ]
          },
          "metadata": {},
          "execution_count": 104
        },
        {
          "output_type": "display_data",
          "data": {
            "text/plain": [
              "<Figure size 432x288 with 1 Axes>"
            ],
            "image/png": "[encoded data removed]"
          },
          "metadata": {
            "needs_background": "light"
          }
        }
      ]
    },
    {
      "cell_type": "code",
      "source": [
        "# then, finding the mean absolute errors for the cubic method\n",
        "# considering the true values for each points\n",
        "\n",
        "truevalls = [-1.080e-1, -1.152, -1.764]"
      ],
      "metadata": {
        "id": "2OQ2YrXXwX6h"
      },
      "execution_count": null,
      "outputs": []
    },
    {
      "cell_type": "code",
      "source": [
        "# cubic spline interpolated\n",
        "maerror_cubspl = (abs(fcubsplls_1d_1-truevalls[0]) + abs(fcubsplls_1d_2-truevalls[1]) + abs(fcubsplls_1d_3-truevalls[2]))/3\n",
        "maerror_cubspl"
      ],
      "metadata": {
        "id": "qx9wRBuvwbd6",
        "colab": {
          "base_uri": "https://localhost:8080/"
        },
        "outputId": "a8b333b5-aa42-43c9-e046-ae2b89b95949"
      },
      "execution_count": null,
      "outputs": [
        {
          "output_type": "execute_result",
          "data": {
            "text/plain": [
              "0.0572840044893376"
            ]
          },
          "metadata": {},
          "execution_count": 106
        }
      ]
    },
    {
      "cell_type": "code",
      "source": [
        "# cubic spline natural interpolated\n",
        "maerror_cubsplnat = (abs(fcubsplnatls_1d_1-truevalls[0]) + abs(fcubsplnatls_1d_2-truevalls[1]) + abs(fcubsplnatls_1d_3-truevalls[2]))/3\n",
        "maerror_cubsplnat"
      ],
      "metadata": {
        "id": "rtO9h4wfwedZ",
        "colab": {
          "base_uri": "https://localhost:8080/"
        },
        "outputId": "9485a84f-f632-4e33-8859-6593818a45d0"
      },
      "execution_count": null,
      "outputs": [
        {
          "output_type": "execute_result",
          "data": {
            "text/plain": [
              "0.02050232296296278"
            ]
          },
          "metadata": {},
          "execution_count": 107
        }
      ]
    },
    {
      "cell_type": "code",
      "source": [
        "# cubic spline clamped interpolated\n",
        "maerror_cubsplclm = (abs(fcubsplclmls_1d_1-truevalls[0]) + abs(fcubsplclmls_1d_2-truevalls[1]) + abs(fcubsplclmls_1d_3-truevalls[2]))/3\n",
        "maerror_cubsplclm"
      ],
      "metadata": {
        "id": "7KiHjN39whZb",
        "colab": {
          "base_uri": "https://localhost:8080/"
        },
        "outputId": "79d7f0af-cc71-4009-f012-6fd3c952e39c"
      },
      "execution_count": null,
      "outputs": [
        {
          "output_type": "execute_result",
          "data": {
            "text/plain": [
              "0.23611889320501597"
            ]
          },
          "metadata": {},
          "execution_count": 108
        }
      ]
    },
    {
      "cell_type": "code",
      "source": [
        "# 2nd: Gradient method \n",
        "\n",
        "grals_lag_1d = np.gradient(newyls_lag,newxls)\n",
        "grals_cbs_1d = np.gradient(newyls_cbs,newxls)\n",
        "grals_cbsnat_1d = np.gradient(newyls_cbsnat,newxls)\n",
        "grals_cbsclm_1d = np.gradient(newyls_cbsclm,newxls)\n",
        "\n",
        "plt.scatter(xls,yls)\n",
        "plt.plot(newxls,grals_lag_1d,label='Lagrange')\n",
        "plt.plot(newxls,grals_cbs_1d,label='Cubic Spline')\n",
        "plt.plot(newxls,grals_cbsnat_1d,label='Cubic Spline (natural)')\n",
        "plt.plot(newxls,grals_cbsclm_1d,label='Cubic Spline (clamped)')\n",
        "plt.legend()"
      ],
      "metadata": {
        "id": "7F7Hr3o4wj2V",
        "colab": {
          "base_uri": "https://localhost:8080/"
        },
        "outputId": "39c35b16-375f-49d2-b6a3-ac0cef4fbfcf"
      },
      "execution_count": null,
      "outputs": [
        {
          "output_type": "execute_result",
          "data": {
            "text/plain": [
              "<matplotlib.legend.Legend at 0x7f95fd984050>"
            ]
          },
          "metadata": {},
          "execution_count": 109
        },
        {
          "output_type": "display_data",
          "data": {
            "text/plain": [
              "<Figure size 432x288 with 1 Axes>"
            ],
            "image/png": "[encoded data removed]"
          },
          "metadata": {
            "needs_background": "light"
          }
        }
      ]
    },
    {
      "cell_type": "code",
      "source": [
        "# thus, finding the mean absolute errors for the gradient method\n",
        "# considering the true values for each points\n",
        "\n",
        "truevalls = [-1.080e-1, -1.152, -1.764]"
      ],
      "metadata": {
        "id": "MwFvvAuHwnGL"
      },
      "execution_count": null,
      "outputs": []
    },
    {
      "cell_type": "code",
      "source": [
        "# Lagrange interpolated\n",
        "maerror_lagg = (abs(grals_lag_1d[10]-truevalls[0]) + abs(grals_cbs_1d[40]-truevalls[1]) + abs(grals_cbs_1d[70]-truevalls[2]))/3\n",
        "maerror_lagg"
      ],
      "metadata": {
        "id": "TMROE2jOwt86",
        "colab": {
          "base_uri": "https://localhost:8080/"
        },
        "outputId": "f4cc890e-af30-4266-a443-6611c5bea9b3"
      },
      "execution_count": null,
      "outputs": [
        {
          "output_type": "execute_result",
          "data": {
            "text/plain": [
              "0.05687161035960544"
            ]
          },
          "metadata": {},
          "execution_count": 111
        }
      ]
    },
    {
      "cell_type": "code",
      "source": [
        "# cubic spline interpolated\n",
        "maerror_cubsplg = (abs(grals_cbs_1d[10]-truevalls[0]) + abs(grals_cbs_1d[40]-truevalls[1]) + abs(grals_cbs_1d[70]-truevalls[2]))/3\n",
        "maerror_cubsplg"
      ],
      "metadata": {
        "id": "PoJcG-1TwyjC",
        "colab": {
          "base_uri": "https://localhost:8080/"
        },
        "outputId": "56446b55-9261-4fca-9489-82e0bd8127d4"
      },
      "execution_count": null,
      "outputs": [
        {
          "output_type": "execute_result",
          "data": {
            "text/plain": [
              "0.05687161035960551"
            ]
          },
          "metadata": {},
          "execution_count": 112
        }
      ]
    },
    {
      "cell_type": "code",
      "source": [
        "# cubic spline natural interpolated\n",
        "maerror_cubsplnatg = (abs(grals_cbsnat_1d[10]-truevalls[0]) + abs(grals_cbsnat_1d[40]-truevalls[1]) + abs(grals_cbsnat_1d[70]-truevalls[2]))/3\n",
        "maerror_cubsplnatg"
      ],
      "metadata": {
        "id": "a4YxGoKMw0-6",
        "colab": {
          "base_uri": "https://localhost:8080/"
        },
        "outputId": "e71f4b1e-26f0-4875-f698-e28818ff2364"
      },
      "execution_count": null,
      "outputs": [
        {
          "output_type": "execute_result",
          "data": {
            "text/plain": [
              "0.018354761455347892"
            ]
          },
          "metadata": {},
          "execution_count": 113
        }
      ]
    },
    {
      "cell_type": "code",
      "source": [
        "# cubic spline clamped interpolated\n",
        "maerror_cubsplclmg = (abs(grals_cbsclm_1d[10]-truevalls[0]) + abs(grals_cbsclm_1d[40]-truevalls[1]) + abs(grals_cbsclm_1d[70]-truevalls[2]))/3\n",
        "maerror_cubsplclmg"
      ],
      "metadata": {
        "id": "EZ_HkLoow3_x",
        "colab": {
          "base_uri": "https://localhost:8080/"
        },
        "outputId": "8a73283d-dc26-44a3-fc2c-4d1f598c30f7"
      },
      "execution_count": null,
      "outputs": [
        {
          "output_type": "execute_result",
          "data": {
            "text/plain": [
              "0.29111726898477125"
            ]
          },
          "metadata": {},
          "execution_count": 114
        }
      ]
    },
    {
      "cell_type": "code",
      "source": [
        "# Both method can effectively be used to find the derivative of interpolated equations at any specific points\n",
        "# Although both methods could produce almost similar graphs and results, the values are not exactly the same\n",
        "# By finding the mean absolute errors for both method, there are several conclusions that can be made based on this data\n",
        "# 1- For cubic spline interpolated data, the gradient method has the least resulted mean absolute error compared with the cubic method\n",
        "# 2- For cubic spline natural interpolated data, the gradient method has the least resulted mean absolute error compared with the cubic method\n",
        "# 3- For cubic spline interpolated data, the cubic method has the least resulted mean absolute error compared with the gradient method\n",
        "# 4- For lagrange interpolated data, the resulted mean absolute error is obtained but cannot be compared with the cubic method"
      ],
      "metadata": {
        "id": "uDO9R45Bw746"
      },
      "execution_count": null,
      "outputs": []
    },
    {
      "cell_type": "markdown",
      "source": [
        "# 17. Multiprocessing Exercises"
      ],
      "metadata": {
        "id": "O4nuGVf7x1uU"
      }
    },
    {
      "cell_type": "code",
      "source": [
        "## Multiprocessing Exercise 1\n",
        "\n",
        "import multiprocessing\n",
        "from numpy import random\n",
        "import time\n",
        "import numpy as np\n",
        "\n",
        "def Humidity(s):\n",
        "  random.seed(s)\n",
        "  print(\"Minute : \",s)\n",
        "  k = []\n",
        "  for i in range(6):\n",
        "    h = np.random.uniform(1.1,10.1)\n",
        "    #print(\"Humidity after 10 s = \", h)\n",
        "    time.sleep(10)\n",
        "    k.append(h)\n",
        "  #print(\"Range of Humidity within 1 min = \", k)\n",
        "  humidity_avg = sum(k) / len(k) \n",
        "  print(\"Average Humidity = \", humidity_avg)\n",
        "  return\n",
        "\n",
        "def Temperature(s):\n",
        "  random.seed(s)\n",
        "  k = []\n",
        "  for i in range(6):\n",
        "    t = np.random.uniform(1.1,10.1)\n",
        "    #print(\"Temperature after 10 s = \", t)\n",
        "    time.sleep(10)\n",
        "    k.append(t)\n",
        "  #print(\"Range of Temperature within 1 min = \", k)\n",
        "  temperature_avg = sum(k) / len(k) \n",
        "  print(\"Average Temperature = \", temperature_avg)\n",
        "  return\n",
        "\n",
        "if __name__ == '__main__':\n",
        "  for i in range(2):\n",
        "    print('\\r\\n{0},{1}\\r\\n'.format(time.strftime('%m/%d/%y'), time.strftime('%H:%M')))\n",
        "    p1 = multiprocessing.Process(target=Humidity, args=(i+1,))\n",
        "    p2 = multiprocessing.Process(target=Temperature, args=(i+3,))\n",
        "    p1.start()\n",
        "    p2.start()\n",
        "    p1.join()\n",
        "    p2.join()"
      ],
      "metadata": {
        "id": "sALdc8u-1K60",
        "colab": {
          "base_uri": "https://localhost:8080/"
        },
        "outputId": "bc8c7527-de62-43aa-a19e-b07fb5c53a78"
      },
      "execution_count": null,
      "outputs": [
        {
          "output_type": "stream",
          "name": "stdout",
          "text": [
            "\r\n",
            "07/16/22,12:36\r\n",
            "\n",
            "Minute :  1\n",
            "Average Humidity =  3.618331896769741\n",
            "Average Temperature =  6.87487716887657\n",
            "\n",
            "07/16/22,12:37\n",
            "\n",
            "Minute :  2\n",
            "Average Humidity =  4.396412941337367\n",
            "Average Temperature =  7.2733711430094425\n"
          ]
        }
      ]
    },
    {
      "cell_type": "code",
      "source": [
        "## Multiprocessing Exercise 2\n",
        "\n",
        "import multiprocessing\n",
        "from numpy import random\n",
        "import time\n",
        "import numpy as np\n",
        "\n",
        "def loop(s):\n",
        "  random.seed(s)\n",
        "  print(\"Minute : \",s)\n",
        "  k = []\n",
        "  for i in range(6):\n",
        "    h = np.random.uniform(1.1,10.1)\n",
        "    print(\"Humidity after 10 s = \", h)\n",
        "    time.sleep(10)\n",
        "    k.append(h)\n",
        "  print(\"Humidity within 1 min = \", k)\n",
        "  return\n",
        "\n",
        "def looplagi(s):\n",
        "  print(\"Minute : \",s-2)\n",
        "  k = []\n",
        "  for i in range(6):\n",
        "    t = np.random.uniform(1.1,10.1)\n",
        "    print(\"Temperature after 10 s = \", t)\n",
        "    time.sleep(10)\n",
        "    k.append(t)\n",
        "  print(\"Temperature within 1 min = \", k)\n",
        "  return\n",
        "\n",
        "if __name__ == '__main__':\n",
        "  for i in range(2):\n",
        "    p1 = multiprocessing.Process(target=loop, args=(i+1,))\n",
        "    p2 = multiprocessing.Process(target=looplagi, args=(i+3,))\n",
        "    p1.start()\n",
        "    p2.start()\n",
        "    p1.join()\n",
        "    p2.join()\n"
      ],
      "metadata": {
        "id": "iM-rr1Tq2R3U",
        "colab": {
          "base_uri": "https://localhost:8080/"
        },
        "outputId": "875e4240-09a3-4301-f71c-69e0f3f876d8"
      },
      "execution_count": null,
      "outputs": [
        {
          "output_type": "stream",
          "name": "stdout",
          "text": [
            "Minute :  1\n",
            "Humidity after 10 s =  4.853198042323166\n",
            "Minute :  1\n",
            "Temperature after 10 s =  5.103164009939116\n",
            "Humidity after 10 s =  7.582920440979423\n",
            "Temperature after 10 s =  7.484783479593181\n",
            "Humidity after 10 s =  1.101029373356104\n",
            "Temperature after 10 s =  6.5517535910820595\n",
            "Temperature after 10 s =  5.297632442558712\n",
            "Humidity after 10 s =  3.820993153686558\n",
            "Temperature after 10 s =  5.853408873200232\n",
            "Humidity after 10 s =  2.4208030173540176\n",
            "Temperature after 10 s =  5.2209117377318535\n",
            "Humidity after 10 s =  1.9310473529191803\n",
            "Temperature within 1 min =  [5.103164009939116, 7.484783479593181, 6.5517535910820595, 5.297632442558712, 5.853408873200232, 5.2209117377318535]\n",
            "Humidity within 1 min =  [4.853198042323166, 7.582920440979423, 1.101029373356104, 3.820993153686558, 2.4208030173540176, 1.9310473529191803]\n",
            "Minute :  2\n",
            "Humidity after 10 s =  5.023954119278034\n",
            "Minute :  2\n",
            "Temperature after 10 s =  5.103164009939116\n",
            "Humidity after 10 s =  1.333336086451022\n",
            "Temperature after 10 s =  7.484783479593181\n",
            "Humidity after 10 s =  6.0469623009083815\n",
            "Temperature after 10 s =  6.5517535910820595\n",
            "Humidity after 10 s =  5.017901533564492\n",
            "Temperature after 10 s =  5.297632442558712\n",
            "Humidity after 10 s =  4.883310218787401\n",
            "Temperature after 10 s =  5.853408873200232\n",
            "Humidity after 10 s =  4.073013389034868\n",
            "Temperature after 10 s =  5.2209117377318535\n",
            "Humidity within 1 min =  [5.023954119278034, 1.333336086451022, 6.0469623009083815, 5.017901533564492, 4.883310218787401, 4.073013389034868]\n",
            "Temperature within 1 min =  [5.103164009939116, 7.484783479593181, 6.5517535910820595, 5.297632442558712, 5.853408873200232, 5.2209117377318535]\n"
          ]
        }
      ]
    },
    {
      "cell_type": "markdown",
      "source": [
        "# 18. CRUD Contact Webpage"
      ],
      "metadata": {
        "id": "HRL62oFmtGDI"
      }
    },
    {
      "cell_type": "code",
      "source": [
        "## CANNOT RUN THIS CODE ON GOOGLE COLAB BECAUSE OF LANGUAGE INCOMPATIBILITY\n",
        "## USED NODE.JS, HTML & ANGULAR.JS LANGUAGES\n",
        "# ------------------------------------------------------------------------------------------\n",
        "\n",
        "## [server.js] - Node.js (back-end)\n",
        "\n",
        "#const http = require('http')\n",
        "#const fs = require('fs')\n",
        "#const port = 3009\n",
        "#var mysql = require('mysql');\n",
        "\n",
        "#//var connection = mysql.createConnection({\n",
        "#  //host     : 'localhost',\n",
        "#  //user     : ' ',\n",
        "#  //port      : 3306,\n",
        "#  //password : ' ',\n",
        "#  //database : 'mydb'\n",
        "#//});\n",
        "\n",
        "#//connection.connect(function(err){\n",
        "#//if(!err) {\n",
        "#    //console.log(\"Database is connected\");\n",
        "#    //console.log(\"Listening to port 3030\");    \n",
        "#//} else {\n",
        "#    //console.log(\"Error connecting database\");    \n",
        "#//}\n",
        "#//});\n",
        "\n",
        "#const server = http.createServer(function(req,res){\n",
        "#    res.writeHead(200,{'Content-Type':'text/html'})\n",
        "#    fs.readFile('index.html',function(error,data){\n",
        "#        if(error){\n",
        "#            res.writeHead(404)\n",
        "#            res.write('Error: File Not Found')\n",
        "#        }else{\n",
        "#            res.write(data)\n",
        "#        }\n",
        "#        res.end()\n",
        "#    })\n",
        "#})\n",
        "\n",
        "#server.listen(port,function(error){\n",
        "#    if(error){\n",
        "#        console.log('Something went wrong',error)\n",
        "#    }else{\n",
        "#        console.log('Server is listening on port '+ port)\n",
        "#    }\n",
        "#})"
      ],
      "metadata": {
        "id": "W2S4IgPWtYCa"
      },
      "execution_count": null,
      "outputs": []
    },
    {
      "cell_type": "code",
      "source": [
        "## [index.html] - HTML (front-end)\n",
        "\n",
        "#<!DOCTYPE html>\n",
        "#<html lang=\"en\">\n",
        "#<head>\n",
        "#    <meta charset=\"UTF-8\">\n",
        "#    <meta http-equiv=\"X-UA-Compatible\" content=\"IE=edge\">\n",
        "#    <meta name=\"viewport\" content=\"width=device-width, initial-scale=1.0\">\n",
        "#    <script src=\"https://ajax.googleapis.com/ajax/libs/angularjs/1.6.9/angular.min.js\"></script>\n",
        "#    <script src=\"angular.js\"></script>\n",
        "#   <title>CUSTOMER'S CONTACT INFORMATION</title>\n",
        "#</head>\n",
        "#<body>\n",
        "#   <br>CUSTOMER'S CONTACT INFORMATION\n",
        "#   <br>\n",
        "#   <br>Kindly fill in the details below : \n",
        "#   <br>\n",
        "#   <br>\n",
        "#   <br>\n",
        "#   <br>\n",
        "#<div ng-app=\"myapp\" ng-controller=\"myctrl\"> \n",
        "#        <label>Name</label> \n",
        "#        <input type=\"text\" name=\"name\" ng-model=\"newCustomer.name\"/>\n",
        "#        <label>Email</label>\n",
        "#        <input type=\"text\" name=\"email\" ng-model=\"newCustomer.email\"/>\n",
        "#        <label>Phone Number</label>\n",
        "#        <input type=\"text\" name=\"phone\" ng-model=\"newCustomer.phone\"/>\n",
        "#        <label>Address</label>\n",
        "#        <input type=\"text\" name=\"address\" ng-model=\"newCustomer.address\"/>\n",
        "#        <label>Gender</label>\n",
        "#        <input type=\"text\" name=\"gender\" ng-model=\"newCustomer.gender\"/>\n",
        "#        <input type=\"hidden\" ng-model=\"newCustomer.id\" />\n",
        "#        <input type=\"button\" value=\"Save\" ng-click=\"saveRecord()\" class=\"btn btn-primary\"/>\n",
        "#\t\t<br>\n",
        "#\t\t<br>\n",
        "#\t\t<br>\n",
        "#<table border=\"1\" bordercolor=\"black\">            \n",
        "#<tr style=\"color:black\">                \n",
        "#<th style=\"width:150px\">Name</th>                \n",
        "#<th style=\"width:150px\">Email</th>                \n",
        "#<th style=\"width:150px\">Phone Number</th> \n",
        "#<th style=\"width:150px\">Address</th>                \n",
        "#<th style=\"width:150px\">Gender</th>                    \n",
        "#<th>Action</th>\n",
        "#            </tr>             \n",
        "#<tr style=\"color:red\" ng-repeat=\"customer in customers\">                 \n",
        "#<td>{{ customer.name }}</td>                 \n",
        "#<td>{{ customer.email }}</td>                 \n",
        "#<td>{{ customer.phone }}</td>   \n",
        "#<td>{{ customer.address }}</td>                 \n",
        "#<td>{{ customer.gender }}</td>                \n",
        "#<td> \n",
        "#                    <a href=\"#\" ng-click=\"edit(customer.id)\">edit</a> | \n",
        "#                    <a href=\"#\" ng-click=\"delete(customer.id)\">delete</a> \n",
        "#                </td> \n",
        "#            </tr> \n",
        "#        </table>\n",
        "#</body>\n",
        "#</html>\n"
      ],
      "metadata": {
        "id": "_lcyOIaOuk7K"
      },
      "execution_count": null,
      "outputs": []
    },
    {
      "cell_type": "code",
      "source": [
        "## [angular.js] - Angular.js (front-end)\n",
        "\n",
        "#var app=angular.module('myapp',[]);\n",
        "#app.controller('myctrl',function($scope){\n",
        "#$scope.customers = [];\n",
        "#var empid = 1;\n",
        "#$scope.saveRecord = function () {\n",
        "#if ($scope.newCustomer.id == null) {\n",
        "#$scope.newCustomer.id = empid++;\n",
        "#$scope.customers.push($scope.newCustomer);\n",
        "#} else {\n",
        "#for (i in $scope.customers) {\n",
        "#if ($scope.customers[i].id == $scope.newCustomer.id) {\n",
        "#$scope.customers[i] = $scope.newCustomer;\n",
        "#}\n",
        "#}\n",
        "#}\n",
        "#$scope.newCustomer = {};\n",
        "#}\n",
        "#$scope.delete = function(id){\n",
        "#for(i in $scope.customers){\n",
        "#if($scope.customers[i].id == id){\n",
        "#$scope.customers.splice(i,1);\n",
        "#$scope.newCustomer={};\n",
        "#}\n",
        "#}\n",
        "#}\n",
        "#$scope.edit = function(id){\n",
        "#for(i in $scope.customers){\n",
        "#if($scope.customers[i].id == id){\n",
        "#$scope.newCustomer = angular.copy($scope.customers[i]);\n",
        "#}\n",
        "#}\n",
        "#}\n",
        "#});\n"
      ],
      "metadata": {
        "id": "cTVQfa0WvI8H"
      },
      "execution_count": null,
      "outputs": []
    }
  ]
}