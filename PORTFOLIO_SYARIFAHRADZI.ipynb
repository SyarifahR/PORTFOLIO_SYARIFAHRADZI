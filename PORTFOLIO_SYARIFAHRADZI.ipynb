{
  "nbformat": 4,
  "nbformat_minor": 0,
  "metadata": {
    "colab": {
      "name": "PORTFOLIO-SYARIFAHRADZI.ipynb",
      "provenance": [],
      "collapsed_sections": [
        "4bb4aIo74xYV",
        "6CyauGFW5XCI"
      ],
      "toc_visible": true,
      "authorship_tag": "ABX9TyOkDzkuA24yyp61FtdfXjDz",
      "include_colab_link": true
    },
    "kernelspec": {
      "name": "python3",
      "display_name": "Python 3"
    },
    "language_info": {
      "name": "python"
    }
  },
  "cells": [
    {
      "cell_type": "markdown",
      "metadata": {
        "id": "view-in-github",
        "colab_type": "text"
      },
      "source": [
        "<a href=\"https://colab.research.google.com/github/SyarifahR/PORTFOLIO_SYARIFAHRADZI/blob/main/PORTFOLIO_SYARIFAHRADZI.ipynb\" target=\"_parent\"><img src=\"https://colab.research.google.com/assets/colab-badge.svg\" alt=\"Open In Colab\"/></a>"
      ]
    },
    {
      "cell_type": "markdown",
      "source": [
        "# 1. DHT22"
      ],
      "metadata": {
        "id": "-y0SZIP_4hzA"
      }
    },
    {
      "cell_type": "code",
      "source": [
        "## CANNOT RUN THIS CODE ON GOOGLE COLAB BECAUSE OF THE ABSENCE OF SENSOR AND RASPBERRY PI4\n",
        "# ------------------------------------------------------------------------------------------\n",
        "\n",
        "\n",
        "# import os\n",
        "# import time\n",
        "# import board\n",
        "# import adafruit_dht\n",
        "\n",
        "# dhtDevice = adafruit_dht.DHT22(board.D4, use_pulseio=False)\n",
        "\n",
        "# try:\n",
        "#     f = open('/home/pi/test27may.csv', 'a+')\n",
        "#     if os.stat('/home/pi/test27may.csv').st_size == 0:\n",
        "#         f.write('Time,Temperature,Humidity\\r\\n')\n",
        "# except:\n",
        "#     pass\n",
        "\n",
        "# while True:\n",
        "#     try:\n",
        "#         temperature = dhtDevice.temperature\n",
        "#         humidity = dhtDevice.humidity\n",
        "#         t = []\n",
        "#         h = []\n",
        "#         for i in range(5):\n",
        "#             t.append(temperature)\n",
        "#             h.append(humidity)\n",
        "#             tem_avg = sum(t) / len(t)\n",
        "#             hum_avg = sum(h) / len(h)\n",
        "#             time.sleep(1)\n",
        "#         print(\"Temp: {:.1f} C    Humidity: {}% \".format(tem_avg, hum_avg))\n",
        "#         f.write('{0},{1:0.1f},{2:0.1f}%\\r\\n'.format(time.strftime('%m/%d/%y %H:%M'), tem_avg, hum_avg))\n",
        "\n",
        "#     except KeyboardInterrupt:\n",
        "#         dhtDevice.exit()\n",
        "#         print('exiting script')\n",
        "#     except :\n",
        "#         pass"
      ],
      "metadata": {
        "id": "ilAtRh9uhPrp"
      },
      "execution_count": 47,
      "outputs": []
    },
    {
      "cell_type": "markdown",
      "source": [
        "# 2. Final Year Project: Real Time Monitoring of Water Turbidity for Different Water Sources [Thesis Calibration]"
      ],
      "metadata": {
        "id": "4bb4aIo74xYV"
      }
    },
    {
      "cell_type": "code",
      "source": [
        "import numpy as np\n",
        "x = np.linspace(0, 4.5,100)\n",
        "y = -1120.4*x*x+5742.3*x-4352.9;\n",
        "\n",
        "import matplotlib.pyplot as plt\n",
        "plt.plot(x,y)\n",
        "plt.ylim([0.0, 3100])\n",
        "\n",
        "x = 2.562611567\n",
        "NTU = -1120.4*x*x+5742.3*x-4352.9\n",
        "NTU"
      ],
      "metadata": {
        "id": "0e8qTdqu5U-4"
      },
      "execution_count": null,
      "outputs": []
    },
    {
      "cell_type": "code",
      "source": [
        "# Import libraries for python coding\n",
        "import numpy as np\n",
        "import matplotlib.pyplot as plt\n",
        "import autograd.numpy as jnp\n",
        "from autograd import grad\n",
        "\n",
        "# Plotting graph of calibration equation\n",
        "def f(x):\n",
        "  return -1120.4*x*x+5742.3*x-4352.9\n",
        "x = np.linspace ( start = 0.      # lower limit\n",
        "                , stop = 4.485    # upper limit\n",
        "                , num = 8000      # generate 8000 points between 0 and 4.485\n",
        "                )\n",
        "y = f(x)\n",
        "\n",
        "# Finding gradient within the range of experimental voltage values\n",
        "def df(x):\n",
        "  return -1120.4*x*x+5742.3*x-4352.9\n",
        "z = df(x)\n",
        "grad_df = grad(df)\n",
        "mpoint = ((3.91-3.83)/2)+3.83\n",
        "print(mpoint)\n",
        "print(\"Gradient of the sensor calibrated graph:\", grad_df(mpoint))\n",
        "\n",
        "# Displaying the graph\n",
        "plt.plot(x, y,  'b:')\n",
        "plt.axhline(y= 0, linewidth=1, color='black')\n",
        "plt.axvline(x= 2.6276699779153843, linewidth=1, color='black')\n",
        "plt.annotate(\"3000 NTU\\n2.63 V\", (2.6276699779153843, 3000.00))\n",
        "plt.annotate(\"0 NTU\\n4.20 V\", (4.2002463660981055, 0.00))\n",
        "plt.annotate(\"m= -2929.60\", (3.8,1500.00))\n",
        "plt.xlabel(\"Voltage / V\")\n",
        "plt.ylabel(\"Turbidity / NTU\")\n",
        "plt.title(\"\\nGraph of Turbidity as a Function of Voltage\\n\\n\")\n",
        "plt.text(0, 1000, \"y=-1120.4x^2+5742.3x-4352.9\", color='black', fontsize=10)\n",
        "plt.show()"
      ],
      "metadata": {
        "id": "Ogyr2FY47q84"
      },
      "execution_count": null,
      "outputs": []
    },
    {
      "cell_type": "code",
      "source": [
        "# if I want to label a specific point\n",
        "\n",
        "plt.scatter([1, 2, 3], [4, 5, 6])\n",
        "plt.annotate(\"Point 1\", (1, 4))\n",
        "plt.show()"
      ],
      "metadata": {
        "id": "Wb6kjr06723v"
      },
      "execution_count": null,
      "outputs": []
    },
    {
      "cell_type": "code",
      "source": [
        "plt.plot(range(0, 10))\n",
        "\n",
        "scale_factor = 5\n",
        "\n",
        "xmin, xmax = plt.xlim()\n",
        "ymin, ymax = plt.ylim()\n",
        "\n",
        "plt.xlim(xmin * scale_factor, xmax * scale_factor)\n",
        "plt.ylim(ymin * scale_factor, ymax * scale_factor)"
      ],
      "metadata": {
        "id": "9-kHEnzi77h_"
      },
      "execution_count": null,
      "outputs": []
    },
    {
      "cell_type": "code",
      "source": [
        "# Calculating percentage error\n",
        "\n",
        "import numpy as np\n",
        "import matplotlib.pyplot as plt\n",
        "\n",
        "def f(x):\n",
        "  return -1120.4*x*x+5742.3*x-4352.9\n",
        "x = np.linspace ( start = 0.    # lower limit\n",
        "                , stop = 4.485      # upper limit\n",
        "                , num = 8000      # generate 8000 points between 0 and 4.485\n",
        "                )\n",
        "y = f(x)\n",
        "plt.plot (x,y)\n",
        "\n",
        "x = 2.562611567\n",
        "NTU = -1120.4*x*x+5742.3*x-4352.9\n",
        "NTU"
      ],
      "metadata": {
        "id": "PIzZQsTg8BCP"
      },
      "execution_count": null,
      "outputs": []
    },
    {
      "cell_type": "code",
      "source": [
        "## SOURCE CODE FOR TURBIDITY SENSOR USING ARDUINO UNO and C++ LANGUAGE\n",
        "## CANNOT RUN THIS CODE ON GOOGLE COLAB BECAUSE OF THE ABSENCE OF SENSOR AND ARDUINO IDE\n",
        "# ------------------------------------------------------------------------------------------\n",
        "\n",
        "# void setup (){ \n",
        "    \n",
        "#   // Baud rate or maximum transferring rate of 9600 bits per second\n",
        "#   Serial.begin(9600);\n",
        "#   }\n",
        "\n",
        "#   void loop(){\n",
        "    \n",
        "#     // Read values from analog pin A0\n",
        "#     int T = analogRead(A0);\n",
        "\n",
        "#     // Voltage value for light intensity detected by phototransistor\n",
        "#     // Mapping input voltage into interger values between 0 and 1023\n",
        "#     float volt = (T)*(4.485/1024.0);\n",
        "\n",
        "#     // Turbidity value for light intensity detected by phototransistor\n",
        "#     float NTU = -1120.4*pow(volt,2.0)+5742.3*volt-4352.9;\n",
        "\n",
        "# // Values to be displayed on IDE monitoring interface\n",
        "# Serial.print(T);\n",
        "# Serial.print(\"\\t\");\n",
        "# Serial.print(volt);\n",
        "# Serial.print(\"\\t\");\n",
        "# Serial.print(NTU);\n",
        "\n",
        "# // 3000 miliseconds delay in between reading\n",
        "# delay(3000);\n",
        "\n",
        "#   }"
      ],
      "metadata": {
        "id": "RjhZ9l2njNW_"
      },
      "execution_count": 49,
      "outputs": []
    },
    {
      "cell_type": "markdown",
      "source": [
        "# 3. Mini Project: Corrupted Data Estimation and Correction Program"
      ],
      "metadata": {
        "id": "0lTObmiv5lYX"
      }
    },
    {
      "cell_type": "code",
      "source": [
        "## cannot run this because the file courrpteddata.csv must be in PC\n",
        "\n",
        "import pandas as pd\n",
        "import matplotlib.pyplot as plt\n",
        "import io\n",
        "import numpy as np\n",
        "from mpl_toolkits import mplot3d\n",
        "from mpl_toolkits.mplot3d import Axes3D\n",
        "from google.colab import files"
      ],
      "metadata": {
        "id": "sdxVWvo25tDe"
      },
      "execution_count": 23,
      "outputs": []
    },
    {
      "cell_type": "code",
      "source": [
        "## download the file courrpteddata.csv first in PC & then upload here\n",
        "\n",
        "uploaded = files.upload()"
      ],
      "metadata": {
        "colab": {
          "resources": {
            "http://localhost:8080/nbextensions/google.colab/files.js": {
              "data": "Ly8gQ29weXJpZ2h0IDIwMTcgR29vZ2xlIExMQwovLwovLyBMaWNlbnNlZCB1bmRlciB0aGUgQXBhY2hlIExpY2Vuc2UsIFZlcnNpb24gMi4wICh0aGUgIkxpY2Vuc2UiKTsKLy8geW91IG1heSBub3QgdXNlIHRoaXMgZmlsZSBleGNlcHQgaW4gY29tcGxpYW5jZSB3aXRoIHRoZSBMaWNlbnNlLgovLyBZb3UgbWF5IG9idGFpbiBhIGNvcHkgb2YgdGhlIExpY2Vuc2UgYXQKLy8KLy8gICAgICBodHRwOi8vd3d3LmFwYWNoZS5vcmcvbGljZW5zZXMvTElDRU5TRS0yLjAKLy8KLy8gVW5sZXNzIHJlcXVpcmVkIGJ5IGFwcGxpY2FibGUgbGF3IG9yIGFncmVlZCB0byBpbiB3cml0aW5nLCBzb2Z0d2FyZQovLyBkaXN0cmlidXRlZCB1bmRlciB0aGUgTGljZW5zZSBpcyBkaXN0cmlidXRlZCBvbiBhbiAiQVMgSVMiIEJBU0lTLAovLyBXSVRIT1VUIFdBUlJBTlRJRVMgT1IgQ09ORElUSU9OUyBPRiBBTlkgS0lORCwgZWl0aGVyIGV4cHJlc3Mgb3IgaW1wbGllZC4KLy8gU2VlIHRoZSBMaWNlbnNlIGZvciB0aGUgc3BlY2lmaWMgbGFuZ3VhZ2UgZ292ZXJuaW5nIHBlcm1pc3Npb25zIGFuZAovLyBsaW1pdGF0aW9ucyB1bmRlciB0aGUgTGljZW5zZS4KCi8qKgogKiBAZmlsZW92ZXJ2aWV3IEhlbHBlcnMgZm9yIGdvb2dsZS5jb2xhYiBQeXRob24gbW9kdWxlLgogKi8KKGZ1bmN0aW9uKHNjb3BlKSB7CmZ1bmN0aW9uIHNwYW4odGV4dCwgc3R5bGVBdHRyaWJ1dGVzID0ge30pIHsKICBjb25zdCBlbGVtZW50ID0gZG9jdW1lbnQuY3JlYXRlRWxlbWVudCgnc3BhbicpOwogIGVsZW1lbnQudGV4dENvbnRlbnQgPSB0ZXh0OwogIGZvciAoY29uc3Qga2V5IG9mIE9iamVjdC5rZXlzKHN0eWxlQXR0cmlidXRlcykpIHsKICAgIGVsZW1lbnQuc3R5bGVba2V5XSA9IHN0eWxlQXR0cmlidXRlc1trZXldOwogIH0KICByZXR1cm4gZWxlbWVudDsKfQoKLy8gTWF4IG51bWJlciBvZiBieXRlcyB3aGljaCB3aWxsIGJlIHVwbG9hZGVkIGF0IGEgdGltZS4KY29uc3QgTUFYX1BBWUxPQURfU0laRSA9IDEwMCAqIDEwMjQ7CgpmdW5jdGlvbiBfdXBsb2FkRmlsZXMoaW5wdXRJZCwgb3V0cHV0SWQpIHsKICBjb25zdCBzdGVwcyA9IHVwbG9hZEZpbGVzU3RlcChpbnB1dElkLCBvdXRwdXRJZCk7CiAgY29uc3Qgb3V0cHV0RWxlbWVudCA9IGRvY3VtZW50LmdldEVsZW1lbnRCeUlkKG91dHB1dElkKTsKICAvLyBDYWNoZSBzdGVwcyBvbiB0aGUgb3V0cHV0RWxlbWVudCB0byBtYWtlIGl0IGF2YWlsYWJsZSBmb3IgdGhlIG5leHQgY2FsbAogIC8vIHRvIHVwbG9hZEZpbGVzQ29udGludWUgZnJvbSBQeXRob24uCiAgb3V0cHV0RWxlbWVudC5zdGVwcyA9IHN0ZXBzOwoKICByZXR1cm4gX3VwbG9hZEZpbGVzQ29udGludWUob3V0cHV0SWQpOwp9CgovLyBUaGlzIGlzIHJvdWdobHkgYW4gYXN5bmMgZ2VuZXJhdG9yIChub3Qgc3VwcG9ydGVkIGluIHRoZSBicm93c2VyIHlldCksCi8vIHdoZXJlIHRoZXJlIGFyZSBtdWx0aXBsZSBhc3luY2hyb25vdXMgc3RlcHMgYW5kIHRoZSBQeXRob24gc2lkZSBpcyBnb2luZwovLyB0byBwb2xsIGZvciBjb21wbGV0aW9uIG9mIGVhY2ggc3RlcC4KLy8gVGhpcyB1c2VzIGEgUHJvbWlzZSB0byBibG9jayB0aGUgcHl0aG9uIHNpZGUgb24gY29tcGxldGlvbiBvZiBlYWNoIHN0ZXAsCi8vIHRoZW4gcGFzc2VzIHRoZSByZXN1bHQgb2YgdGhlIHByZXZpb3VzIHN0ZXAgYXMgdGhlIGlucHV0IHRvIHRoZSBuZXh0IHN0ZXAuCmZ1bmN0aW9uIF91cGxvYWRGaWxlc0NvbnRpbnVlKG91dHB1dElkKSB7CiAgY29uc3Qgb3V0cHV0RWxlbWVudCA9IGRvY3VtZW50LmdldEVsZW1lbnRCeUlkKG91dHB1dElkKTsKICBjb25zdCBzdGVwcyA9IG91dHB1dEVsZW1lbnQuc3RlcHM7CgogIGNvbnN0IG5leHQgPSBzdGVwcy5uZXh0KG91dHB1dEVsZW1lbnQubGFzdFByb21pc2VWYWx1ZSk7CiAgcmV0dXJuIFByb21pc2UucmVzb2x2ZShuZXh0LnZhbHVlLnByb21pc2UpLnRoZW4oKHZhbHVlKSA9PiB7CiAgICAvLyBDYWNoZSB0aGUgbGFzdCBwcm9taXNlIHZhbHVlIHRvIG1ha2UgaXQgYXZhaWxhYmxlIHRvIHRoZSBuZXh0CiAgICAvLyBzdGVwIG9mIHRoZSBnZW5lcmF0b3IuCiAgICBvdXRwdXRFbGVtZW50Lmxhc3RQcm9taXNlVmFsdWUgPSB2YWx1ZTsKICAgIHJldHVybiBuZXh0LnZhbHVlLnJlc3BvbnNlOwogIH0pOwp9CgovKioKICogR2VuZXJhdG9yIGZ1bmN0aW9uIHdoaWNoIGlzIGNhbGxlZCBiZXR3ZWVuIGVhY2ggYXN5bmMgc3RlcCBvZiB0aGUgdXBsb2FkCiAqIHByb2Nlc3MuCiAqIEBwYXJhbSB7c3RyaW5nfSBpbnB1dElkIEVsZW1lbnQgSUQgb2YgdGhlIGlucHV0IGZpbGUgcGlja2VyIGVsZW1lbnQuCiAqIEBwYXJhbSB7c3RyaW5nfSBvdXRwdXRJZCBFbGVtZW50IElEIG9mIHRoZSBvdXRwdXQgZGlzcGxheS4KICogQHJldHVybiB7IUl0ZXJhYmxlPCFPYmplY3Q+fSBJdGVyYWJsZSBvZiBuZXh0IHN0ZXBzLgogKi8KZnVuY3Rpb24qIHVwbG9hZEZpbGVzU3RlcChpbnB1dElkLCBvdXRwdXRJZCkgewogIGNvbnN0IGlucHV0RWxlbWVudCA9IGRvY3VtZW50LmdldEVsZW1lbnRCeUlkKGlucHV0SWQpOwogIGlucHV0RWxlbWVudC5kaXNhYmxlZCA9IGZhbHNlOwoKICBjb25zdCBvdXRwdXRFbGVtZW50ID0gZG9jdW1lbnQuZ2V0RWxlbWVudEJ5SWQob3V0cHV0SWQpOwogIG91dHB1dEVsZW1lbnQuaW5uZXJIVE1MID0gJyc7CgogIGNvbnN0IHBpY2tlZFByb21pc2UgPSBuZXcgUHJvbWlzZSgocmVzb2x2ZSkgPT4gewogICAgaW5wdXRFbGVtZW50LmFkZEV2ZW50TGlzdGVuZXIoJ2NoYW5nZScsIChlKSA9PiB7CiAgICAgIHJlc29sdmUoZS50YXJnZXQuZmlsZXMpOwogICAgfSk7CiAgfSk7CgogIGNvbnN0IGNhbmNlbCA9IGRvY3VtZW50LmNyZWF0ZUVsZW1lbnQoJ2J1dHRvbicpOwogIGlucHV0RWxlbWVudC5wYXJlbnRFbGVtZW50LmFwcGVuZENoaWxkKGNhbmNlbCk7CiAgY2FuY2VsLnRleHRDb250ZW50ID0gJ0NhbmNlbCB1cGxvYWQnOwogIGNvbnN0IGNhbmNlbFByb21pc2UgPSBuZXcgUHJvbWlzZSgocmVzb2x2ZSkgPT4gewogICAgY2FuY2VsLm9uY2xpY2sgPSAoKSA9PiB7CiAgICAgIHJlc29sdmUobnVsbCk7CiAgICB9OwogIH0pOwoKICAvLyBXYWl0IGZvciB0aGUgdXNlciB0byBwaWNrIHRoZSBmaWxlcy4KICBjb25zdCBmaWxlcyA9IHlpZWxkIHsKICAgIHByb21pc2U6IFByb21pc2UucmFjZShbcGlja2VkUHJvbWlzZSwgY2FuY2VsUHJvbWlzZV0pLAogICAgcmVzcG9uc2U6IHsKICAgICAgYWN0aW9uOiAnc3RhcnRpbmcnLAogICAgfQogIH07CgogIGNhbmNlbC5yZW1vdmUoKTsKCiAgLy8gRGlzYWJsZSB0aGUgaW5wdXQgZWxlbWVudCBzaW5jZSBmdXJ0aGVyIHBpY2tzIGFyZSBub3QgYWxsb3dlZC4KICBpbnB1dEVsZW1lbnQuZGlzYWJsZWQgPSB0cnVlOwoKICBpZiAoIWZpbGVzKSB7CiAgICByZXR1cm4gewogICAgICByZXNwb25zZTogewogICAgICAgIGFjdGlvbjogJ2NvbXBsZXRlJywKICAgICAgfQogICAgfTsKICB9CgogIGZvciAoY29uc3QgZmlsZSBvZiBmaWxlcykgewogICAgY29uc3QgbGkgPSBkb2N1bWVudC5jcmVhdGVFbGVtZW50KCdsaScpOwogICAgbGkuYXBwZW5kKHNwYW4oZmlsZS5uYW1lLCB7Zm9udFdlaWdodDogJ2JvbGQnfSkpOwogICAgbGkuYXBwZW5kKHNwYW4oCiAgICAgICAgYCgke2ZpbGUudHlwZSB8fCAnbi9hJ30pIC0gJHtmaWxlLnNpemV9IGJ5dGVzLCBgICsKICAgICAgICBgbGFzdCBtb2RpZmllZDogJHsKICAgICAgICAgICAgZmlsZS5sYXN0TW9kaWZpZWREYXRlID8gZmlsZS5sYXN0TW9kaWZpZWREYXRlLnRvTG9jYWxlRGF0ZVN0cmluZygpIDoKICAgICAgICAgICAgICAgICAgICAgICAgICAgICAgICAgICAgJ24vYSd9IC0gYCkpOwogICAgY29uc3QgcGVyY2VudCA9IHNwYW4oJzAlIGRvbmUnKTsKICAgIGxpLmFwcGVuZENoaWxkKHBlcmNlbnQpOwoKICAgIG91dHB1dEVsZW1lbnQuYXBwZW5kQ2hpbGQobGkpOwoKICAgIGNvbnN0IGZpbGVEYXRhUHJvbWlzZSA9IG5ldyBQcm9taXNlKChyZXNvbHZlKSA9PiB7CiAgICAgIGNvbnN0IHJlYWRlciA9IG5ldyBGaWxlUmVhZGVyKCk7CiAgICAgIHJlYWRlci5vbmxvYWQgPSAoZSkgPT4gewogICAgICAgIHJlc29sdmUoZS50YXJnZXQucmVzdWx0KTsKICAgICAgfTsKICAgICAgcmVhZGVyLnJlYWRBc0FycmF5QnVmZmVyKGZpbGUpOwogICAgfSk7CiAgICAvLyBXYWl0IGZvciB0aGUgZGF0YSB0byBiZSByZWFkeS4KICAgIGxldCBmaWxlRGF0YSA9IHlpZWxkIHsKICAgICAgcHJvbWlzZTogZmlsZURhdGFQcm9taXNlLAogICAgICByZXNwb25zZTogewogICAgICAgIGFjdGlvbjogJ2NvbnRpbnVlJywKICAgICAgfQogICAgfTsKCiAgICAvLyBVc2UgYSBjaHVua2VkIHNlbmRpbmcgdG8gYXZvaWQgbWVzc2FnZSBzaXplIGxpbWl0cy4gU2VlIGIvNjIxMTU2NjAuCiAgICBsZXQgcG9zaXRpb24gPSAwOwogICAgZG8gewogICAgICBjb25zdCBsZW5ndGggPSBNYXRoLm1pbihmaWxlRGF0YS5ieXRlTGVuZ3RoIC0gcG9zaXRpb24sIE1BWF9QQVlMT0FEX1NJWkUpOwogICAgICBjb25zdCBjaHVuayA9IG5ldyBVaW50OEFycmF5KGZpbGVEYXRhLCBwb3NpdGlvbiwgbGVuZ3RoKTsKICAgICAgcG9zaXRpb24gKz0gbGVuZ3RoOwoKICAgICAgY29uc3QgYmFzZTY0ID0gYnRvYShTdHJpbmcuZnJvbUNoYXJDb2RlLmFwcGx5KG51bGwsIGNodW5rKSk7CiAgICAgIHlpZWxkIHsKICAgICAgICByZXNwb25zZTogewogICAgICAgICAgYWN0aW9uOiAnYXBwZW5kJywKICAgICAgICAgIGZpbGU6IGZpbGUubmFtZSwKICAgICAgICAgIGRhdGE6IGJhc2U2NCwKICAgICAgICB9LAogICAgICB9OwoKICAgICAgbGV0IHBlcmNlbnREb25lID0gZmlsZURhdGEuYnl0ZUxlbmd0aCA9PT0gMCA/CiAgICAgICAgICAxMDAgOgogICAgICAgICAgTWF0aC5yb3VuZCgocG9zaXRpb24gLyBmaWxlRGF0YS5ieXRlTGVuZ3RoKSAqIDEwMCk7CiAgICAgIHBlcmNlbnQudGV4dENvbnRlbnQgPSBgJHtwZXJjZW50RG9uZX0lIGRvbmVgOwoKICAgIH0gd2hpbGUgKHBvc2l0aW9uIDwgZmlsZURhdGEuYnl0ZUxlbmd0aCk7CiAgfQoKICAvLyBBbGwgZG9uZS4KICB5aWVsZCB7CiAgICByZXNwb25zZTogewogICAgICBhY3Rpb246ICdjb21wbGV0ZScsCiAgICB9CiAgfTsKfQoKc2NvcGUuZ29vZ2xlID0gc2NvcGUuZ29vZ2xlIHx8IHt9OwpzY29wZS5nb29nbGUuY29sYWIgPSBzY29wZS5nb29nbGUuY29sYWIgfHwge307CnNjb3BlLmdvb2dsZS5jb2xhYi5fZmlsZXMgPSB7CiAgX3VwbG9hZEZpbGVzLAogIF91cGxvYWRGaWxlc0NvbnRpbnVlLAp9Owp9KShzZWxmKTsK",
              "ok": true,
              "headers": [
                [
                  "content-type",
                  "application/javascript"
                ]
              ],
              "status": 200,
              "status_text": ""
            }
          },
          "base_uri": "https://localhost:8080/",
          "height": 72
        },
        "id": "ZyX9zG6p8qLo",
        "outputId": "5b387757-6f13-41a6-ffc1-b07854ee3d7a"
      },
      "execution_count": 24,
      "outputs": [
        {
          "output_type": "display_data",
          "data": {
            "text/plain": [
              "<IPython.core.display.HTML object>"
            ],
            "text/html": [
              "\n",
              "     <input type=\"file\" id=\"files-ac7a9497-141e-4e91-8d74-72d4dc41b831\" name=\"files[]\" multiple disabled\n",
              "        style=\"border:none\" />\n",
              "     <output id=\"result-ac7a9497-141e-4e91-8d74-72d4dc41b831\">\n",
              "      Upload widget is only available when the cell has been executed in the\n",
              "      current browser session. Please rerun this cell to enable.\n",
              "      </output>\n",
              "      <script src=\"/nbextensions/google.colab/files.js\"></script> "
            ]
          },
          "metadata": {}
        },
        {
          "output_type": "stream",
          "name": "stdout",
          "text": [
            "Saving corrupteddata.csv to corrupteddata.csv\n"
          ]
        }
      ]
    },
    {
      "cell_type": "code",
      "source": [
        "## download the file courrpteddata.csv first in PC & then upload here\n",
        "\n",
        "df2 = pd.read_csv(io.BytesIO(uploaded['corrupteddata.csv']))\n",
        "df2"
      ],
      "metadata": {
        "colab": {
          "base_uri": "https://localhost:8080/",
          "height": 505
        },
        "id": "frYrSINw-rwi",
        "outputId": "0e5cda5f-3443-49bb-ee44-9595d86faa78"
      },
      "execution_count": 25,
      "outputs": [
        {
          "output_type": "execute_result",
          "data": {
            "text/plain": [
              "     Unnamed: 0         0         1         2         3         4         5  \\\n",
              "0             0  0.658807  0.645565  0.632154  0.618583  0.604864  0.591009   \n",
              "1             1  0.659458  0.646216  0.632805  0.619234  0.605516  0.591660   \n",
              "2             2  0.660030  0.646788  0.633377  0.619806  0.606088  0.592232   \n",
              "3             3  0.660523  0.647282  0.633870  0.620300  0.606581  0.592726   \n",
              "4             4  0.660938  0.647696  0.634284  0.620714  0.606995  0.593140   \n",
              "..          ...       ...       ...       ...       ...       ...       ...   \n",
              "495         495  0.655415  0.642174  0.628762  0.615192  0.601473  0.587618   \n",
              "496         496  0.656381  0.643139  0.629728  0.616157  0.602439  0.588583   \n",
              "497         497  0.657268  0.644027  0.630615  0.617044  0.603326  0.589470   \n",
              "498         498  0.658077  0.644835  0.631424  0.617853  0.604134  0.590279   \n",
              "499         499  0.658807  0.645565  0.632154  0.618583  0.604864  0.591009   \n",
              "\n",
              "            6         7         8  ...       490       491       492  \\\n",
              "0    0.577028  0.562935  0.548740  ...  0.768756  0.757463  0.745921   \n",
              "1    0.577680  0.563586  0.549392  ...  0.769407  0.758114  0.746572   \n",
              "2    0.578252  0.564158  0.549964  ...  0.769980  0.758686  0.747144   \n",
              "3    0.578745  0.564652  0.550457  ...  0.770473  0.759180  0.747637   \n",
              "4    0.579159  0.565066  0.550871  ...  0.770887  0.759594  0.748051   \n",
              "..        ...       ...       ...  ...       ...       ...       ...   \n",
              "495  0.573637  0.559544  0.545349  ...  0.765365  0.754071  0.742529   \n",
              "496  0.574603  0.560509  0.546315  ...  0.766330  0.755037  0.743495   \n",
              "497  0.575490  0.561396  0.547202  ...  0.767218  0.755924  0.744382   \n",
              "498  0.576299  0.562205  0.548010  ...  0.768026  0.756733  0.745191   \n",
              "499  0.577028  0.562935  0.548740  ...  0.768756  0.757463  0.745921   \n",
              "\n",
              "          493       494       495       496       497       498       499  \n",
              "0    0.734136  0.722118  0.709873  0.697411  0.684739  0.671868  0.658807  \n",
              "1    0.734788  0.722769  0.710525  0.698062  0.685391  0.672519  0.659458  \n",
              "2    0.735360  0.723342  0.711097  0.698634  0.685963  0.673092  0.660030  \n",
              "3    0.735853  0.723835  0.711590  0.699128  0.686456  0.673585  0.660523  \n",
              "4    0.736267  0.724249  0.712004  0.699542  0.686870  0.673999  0.660938  \n",
              "..        ...       ...       ...       ...       ...       ...       ...  \n",
              "495  0.730745  0.718727  0.706482  0.694020  0.681348  0.668477  0.655415  \n",
              "496  0.731711  0.719692  0.707448  0.694985  0.682314  0.669442  0.656381  \n",
              "497  0.732598  0.720580  0.708335  0.695872  0.683201  0.670330  0.657268  \n",
              "498  0.733407  0.721388  0.709144  0.696681  0.684010  0.671138  0.658077  \n",
              "499  0.734136  0.722118  0.709873  0.697411  0.684739  0.671868  0.658807  \n",
              "\n",
              "[500 rows x 501 columns]"
            ],
            "text/html": [
              "\n",
              "  <div id=\"df-492cdb4c-30f7-4b57-80f5-48c0b98cb182\">\n",
              "    <div class=\"colab-df-container\">\n",
              "      <div>\n",
              "<style scoped>\n",
              "    .dataframe tbody tr th:only-of-type {\n",
              "        vertical-align: middle;\n",
              "    }\n",
              "\n",
              "    .dataframe tbody tr th {\n",
              "        vertical-align: top;\n",
              "    }\n",
              "\n",
              "    .dataframe thead th {\n",
              "        text-align: right;\n",
              "    }\n",
              "</style>\n",
              "<table border=\"1\" class=\"dataframe\">\n",
              "  <thead>\n",
              "    <tr style=\"text-align: right;\">\n",
              "      <th></th>\n",
              "      <th>Unnamed: 0</th>\n",
              "      <th>0</th>\n",
              "      <th>1</th>\n",
              "      <th>2</th>\n",
              "      <th>3</th>\n",
              "      <th>4</th>\n",
              "      <th>5</th>\n",
              "      <th>6</th>\n",
              "      <th>7</th>\n",
              "      <th>8</th>\n",
              "      <th>...</th>\n",
              "      <th>490</th>\n",
              "      <th>491</th>\n",
              "      <th>492</th>\n",
              "      <th>493</th>\n",
              "      <th>494</th>\n",
              "      <th>495</th>\n",
              "      <th>496</th>\n",
              "      <th>497</th>\n",
              "      <th>498</th>\n",
              "      <th>499</th>\n",
              "    </tr>\n",
              "  </thead>\n",
              "  <tbody>\n",
              "    <tr>\n",
              "      <th>0</th>\n",
              "      <td>0</td>\n",
              "      <td>0.658807</td>\n",
              "      <td>0.645565</td>\n",
              "      <td>0.632154</td>\n",
              "      <td>0.618583</td>\n",
              "      <td>0.604864</td>\n",
              "      <td>0.591009</td>\n",
              "      <td>0.577028</td>\n",
              "      <td>0.562935</td>\n",
              "      <td>0.548740</td>\n",
              "      <td>...</td>\n",
              "      <td>0.768756</td>\n",
              "      <td>0.757463</td>\n",
              "      <td>0.745921</td>\n",
              "      <td>0.734136</td>\n",
              "      <td>0.722118</td>\n",
              "      <td>0.709873</td>\n",
              "      <td>0.697411</td>\n",
              "      <td>0.684739</td>\n",
              "      <td>0.671868</td>\n",
              "      <td>0.658807</td>\n",
              "    </tr>\n",
              "    <tr>\n",
              "      <th>1</th>\n",
              "      <td>1</td>\n",
              "      <td>0.659458</td>\n",
              "      <td>0.646216</td>\n",
              "      <td>0.632805</td>\n",
              "      <td>0.619234</td>\n",
              "      <td>0.605516</td>\n",
              "      <td>0.591660</td>\n",
              "      <td>0.577680</td>\n",
              "      <td>0.563586</td>\n",
              "      <td>0.549392</td>\n",
              "      <td>...</td>\n",
              "      <td>0.769407</td>\n",
              "      <td>0.758114</td>\n",
              "      <td>0.746572</td>\n",
              "      <td>0.734788</td>\n",
              "      <td>0.722769</td>\n",
              "      <td>0.710525</td>\n",
              "      <td>0.698062</td>\n",
              "      <td>0.685391</td>\n",
              "      <td>0.672519</td>\n",
              "      <td>0.659458</td>\n",
              "    </tr>\n",
              "    <tr>\n",
              "      <th>2</th>\n",
              "      <td>2</td>\n",
              "      <td>0.660030</td>\n",
              "      <td>0.646788</td>\n",
              "      <td>0.633377</td>\n",
              "      <td>0.619806</td>\n",
              "      <td>0.606088</td>\n",
              "      <td>0.592232</td>\n",
              "      <td>0.578252</td>\n",
              "      <td>0.564158</td>\n",
              "      <td>0.549964</td>\n",
              "      <td>...</td>\n",
              "      <td>0.769980</td>\n",
              "      <td>0.758686</td>\n",
              "      <td>0.747144</td>\n",
              "      <td>0.735360</td>\n",
              "      <td>0.723342</td>\n",
              "      <td>0.711097</td>\n",
              "      <td>0.698634</td>\n",
              "      <td>0.685963</td>\n",
              "      <td>0.673092</td>\n",
              "      <td>0.660030</td>\n",
              "    </tr>\n",
              "    <tr>\n",
              "      <th>3</th>\n",
              "      <td>3</td>\n",
              "      <td>0.660523</td>\n",
              "      <td>0.647282</td>\n",
              "      <td>0.633870</td>\n",
              "      <td>0.620300</td>\n",
              "      <td>0.606581</td>\n",
              "      <td>0.592726</td>\n",
              "      <td>0.578745</td>\n",
              "      <td>0.564652</td>\n",
              "      <td>0.550457</td>\n",
              "      <td>...</td>\n",
              "      <td>0.770473</td>\n",
              "      <td>0.759180</td>\n",
              "      <td>0.747637</td>\n",
              "      <td>0.735853</td>\n",
              "      <td>0.723835</td>\n",
              "      <td>0.711590</td>\n",
              "      <td>0.699128</td>\n",
              "      <td>0.686456</td>\n",
              "      <td>0.673585</td>\n",
              "      <td>0.660523</td>\n",
              "    </tr>\n",
              "    <tr>\n",
              "      <th>4</th>\n",
              "      <td>4</td>\n",
              "      <td>0.660938</td>\n",
              "      <td>0.647696</td>\n",
              "      <td>0.634284</td>\n",
              "      <td>0.620714</td>\n",
              "      <td>0.606995</td>\n",
              "      <td>0.593140</td>\n",
              "      <td>0.579159</td>\n",
              "      <td>0.565066</td>\n",
              "      <td>0.550871</td>\n",
              "      <td>...</td>\n",
              "      <td>0.770887</td>\n",
              "      <td>0.759594</td>\n",
              "      <td>0.748051</td>\n",
              "      <td>0.736267</td>\n",
              "      <td>0.724249</td>\n",
              "      <td>0.712004</td>\n",
              "      <td>0.699542</td>\n",
              "      <td>0.686870</td>\n",
              "      <td>0.673999</td>\n",
              "      <td>0.660938</td>\n",
              "    </tr>\n",
              "    <tr>\n",
              "      <th>...</th>\n",
              "      <td>...</td>\n",
              "      <td>...</td>\n",
              "      <td>...</td>\n",
              "      <td>...</td>\n",
              "      <td>...</td>\n",
              "      <td>...</td>\n",
              "      <td>...</td>\n",
              "      <td>...</td>\n",
              "      <td>...</td>\n",
              "      <td>...</td>\n",
              "      <td>...</td>\n",
              "      <td>...</td>\n",
              "      <td>...</td>\n",
              "      <td>...</td>\n",
              "      <td>...</td>\n",
              "      <td>...</td>\n",
              "      <td>...</td>\n",
              "      <td>...</td>\n",
              "      <td>...</td>\n",
              "      <td>...</td>\n",
              "      <td>...</td>\n",
              "    </tr>\n",
              "    <tr>\n",
              "      <th>495</th>\n",
              "      <td>495</td>\n",
              "      <td>0.655415</td>\n",
              "      <td>0.642174</td>\n",
              "      <td>0.628762</td>\n",
              "      <td>0.615192</td>\n",
              "      <td>0.601473</td>\n",
              "      <td>0.587618</td>\n",
              "      <td>0.573637</td>\n",
              "      <td>0.559544</td>\n",
              "      <td>0.545349</td>\n",
              "      <td>...</td>\n",
              "      <td>0.765365</td>\n",
              "      <td>0.754071</td>\n",
              "      <td>0.742529</td>\n",
              "      <td>0.730745</td>\n",
              "      <td>0.718727</td>\n",
              "      <td>0.706482</td>\n",
              "      <td>0.694020</td>\n",
              "      <td>0.681348</td>\n",
              "      <td>0.668477</td>\n",
              "      <td>0.655415</td>\n",
              "    </tr>\n",
              "    <tr>\n",
              "      <th>496</th>\n",
              "      <td>496</td>\n",
              "      <td>0.656381</td>\n",
              "      <td>0.643139</td>\n",
              "      <td>0.629728</td>\n",
              "      <td>0.616157</td>\n",
              "      <td>0.602439</td>\n",
              "      <td>0.588583</td>\n",
              "      <td>0.574603</td>\n",
              "      <td>0.560509</td>\n",
              "      <td>0.546315</td>\n",
              "      <td>...</td>\n",
              "      <td>0.766330</td>\n",
              "      <td>0.755037</td>\n",
              "      <td>0.743495</td>\n",
              "      <td>0.731711</td>\n",
              "      <td>0.719692</td>\n",
              "      <td>0.707448</td>\n",
              "      <td>0.694985</td>\n",
              "      <td>0.682314</td>\n",
              "      <td>0.669442</td>\n",
              "      <td>0.656381</td>\n",
              "    </tr>\n",
              "    <tr>\n",
              "      <th>497</th>\n",
              "      <td>497</td>\n",
              "      <td>0.657268</td>\n",
              "      <td>0.644027</td>\n",
              "      <td>0.630615</td>\n",
              "      <td>0.617044</td>\n",
              "      <td>0.603326</td>\n",
              "      <td>0.589470</td>\n",
              "      <td>0.575490</td>\n",
              "      <td>0.561396</td>\n",
              "      <td>0.547202</td>\n",
              "      <td>...</td>\n",
              "      <td>0.767218</td>\n",
              "      <td>0.755924</td>\n",
              "      <td>0.744382</td>\n",
              "      <td>0.732598</td>\n",
              "      <td>0.720580</td>\n",
              "      <td>0.708335</td>\n",
              "      <td>0.695872</td>\n",
              "      <td>0.683201</td>\n",
              "      <td>0.670330</td>\n",
              "      <td>0.657268</td>\n",
              "    </tr>\n",
              "    <tr>\n",
              "      <th>498</th>\n",
              "      <td>498</td>\n",
              "      <td>0.658077</td>\n",
              "      <td>0.644835</td>\n",
              "      <td>0.631424</td>\n",
              "      <td>0.617853</td>\n",
              "      <td>0.604134</td>\n",
              "      <td>0.590279</td>\n",
              "      <td>0.576299</td>\n",
              "      <td>0.562205</td>\n",
              "      <td>0.548010</td>\n",
              "      <td>...</td>\n",
              "      <td>0.768026</td>\n",
              "      <td>0.756733</td>\n",
              "      <td>0.745191</td>\n",
              "      <td>0.733407</td>\n",
              "      <td>0.721388</td>\n",
              "      <td>0.709144</td>\n",
              "      <td>0.696681</td>\n",
              "      <td>0.684010</td>\n",
              "      <td>0.671138</td>\n",
              "      <td>0.658077</td>\n",
              "    </tr>\n",
              "    <tr>\n",
              "      <th>499</th>\n",
              "      <td>499</td>\n",
              "      <td>0.658807</td>\n",
              "      <td>0.645565</td>\n",
              "      <td>0.632154</td>\n",
              "      <td>0.618583</td>\n",
              "      <td>0.604864</td>\n",
              "      <td>0.591009</td>\n",
              "      <td>0.577028</td>\n",
              "      <td>0.562935</td>\n",
              "      <td>0.548740</td>\n",
              "      <td>...</td>\n",
              "      <td>0.768756</td>\n",
              "      <td>0.757463</td>\n",
              "      <td>0.745921</td>\n",
              "      <td>0.734136</td>\n",
              "      <td>0.722118</td>\n",
              "      <td>0.709873</td>\n",
              "      <td>0.697411</td>\n",
              "      <td>0.684739</td>\n",
              "      <td>0.671868</td>\n",
              "      <td>0.658807</td>\n",
              "    </tr>\n",
              "  </tbody>\n",
              "</table>\n",
              "<p>500 rows × 501 columns</p>\n",
              "</div>\n",
              "      <button class=\"colab-df-convert\" onclick=\"convertToInteractive('df-492cdb4c-30f7-4b57-80f5-48c0b98cb182')\"\n",
              "              title=\"Convert this dataframe to an interactive table.\"\n",
              "              style=\"display:none;\">\n",
              "        \n",
              "  <svg xmlns=\"http://www.w3.org/2000/svg\" height=\"24px\"viewBox=\"0 0 24 24\"\n",
              "       width=\"24px\">\n",
              "    <path d=\"M0 0h24v24H0V0z\" fill=\"none\"/>\n",
              "    <path d=\"M18.56 5.44l.94 2.06.94-2.06 2.06-.94-2.06-.94-.94-2.06-.94 2.06-2.06.94zm-11 1L8.5 8.5l.94-2.06 2.06-.94-2.06-.94L8.5 2.5l-.94 2.06-2.06.94zm10 10l.94 2.06.94-2.06 2.06-.94-2.06-.94-.94-2.06-.94 2.06-2.06.94z\"/><path d=\"M17.41 7.96l-1.37-1.37c-.4-.4-.92-.59-1.43-.59-.52 0-1.04.2-1.43.59L10.3 9.45l-7.72 7.72c-.78.78-.78 2.05 0 2.83L4 21.41c.39.39.9.59 1.41.59.51 0 1.02-.2 1.41-.59l7.78-7.78 2.81-2.81c.8-.78.8-2.07 0-2.86zM5.41 20L4 18.59l7.72-7.72 1.47 1.35L5.41 20z\"/>\n",
              "  </svg>\n",
              "      </button>\n",
              "      \n",
              "  <style>\n",
              "    .colab-df-container {\n",
              "      display:flex;\n",
              "      flex-wrap:wrap;\n",
              "      gap: 12px;\n",
              "    }\n",
              "\n",
              "    .colab-df-convert {\n",
              "      background-color: #E8F0FE;\n",
              "      border: none;\n",
              "      border-radius: 50%;\n",
              "      cursor: pointer;\n",
              "      display: none;\n",
              "      fill: #1967D2;\n",
              "      height: 32px;\n",
              "      padding: 0 0 0 0;\n",
              "      width: 32px;\n",
              "    }\n",
              "\n",
              "    .colab-df-convert:hover {\n",
              "      background-color: #E2EBFA;\n",
              "      box-shadow: 0px 1px 2px rgba(60, 64, 67, 0.3), 0px 1px 3px 1px rgba(60, 64, 67, 0.15);\n",
              "      fill: #174EA6;\n",
              "    }\n",
              "\n",
              "    [theme=dark] .colab-df-convert {\n",
              "      background-color: #3B4455;\n",
              "      fill: #D2E3FC;\n",
              "    }\n",
              "\n",
              "    [theme=dark] .colab-df-convert:hover {\n",
              "      background-color: #434B5C;\n",
              "      box-shadow: 0px 1px 3px 1px rgba(0, 0, 0, 0.15);\n",
              "      filter: drop-shadow(0px 1px 2px rgba(0, 0, 0, 0.3));\n",
              "      fill: #FFFFFF;\n",
              "    }\n",
              "  </style>\n",
              "\n",
              "      <script>\n",
              "        const buttonEl =\n",
              "          document.querySelector('#df-492cdb4c-30f7-4b57-80f5-48c0b98cb182 button.colab-df-convert');\n",
              "        buttonEl.style.display =\n",
              "          google.colab.kernel.accessAllowed ? 'block' : 'none';\n",
              "\n",
              "        async function convertToInteractive(key) {\n",
              "          const element = document.querySelector('#df-492cdb4c-30f7-4b57-80f5-48c0b98cb182');\n",
              "          const dataTable =\n",
              "            await google.colab.kernel.invokeFunction('convertToInteractive',\n",
              "                                                     [key], {});\n",
              "          if (!dataTable) return;\n",
              "\n",
              "          const docLinkHtml = 'Like what you see? Visit the ' +\n",
              "            '<a target=\"_blank\" href=https://colab.research.google.com/notebooks/data_table.ipynb>data table notebook</a>'\n",
              "            + ' to learn more about interactive tables.';\n",
              "          element.innerHTML = '';\n",
              "          dataTable['output_type'] = 'display_data';\n",
              "          await google.colab.output.renderOutput(dataTable, element);\n",
              "          const docLink = document.createElement('div');\n",
              "          docLink.innerHTML = docLinkHtml;\n",
              "          element.appendChild(docLink);\n",
              "        }\n",
              "      </script>\n",
              "    </div>\n",
              "  </div>\n",
              "  "
            ]
          },
          "metadata": {},
          "execution_count": 25
        }
      ]
    },
    {
      "cell_type": "code",
      "source": [
        "## download the file courrpteddata.csv first in PC & then upload here\n",
        "\n",
        "df2 = df2.drop(['Unnamed: 0'], axis='columns')\n",
        "df2"
      ],
      "metadata": {
        "colab": {
          "base_uri": "https://localhost:8080/",
          "height": 488
        },
        "id": "DaRu7WCk8404",
        "outputId": "af69c8ba-ca03-46bc-9c09-e8093357ca1d"
      },
      "execution_count": 26,
      "outputs": [
        {
          "output_type": "execute_result",
          "data": {
            "text/plain": [
              "            0         1         2         3         4         5         6  \\\n",
              "0    0.658807  0.645565  0.632154  0.618583  0.604864  0.591009  0.577028   \n",
              "1    0.659458  0.646216  0.632805  0.619234  0.605516  0.591660  0.577680   \n",
              "2    0.660030  0.646788  0.633377  0.619806  0.606088  0.592232  0.578252   \n",
              "3    0.660523  0.647282  0.633870  0.620300  0.606581  0.592726  0.578745   \n",
              "4    0.660938  0.647696  0.634284  0.620714  0.606995  0.593140  0.579159   \n",
              "..        ...       ...       ...       ...       ...       ...       ...   \n",
              "495  0.655415  0.642174  0.628762  0.615192  0.601473  0.587618  0.573637   \n",
              "496  0.656381  0.643139  0.629728  0.616157  0.602439  0.588583  0.574603   \n",
              "497  0.657268  0.644027  0.630615  0.617044  0.603326  0.589470  0.575490   \n",
              "498  0.658077  0.644835  0.631424  0.617853  0.604134  0.590279  0.576299   \n",
              "499  0.658807  0.645565  0.632154  0.618583  0.604864  0.591009  0.577028   \n",
              "\n",
              "            7         8         9  ...       490       491       492  \\\n",
              "0    0.562935  0.548740  0.534458  ...  0.768756  0.757463  0.745921   \n",
              "1    0.563586  0.549392  0.535109  ...  0.769407  0.758114  0.746572   \n",
              "2    0.564158  0.549964  0.535681  ...  0.769980  0.758686  0.747144   \n",
              "3    0.564652  0.550457  0.536174  ...  0.770473  0.759180  0.747637   \n",
              "4    0.565066  0.550871  0.536588  ...  0.770887  0.759594  0.748051   \n",
              "..        ...       ...       ...  ...       ...       ...       ...   \n",
              "495  0.559544  0.545349  0.531066  ...  0.765365  0.754071  0.742529   \n",
              "496  0.560509  0.546315  0.532032  ...  0.766330  0.755037  0.743495   \n",
              "497  0.561396  0.547202  0.532919  ...  0.767218  0.755924  0.744382   \n",
              "498  0.562205  0.548010  0.533728  ...  0.768026  0.756733  0.745191   \n",
              "499  0.562935  0.548740  0.534458  ...  0.768756  0.757463  0.745921   \n",
              "\n",
              "          493       494       495       496       497       498       499  \n",
              "0    0.734136  0.722118  0.709873  0.697411  0.684739  0.671868  0.658807  \n",
              "1    0.734788  0.722769  0.710525  0.698062  0.685391  0.672519  0.659458  \n",
              "2    0.735360  0.723342  0.711097  0.698634  0.685963  0.673092  0.660030  \n",
              "3    0.735853  0.723835  0.711590  0.699128  0.686456  0.673585  0.660523  \n",
              "4    0.736267  0.724249  0.712004  0.699542  0.686870  0.673999  0.660938  \n",
              "..        ...       ...       ...       ...       ...       ...       ...  \n",
              "495  0.730745  0.718727  0.706482  0.694020  0.681348  0.668477  0.655415  \n",
              "496  0.731711  0.719692  0.707448  0.694985  0.682314  0.669442  0.656381  \n",
              "497  0.732598  0.720580  0.708335  0.695872  0.683201  0.670330  0.657268  \n",
              "498  0.733407  0.721388  0.709144  0.696681  0.684010  0.671138  0.658077  \n",
              "499  0.734136  0.722118  0.709873  0.697411  0.684739  0.671868  0.658807  \n",
              "\n",
              "[500 rows x 500 columns]"
            ],
            "text/html": [
              "\n",
              "  <div id=\"df-99240a14-0521-4eb0-b1e8-6221f23605f3\">\n",
              "    <div class=\"colab-df-container\">\n",
              "      <div>\n",
              "<style scoped>\n",
              "    .dataframe tbody tr th:only-of-type {\n",
              "        vertical-align: middle;\n",
              "    }\n",
              "\n",
              "    .dataframe tbody tr th {\n",
              "        vertical-align: top;\n",
              "    }\n",
              "\n",
              "    .dataframe thead th {\n",
              "        text-align: right;\n",
              "    }\n",
              "</style>\n",
              "<table border=\"1\" class=\"dataframe\">\n",
              "  <thead>\n",
              "    <tr style=\"text-align: right;\">\n",
              "      <th></th>\n",
              "      <th>0</th>\n",
              "      <th>1</th>\n",
              "      <th>2</th>\n",
              "      <th>3</th>\n",
              "      <th>4</th>\n",
              "      <th>5</th>\n",
              "      <th>6</th>\n",
              "      <th>7</th>\n",
              "      <th>8</th>\n",
              "      <th>9</th>\n",
              "      <th>...</th>\n",
              "      <th>490</th>\n",
              "      <th>491</th>\n",
              "      <th>492</th>\n",
              "      <th>493</th>\n",
              "      <th>494</th>\n",
              "      <th>495</th>\n",
              "      <th>496</th>\n",
              "      <th>497</th>\n",
              "      <th>498</th>\n",
              "      <th>499</th>\n",
              "    </tr>\n",
              "  </thead>\n",
              "  <tbody>\n",
              "    <tr>\n",
              "      <th>0</th>\n",
              "      <td>0.658807</td>\n",
              "      <td>0.645565</td>\n",
              "      <td>0.632154</td>\n",
              "      <td>0.618583</td>\n",
              "      <td>0.604864</td>\n",
              "      <td>0.591009</td>\n",
              "      <td>0.577028</td>\n",
              "      <td>0.562935</td>\n",
              "      <td>0.548740</td>\n",
              "      <td>0.534458</td>\n",
              "      <td>...</td>\n",
              "      <td>0.768756</td>\n",
              "      <td>0.757463</td>\n",
              "      <td>0.745921</td>\n",
              "      <td>0.734136</td>\n",
              "      <td>0.722118</td>\n",
              "      <td>0.709873</td>\n",
              "      <td>0.697411</td>\n",
              "      <td>0.684739</td>\n",
              "      <td>0.671868</td>\n",
              "      <td>0.658807</td>\n",
              "    </tr>\n",
              "    <tr>\n",
              "      <th>1</th>\n",
              "      <td>0.659458</td>\n",
              "      <td>0.646216</td>\n",
              "      <td>0.632805</td>\n",
              "      <td>0.619234</td>\n",
              "      <td>0.605516</td>\n",
              "      <td>0.591660</td>\n",
              "      <td>0.577680</td>\n",
              "      <td>0.563586</td>\n",
              "      <td>0.549392</td>\n",
              "      <td>0.535109</td>\n",
              "      <td>...</td>\n",
              "      <td>0.769407</td>\n",
              "      <td>0.758114</td>\n",
              "      <td>0.746572</td>\n",
              "      <td>0.734788</td>\n",
              "      <td>0.722769</td>\n",
              "      <td>0.710525</td>\n",
              "      <td>0.698062</td>\n",
              "      <td>0.685391</td>\n",
              "      <td>0.672519</td>\n",
              "      <td>0.659458</td>\n",
              "    </tr>\n",
              "    <tr>\n",
              "      <th>2</th>\n",
              "      <td>0.660030</td>\n",
              "      <td>0.646788</td>\n",
              "      <td>0.633377</td>\n",
              "      <td>0.619806</td>\n",
              "      <td>0.606088</td>\n",
              "      <td>0.592232</td>\n",
              "      <td>0.578252</td>\n",
              "      <td>0.564158</td>\n",
              "      <td>0.549964</td>\n",
              "      <td>0.535681</td>\n",
              "      <td>...</td>\n",
              "      <td>0.769980</td>\n",
              "      <td>0.758686</td>\n",
              "      <td>0.747144</td>\n",
              "      <td>0.735360</td>\n",
              "      <td>0.723342</td>\n",
              "      <td>0.711097</td>\n",
              "      <td>0.698634</td>\n",
              "      <td>0.685963</td>\n",
              "      <td>0.673092</td>\n",
              "      <td>0.660030</td>\n",
              "    </tr>\n",
              "    <tr>\n",
              "      <th>3</th>\n",
              "      <td>0.660523</td>\n",
              "      <td>0.647282</td>\n",
              "      <td>0.633870</td>\n",
              "      <td>0.620300</td>\n",
              "      <td>0.606581</td>\n",
              "      <td>0.592726</td>\n",
              "      <td>0.578745</td>\n",
              "      <td>0.564652</td>\n",
              "      <td>0.550457</td>\n",
              "      <td>0.536174</td>\n",
              "      <td>...</td>\n",
              "      <td>0.770473</td>\n",
              "      <td>0.759180</td>\n",
              "      <td>0.747637</td>\n",
              "      <td>0.735853</td>\n",
              "      <td>0.723835</td>\n",
              "      <td>0.711590</td>\n",
              "      <td>0.699128</td>\n",
              "      <td>0.686456</td>\n",
              "      <td>0.673585</td>\n",
              "      <td>0.660523</td>\n",
              "    </tr>\n",
              "    <tr>\n",
              "      <th>4</th>\n",
              "      <td>0.660938</td>\n",
              "      <td>0.647696</td>\n",
              "      <td>0.634284</td>\n",
              "      <td>0.620714</td>\n",
              "      <td>0.606995</td>\n",
              "      <td>0.593140</td>\n",
              "      <td>0.579159</td>\n",
              "      <td>0.565066</td>\n",
              "      <td>0.550871</td>\n",
              "      <td>0.536588</td>\n",
              "      <td>...</td>\n",
              "      <td>0.770887</td>\n",
              "      <td>0.759594</td>\n",
              "      <td>0.748051</td>\n",
              "      <td>0.736267</td>\n",
              "      <td>0.724249</td>\n",
              "      <td>0.712004</td>\n",
              "      <td>0.699542</td>\n",
              "      <td>0.686870</td>\n",
              "      <td>0.673999</td>\n",
              "      <td>0.660938</td>\n",
              "    </tr>\n",
              "    <tr>\n",
              "      <th>...</th>\n",
              "      <td>...</td>\n",
              "      <td>...</td>\n",
              "      <td>...</td>\n",
              "      <td>...</td>\n",
              "      <td>...</td>\n",
              "      <td>...</td>\n",
              "      <td>...</td>\n",
              "      <td>...</td>\n",
              "      <td>...</td>\n",
              "      <td>...</td>\n",
              "      <td>...</td>\n",
              "      <td>...</td>\n",
              "      <td>...</td>\n",
              "      <td>...</td>\n",
              "      <td>...</td>\n",
              "      <td>...</td>\n",
              "      <td>...</td>\n",
              "      <td>...</td>\n",
              "      <td>...</td>\n",
              "      <td>...</td>\n",
              "      <td>...</td>\n",
              "    </tr>\n",
              "    <tr>\n",
              "      <th>495</th>\n",
              "      <td>0.655415</td>\n",
              "      <td>0.642174</td>\n",
              "      <td>0.628762</td>\n",
              "      <td>0.615192</td>\n",
              "      <td>0.601473</td>\n",
              "      <td>0.587618</td>\n",
              "      <td>0.573637</td>\n",
              "      <td>0.559544</td>\n",
              "      <td>0.545349</td>\n",
              "      <td>0.531066</td>\n",
              "      <td>...</td>\n",
              "      <td>0.765365</td>\n",
              "      <td>0.754071</td>\n",
              "      <td>0.742529</td>\n",
              "      <td>0.730745</td>\n",
              "      <td>0.718727</td>\n",
              "      <td>0.706482</td>\n",
              "      <td>0.694020</td>\n",
              "      <td>0.681348</td>\n",
              "      <td>0.668477</td>\n",
              "      <td>0.655415</td>\n",
              "    </tr>\n",
              "    <tr>\n",
              "      <th>496</th>\n",
              "      <td>0.656381</td>\n",
              "      <td>0.643139</td>\n",
              "      <td>0.629728</td>\n",
              "      <td>0.616157</td>\n",
              "      <td>0.602439</td>\n",
              "      <td>0.588583</td>\n",
              "      <td>0.574603</td>\n",
              "      <td>0.560509</td>\n",
              "      <td>0.546315</td>\n",
              "      <td>0.532032</td>\n",
              "      <td>...</td>\n",
              "      <td>0.766330</td>\n",
              "      <td>0.755037</td>\n",
              "      <td>0.743495</td>\n",
              "      <td>0.731711</td>\n",
              "      <td>0.719692</td>\n",
              "      <td>0.707448</td>\n",
              "      <td>0.694985</td>\n",
              "      <td>0.682314</td>\n",
              "      <td>0.669442</td>\n",
              "      <td>0.656381</td>\n",
              "    </tr>\n",
              "    <tr>\n",
              "      <th>497</th>\n",
              "      <td>0.657268</td>\n",
              "      <td>0.644027</td>\n",
              "      <td>0.630615</td>\n",
              "      <td>0.617044</td>\n",
              "      <td>0.603326</td>\n",
              "      <td>0.589470</td>\n",
              "      <td>0.575490</td>\n",
              "      <td>0.561396</td>\n",
              "      <td>0.547202</td>\n",
              "      <td>0.532919</td>\n",
              "      <td>...</td>\n",
              "      <td>0.767218</td>\n",
              "      <td>0.755924</td>\n",
              "      <td>0.744382</td>\n",
              "      <td>0.732598</td>\n",
              "      <td>0.720580</td>\n",
              "      <td>0.708335</td>\n",
              "      <td>0.695872</td>\n",
              "      <td>0.683201</td>\n",
              "      <td>0.670330</td>\n",
              "      <td>0.657268</td>\n",
              "    </tr>\n",
              "    <tr>\n",
              "      <th>498</th>\n",
              "      <td>0.658077</td>\n",
              "      <td>0.644835</td>\n",
              "      <td>0.631424</td>\n",
              "      <td>0.617853</td>\n",
              "      <td>0.604134</td>\n",
              "      <td>0.590279</td>\n",
              "      <td>0.576299</td>\n",
              "      <td>0.562205</td>\n",
              "      <td>0.548010</td>\n",
              "      <td>0.533728</td>\n",
              "      <td>...</td>\n",
              "      <td>0.768026</td>\n",
              "      <td>0.756733</td>\n",
              "      <td>0.745191</td>\n",
              "      <td>0.733407</td>\n",
              "      <td>0.721388</td>\n",
              "      <td>0.709144</td>\n",
              "      <td>0.696681</td>\n",
              "      <td>0.684010</td>\n",
              "      <td>0.671138</td>\n",
              "      <td>0.658077</td>\n",
              "    </tr>\n",
              "    <tr>\n",
              "      <th>499</th>\n",
              "      <td>0.658807</td>\n",
              "      <td>0.645565</td>\n",
              "      <td>0.632154</td>\n",
              "      <td>0.618583</td>\n",
              "      <td>0.604864</td>\n",
              "      <td>0.591009</td>\n",
              "      <td>0.577028</td>\n",
              "      <td>0.562935</td>\n",
              "      <td>0.548740</td>\n",
              "      <td>0.534458</td>\n",
              "      <td>...</td>\n",
              "      <td>0.768756</td>\n",
              "      <td>0.757463</td>\n",
              "      <td>0.745921</td>\n",
              "      <td>0.734136</td>\n",
              "      <td>0.722118</td>\n",
              "      <td>0.709873</td>\n",
              "      <td>0.697411</td>\n",
              "      <td>0.684739</td>\n",
              "      <td>0.671868</td>\n",
              "      <td>0.658807</td>\n",
              "    </tr>\n",
              "  </tbody>\n",
              "</table>\n",
              "<p>500 rows × 500 columns</p>\n",
              "</div>\n",
              "      <button class=\"colab-df-convert\" onclick=\"convertToInteractive('df-99240a14-0521-4eb0-b1e8-6221f23605f3')\"\n",
              "              title=\"Convert this dataframe to an interactive table.\"\n",
              "              style=\"display:none;\">\n",
              "        \n",
              "  <svg xmlns=\"http://www.w3.org/2000/svg\" height=\"24px\"viewBox=\"0 0 24 24\"\n",
              "       width=\"24px\">\n",
              "    <path d=\"M0 0h24v24H0V0z\" fill=\"none\"/>\n",
              "    <path d=\"M18.56 5.44l.94 2.06.94-2.06 2.06-.94-2.06-.94-.94-2.06-.94 2.06-2.06.94zm-11 1L8.5 8.5l.94-2.06 2.06-.94-2.06-.94L8.5 2.5l-.94 2.06-2.06.94zm10 10l.94 2.06.94-2.06 2.06-.94-2.06-.94-.94-2.06-.94 2.06-2.06.94z\"/><path d=\"M17.41 7.96l-1.37-1.37c-.4-.4-.92-.59-1.43-.59-.52 0-1.04.2-1.43.59L10.3 9.45l-7.72 7.72c-.78.78-.78 2.05 0 2.83L4 21.41c.39.39.9.59 1.41.59.51 0 1.02-.2 1.41-.59l7.78-7.78 2.81-2.81c.8-.78.8-2.07 0-2.86zM5.41 20L4 18.59l7.72-7.72 1.47 1.35L5.41 20z\"/>\n",
              "  </svg>\n",
              "      </button>\n",
              "      \n",
              "  <style>\n",
              "    .colab-df-container {\n",
              "      display:flex;\n",
              "      flex-wrap:wrap;\n",
              "      gap: 12px;\n",
              "    }\n",
              "\n",
              "    .colab-df-convert {\n",
              "      background-color: #E8F0FE;\n",
              "      border: none;\n",
              "      border-radius: 50%;\n",
              "      cursor: pointer;\n",
              "      display: none;\n",
              "      fill: #1967D2;\n",
              "      height: 32px;\n",
              "      padding: 0 0 0 0;\n",
              "      width: 32px;\n",
              "    }\n",
              "\n",
              "    .colab-df-convert:hover {\n",
              "      background-color: #E2EBFA;\n",
              "      box-shadow: 0px 1px 2px rgba(60, 64, 67, 0.3), 0px 1px 3px 1px rgba(60, 64, 67, 0.15);\n",
              "      fill: #174EA6;\n",
              "    }\n",
              "\n",
              "    [theme=dark] .colab-df-convert {\n",
              "      background-color: #3B4455;\n",
              "      fill: #D2E3FC;\n",
              "    }\n",
              "\n",
              "    [theme=dark] .colab-df-convert:hover {\n",
              "      background-color: #434B5C;\n",
              "      box-shadow: 0px 1px 3px 1px rgba(0, 0, 0, 0.15);\n",
              "      filter: drop-shadow(0px 1px 2px rgba(0, 0, 0, 0.3));\n",
              "      fill: #FFFFFF;\n",
              "    }\n",
              "  </style>\n",
              "\n",
              "      <script>\n",
              "        const buttonEl =\n",
              "          document.querySelector('#df-99240a14-0521-4eb0-b1e8-6221f23605f3 button.colab-df-convert');\n",
              "        buttonEl.style.display =\n",
              "          google.colab.kernel.accessAllowed ? 'block' : 'none';\n",
              "\n",
              "        async function convertToInteractive(key) {\n",
              "          const element = document.querySelector('#df-99240a14-0521-4eb0-b1e8-6221f23605f3');\n",
              "          const dataTable =\n",
              "            await google.colab.kernel.invokeFunction('convertToInteractive',\n",
              "                                                     [key], {});\n",
              "          if (!dataTable) return;\n",
              "\n",
              "          const docLinkHtml = 'Like what you see? Visit the ' +\n",
              "            '<a target=\"_blank\" href=https://colab.research.google.com/notebooks/data_table.ipynb>data table notebook</a>'\n",
              "            + ' to learn more about interactive tables.';\n",
              "          element.innerHTML = '';\n",
              "          dataTable['output_type'] = 'display_data';\n",
              "          await google.colab.output.renderOutput(dataTable, element);\n",
              "          const docLink = document.createElement('div');\n",
              "          docLink.innerHTML = docLinkHtml;\n",
              "          element.appendChild(docLink);\n",
              "        }\n",
              "      </script>\n",
              "    </div>\n",
              "  </div>\n",
              "  "
            ]
          },
          "metadata": {},
          "execution_count": 26
        }
      ]
    },
    {
      "cell_type": "code",
      "source": [
        "## download the file courrpteddata.csv first in PC & then upload here\n",
        "\n",
        "df = df2.replace(0,np.NaN)\n",
        "df = df.interpolate()\n",
        "dflist = df.values.tolist()\n",
        "x = np.linspace(0, 500, 500)\n",
        "y = np.linspace(0, 500, 500)\n",
        "\n",
        "X, Y = np.meshgrid(x, y)\n",
        "Z = dflist\n",
        "\n",
        "fig = plt.figure()\n",
        "plt.contourf(X, Y, Z, 20, cmap='RdGy')\n",
        "plt.colorbar();\n",
        "plt.show()"
      ],
      "metadata": {
        "colab": {
          "base_uri": "https://localhost:8080/",
          "height": 269
        },
        "id": "iSh-K-9A8_Yb",
        "outputId": "f3a42174-d233-4850-e158-f811c8890a71"
      },
      "execution_count": 27,
      "outputs": [
        {
          "output_type": "display_data",
          "data": {
            "text/plain": [
              "<Figure size 432x288 with 2 Axes>"
            ],
            "image/png": "[encoded data removed]"
          },
          "metadata": {
            "needs_background": "light"
          }
        }
      ]
    },
    {
      "cell_type": "code",
      "source": [
        "## download the file courrpteddata.csv first in PC & then upload here\n",
        "\n",
        "xls = np.linspace(0, 500, 500)\n",
        "yls = np.linspace(0, 500, 500)\n",
        "\n",
        "#dflist \n",
        "xls"
      ],
      "metadata": {
        "id": "CForwIo89Lmo"
      },
      "execution_count": null,
      "outputs": []
    },
    {
      "cell_type": "code",
      "source": [
        "## download the file courrpteddata.csv first in PC & then upload here\n",
        "\n",
        "Xlist = list(range(0,500,1))\n",
        "Ylist = Xlist\n",
        "inputxls = []\n",
        "inputyls = []\n",
        "outputzls = []\n",
        "\n",
        "for x in Xlist:\n",
        "  for y in Ylist:\n",
        "    z = dflist[x][y]\n",
        "\n",
        "    inputxls.append(x)\n",
        "    inputyls.append(y)\n",
        "    outputzls.append(z)\n",
        "\n",
        "len(outputzls)\n",
        "\n",
        "fig = plt.figure()\n",
        "ax = fig.add_subplot(111, projection = '3d')\n",
        "cf = ax.plot_trisurf(inputxls, inputyls, outputzls, cmap='coolwarm')\n",
        "plt.colorbar(cf)\n",
        "plt.show()"
      ],
      "metadata": {
        "colab": {
          "base_uri": "https://localhost:8080/",
          "height": 248
        },
        "id": "gWovS1T29WZg",
        "outputId": "be803c22-1742-4d10-bf86-41b31203fb08"
      },
      "execution_count": 30,
      "outputs": [
        {
          "output_type": "display_data",
          "data": {
            "text/plain": [
              "<Figure size 432x288 with 2 Axes>"
            ],
            "image/png": "[encoded data removed]"
          },
          "metadata": {
            "needs_background": "light"
          }
        }
      ]
    },
    {
      "cell_type": "markdown",
      "source": [
        "# 4. Sequential vs Multiprocessing Techniques "
      ],
      "metadata": {
        "id": "4PAJr7736DrA"
      }
    },
    {
      "cell_type": "code",
      "source": [
        "## Integration by Sequential Technique\n",
        "\n",
        "import numpy as np\n",
        "import matplotlib.pyplot as plt\n",
        "\n",
        "xls = np.linspace(-5, 5, 100)\n",
        "yls = xls\n",
        "fxy_ls = []\n",
        "SUM_ONE = 0\n",
        "fxy_One = []\n",
        "fxy_Zero = []\n",
        "\n",
        "for x in xls:\n",
        "  for y in yls:\n",
        "    fxy = (3*x*x*y*y) - (x*y) + 1\n",
        "    if fxy > np.pi :\n",
        "      fxy_ls.append(1)\n",
        "      #SUM_ONE = SUM_ONE + 1 \n",
        "      fxy_One.append(1)\n",
        "    else :\n",
        "      fxy_ls.append(0)\n",
        "      fxy_Zero.append(1)\n",
        "\n",
        "a = np.array(fxy_ls).reshape(len(yls),len(yls))\n",
        "\n",
        "AllArea = 10 * 10\n",
        "Proba_All = (len(xls)**2)\n",
        "Proba_White = len(fxy_One)\n",
        "\n",
        "WhiteArea = (AllArea) * (Proba_White/Proba_All)\n",
        "print('Area of white zone = %s' % WhiteArea)\n",
        "\n",
        "fig,ax=plt.subplots(1,1)\n",
        "cp = ax.contourf(xls, yls, a)\n",
        "fig.colorbar(cp) # Add a colorbar to a plot\n",
        "plt.show()"
      ],
      "metadata": {
        "id": "foiw9kiL6fRX"
      },
      "execution_count": null,
      "outputs": []
    },
    {
      "cell_type": "code",
      "source": [
        "## Integration By Multiprocess Technique\n",
        "\n",
        "import os\n",
        "import multiprocessing\n",
        "import numpy as np\n",
        "import matplotlib.pyplot as plt\n",
        "\n",
        "def Function(xls,yls,fxy_ls,fxy_One):\n",
        "\n",
        "    pid = os.getpid()\n",
        "    print('Function = PID: %s ' % (pid))\n",
        "    for x in xls:\n",
        "        for y in yls:\n",
        "            fxy = (3*x*x*y*y) - (x*y) + 1\n",
        "            if fxy > np.pi:\n",
        "                AppendList(1, fxy_ls)\n",
        "                fxy_One.append(1)\n",
        "            else:\n",
        "                AppendList(0,fxy_ls)\n",
        "\n",
        "\n",
        "def AppendList(x,fxy_ls):\n",
        "   \n",
        "    fxy_ls.append(x)\n",
        "\n",
        "\n",
        "def Plotgraph(xls,yls,fxy_ls):\n",
        "\n",
        "    pid = os.getpid()\n",
        "    print('Plotting Graph = PID: %s ' % (pid))\n",
        "    Z = np.array(fxy_ls).reshape(len(xls), len(yls))\n",
        "    fig, ax = plt.subplots(1, 1)\n",
        "    cp = ax.contourf(xls, yls, Z)\n",
        "    fig.colorbar(cp)\n",
        "    plt.show()\n",
        "\n",
        "def Approx_Area(xls, fxy_One):\n",
        "\n",
        "    pid = os.getpid()\n",
        "    print('Approximate Area = PID: %s ' % (pid))\n",
        "    AllArea = 10 * 10\n",
        "    Proba_All = (len(xls) ** 2)\n",
        "    Proba_White = len(fxy_One)\n",
        "\n",
        "    WhiteArea = (AllArea) * (Proba_White / Proba_All)\n",
        "    print('\\nArea of white zone = %s' % WhiteArea)\n",
        "\n",
        "if __name__ == '__main__':\n",
        "    with multiprocessing.Manager() as manager:\n",
        "        fxy_ls = manager.list([])\n",
        "        fxy_One = manager.list([])\n",
        "\n",
        "        print('Start')\n",
        "        print('\\nMultiprocessing\\n')\n",
        "\n",
        "        N = 100     # N higher, approximation more accurate\n",
        "        xls = np.linspace(-5, 5, N)\n",
        "        yls = xls\n",
        "\n",
        "        p1 = multiprocessing.Process(target=Function, args=(xls, yls, fxy_ls,fxy_One))\n",
        "        p2 = multiprocessing.Process(target=Plotgraph, args=(xls, yls, fxy_ls,))\n",
        "        p3 = multiprocessing.Process(target=Approx_Area, args=(xls,fxy_One,))\n",
        "\n",
        "        p1.start()\n",
        "        p1.join()\n",
        "\n",
        "        p2.start()\n",
        "        p3.start()\n",
        "        p2.join()\n",
        "        p3.join()\n",
        "\n",
        "        print('\\nEND')"
      ],
      "metadata": {
        "id": "KFmtkuY0Akza"
      },
      "execution_count": null,
      "outputs": []
    },
    {
      "cell_type": "markdown",
      "source": [
        "# 5. Integration Method : Trapezoid vs Monte Carlo"
      ],
      "metadata": {
        "id": "s8cbgBzC6gKv"
      }
    },
    {
      "cell_type": "code",
      "source": [
        "import numpy as np \n",
        "from matplotlib import pyplot as plt \n",
        "\n",
        "def f1(x):\n",
        "  return np.exp(-np.power(x, 2)+1) / np.exp(np.power(x, 2)+1)\n",
        "\n",
        "a = -1\n",
        "b = 1\n",
        "\n",
        "xls = np.linspace(a,b, 100)\n",
        "yls = f1(xls)\n",
        "plt.plot(xls, yls)"
      ],
      "metadata": {
        "colab": {
          "base_uri": "https://localhost:8080/",
          "height": 282
        },
        "id": "XaTtfHon6r0-",
        "outputId": "c5046f07-1526-4575-e356-494fe1195ebf"
      },
      "execution_count": 19,
      "outputs": [
        {
          "output_type": "execute_result",
          "data": {
            "text/plain": [
              "[<matplotlib.lines.Line2D at 0x7f96224abc90>]"
            ]
          },
          "metadata": {},
          "execution_count": 19
        },
        {
          "output_type": "display_data",
          "data": {
            "text/plain": [
              "<Figure size 432x288 with 1 Axes>"
            ],
            "image/png": "[encoded data removed]"
          },
          "metadata": {
            "needs_background": "light"
          }
        }
      ]
    },
    {
      "cell_type": "code",
      "source": [
        "# Trapezoid Method\n",
        "\n",
        "mls = [100, 1000, 10000, 100000, 1000000]\n",
        "a = -1 \n",
        "b = 1 \n",
        "m = 100\n",
        "\n",
        "#z = (b1 - a1) / (m - 1)\n",
        "#x = np.linspace(a1, b1, m)\n",
        "#y = f1(x)\n",
        "\n",
        "for m in mls: \n",
        "  z = (b - a) / (m - 1)\n",
        "  x = np.linspace(a, b, m)\n",
        "  y = f1(x)\n",
        "\n",
        "  integration = (z/2)*(y[0] + 2 * sum(y[1:m-1]) + y[m-1])\n",
        "  pererrm = (1.19629 -integration)/1.19629 * 100\n",
        "\n",
        "  print('n: %s integration value: %f Percentage error: %f' % (m, integration, pererrm))"
      ],
      "metadata": {
        "colab": {
          "base_uri": "https://localhost:8080/"
        },
        "id": "rii2jZXfBnRK",
        "outputId": "f27a5527-3c37-40d6-a715-fa7adcd77321"
      },
      "execution_count": 20,
      "outputs": [
        {
          "output_type": "stream",
          "name": "stdout",
          "text": [
            "n: 100 integration value: 1.196251 Percentage error: 0.003244\n",
            "n: 1000 integration value: 1.196288 Percentage error: 0.000196\n",
            "n: 10000 integration value: 1.196288 Percentage error: 0.000166\n",
            "n: 100000 integration value: 1.196288 Percentage error: 0.000166\n",
            "n: 1000000 integration value: 1.196288 Percentage error: 0.000166\n"
          ]
        }
      ]
    },
    {
      "cell_type": "code",
      "source": [
        "# MonteCarlo Method\n",
        "\n",
        "nls = [100, 1000, 10000, 100000, 1000000]\n",
        "a = -1 \n",
        "b = 1 \n",
        "\n",
        "for n in nls:\n",
        "  xsample = np.random.normal (loc=0.0, scale=0.5, size = n)\n",
        "  interval = ((b-a)/n) * (sum(f1(xsample)))\n",
        "  pererr = (1.19629-interval)/1.19629 * 100\n",
        "\n",
        "  print('n: %s integration value: %.4f Percentage error: %.3f' % (n, interval, pererr))"
      ],
      "metadata": {
        "colab": {
          "base_uri": "https://localhost:8080/"
        },
        "id": "INtBv9bWBpQc",
        "outputId": "6d93a029-6f3e-4c45-a7c6-b8e9e5c85477"
      },
      "execution_count": 21,
      "outputs": [
        {
          "output_type": "stream",
          "name": "stdout",
          "text": [
            "n: 100 integration value: 1.4676 Percentage error: -22.678\n",
            "n: 1000 integration value: 1.4150 Percentage error: -18.281\n",
            "n: 10000 integration value: 1.4184 Percentage error: -18.568\n",
            "n: 100000 integration value: 1.4125 Percentage error: -18.075\n",
            "n: 1000000 integration value: 1.4147 Percentage error: -18.254\n"
          ]
        }
      ]
    },
    {
      "cell_type": "code",
      "source": [
        "# More points (number of n) used to approximate the integration value of the given function, more precise will be the result. \n",
        "# Trapezoid Method generated more precise integration value to be compared with Monte Carlo Method in approximating the \n",
        "# integration value of the given function. "
      ],
      "metadata": {
        "id": "LRzlSpkGB1pb"
      },
      "execution_count": 22,
      "outputs": []
    },
    {
      "cell_type": "markdown",
      "source": [
        "# 6. Monte Carlo Simulations"
      ],
      "metadata": {
        "id": "sZU8dm346som"
      }
    },
    {
      "cell_type": "code",
      "source": [
        "## Monte Carlo Simulation 1\n",
        "\n",
        "import numpy as np \n",
        "from matplotlib import pyplot as plt \n",
        "import random\n",
        "\n",
        "def fx(x) :\n",
        "  fx = 1/(1+np.power(x,2)) + 1/(1+np.power(x,4)) + 1/(1+np.power(x,6)) + 1/(1+np.power(x,8))\n",
        "  return fx\n",
        "\n",
        "a = -np.pi\n",
        "b = np.pi\n",
        "xls = np.linspace(a,b,100)\n",
        "yls = fx(xls)\n",
        "plt.plot(xls,yls)\n",
        "\n",
        "n = 100 \n",
        "xsample = np.random.random(size = n)\n",
        "plt.hist(xsample, bins=25)\n",
        "\n",
        "# MC integeration formula\n",
        "interval = (b - a / n) * (sum(fx(xsample)))\n",
        "\n",
        "print('=',interval)"
      ],
      "metadata": {
        "id": "Pt5j9Nlu6y9v"
      },
      "execution_count": null,
      "outputs": []
    },
    {
      "cell_type": "code",
      "source": [
        "## Monte Carlo Simulation 2\n",
        "## Integration using Random Uniform Distribution and Monte Carlo Method\n",
        "\n",
        "import numpy as np \n",
        "from matplotlib import pyplot as plt \n",
        "import random\n",
        "\n",
        "def fx(x) :\n",
        "  fx = 1/(1+np.power(x,2)) + 1/(1+np.power(x,4)) + 1/(1+np.power(x,6)) + 1/(1+np.power(x,8))\n",
        "  return fx\n",
        "\n",
        "# True value = 10.9039\n",
        "\n",
        "nls = [10,100, 1000, 10000, 100000, 1000000]\n",
        "a = -np.pi \n",
        "b = np.pi\n",
        "\n",
        "for n in nls:\n",
        "  xsample = np.random.uniform(low = a, high = b, size = n)\n",
        "  interval = ((b-a)/n) * (sum(fx(xsample)))\n",
        "  pererr = (10.9039-interval)/10.9039 * 100\n",
        "\n",
        "  print('n: %s intergeration value: %.4f Percentage error: %.3f' % (n, interval, pererr))"
      ],
      "metadata": {
        "id": "EGAkqlv_CuNd"
      },
      "execution_count": null,
      "outputs": []
    },
    {
      "cell_type": "code",
      "source": [
        "## Monte Carlo Simulation 3\n",
        "## Integration using Monte Carlo Method if 3 Different Shapes of Line Graph\n",
        "\n",
        "import numpy as np \n",
        "from matplotlib import pyplot as plt \n",
        "import random\n",
        "\n",
        "def fx(x) :\n",
        "  fx = 1/(1+np.power(x,2)) + 1/(1+np.power(x,4)) + 1/(1+np.power(x,6)) + 1/(1+np.power(x,8))\n",
        "  plt.plot(fx)\n",
        "  return fx\n",
        "\n",
        "n1 = 100\n",
        "a1 = -2\n",
        "b1 = -0.5\n",
        "  \n",
        "xgausssample = []\n",
        "while len(xgausssample) < n1:\n",
        "  x1 = np.random.normal(loc=0.0, scale=0.5)\n",
        "  if x1 > a and x1 < b:\n",
        "    xgausssample.append(x1)\n",
        "\n",
        "i1 = ((b-a)/n1) * (sum(fx(xgausssample)))\n",
        "\n",
        "n2 = 1000\n",
        "a2 = -0.5\n",
        "b2 = 0.5\n",
        "\n",
        "xsample = np.random.uniform(low = a2, high = b2, size = n2)\n",
        "i2 = ((b2-a2)/n2) * (sum(fx(xsample)))\n",
        "\n",
        "n3 = 100\n",
        "a3 = 0.5\n",
        "b3 = 2\n",
        "  \n",
        "xgausssample2 = []\n",
        "while len(xgausssample2) < n3:\n",
        "  x3 = np.random.normal(loc=0.0, scale=0.5)\n",
        "  if x3 > a3 and x3 < b3:\n",
        "    xgausssample2.append(x3)\n",
        "\n",
        "i3 = ((b3 - a3) / n3) * (sum(fx(xgausssample2)))\n",
        "\n",
        "interval = i1 + i2 + i3\n",
        "interval"
      ],
      "metadata": {
        "id": "MVN87ImiC-ZY"
      },
      "execution_count": null,
      "outputs": []
    },
    {
      "cell_type": "markdown",
      "source": [
        "# 7. Solve Ordinary Differential Equation by Euler Method"
      ],
      "metadata": {
        "id": "rZiM_JtV60Kl"
      }
    },
    {
      "cell_type": "code",
      "source": [
        "import numpy as np\n",
        "from matplotlib import pyplot as plt\n",
        "from scipy.integrate import solve_ivp\n",
        "\n",
        "# Euler Method\n",
        "# y(x+h) = y(x) + y'(x)h\n",
        "# y(0) = 1\n",
        "\n",
        "def euler_method(x, y, h):\n",
        "  return y + (10 * x * y * h)\n",
        "\n",
        "xls1 = []\n",
        "yls1 = []\n",
        "\n",
        "h = 0.0001\n",
        "xmax = 1\n",
        "x = 0\n",
        "y = 1\n",
        "\n",
        "while x < xmax:\n",
        "  \n",
        "  y = euler_method(x, y, h)\n",
        "\n",
        "  xls1.append(x)\n",
        "  yls1.append(y)\n",
        "  \n",
        "  x += h\n",
        "\n",
        "plt.plot(xls1, yls1)"
      ],
      "metadata": {
        "id": "suneIt9C62K4"
      },
      "execution_count": null,
      "outputs": []
    },
    {
      "cell_type": "markdown",
      "source": [
        "# 8. Solve Linear Equations by Inversed Matrix"
      ],
      "metadata": {
        "id": "07u9XzSS62po"
      }
    },
    {
      "cell_type": "code",
      "source": [
        "import numpy as np\n",
        "from numpy.linalg import inv\n",
        "\n",
        "#3.0001x + 5.0001y - 6.9999z = 10.001\n",
        "#6.0002x + 4.9999y - 10.0001z = 8.999\n",
        "#5.9999x + 10.0001y - 11.999z = 19.998\n",
        "\n",
        "A = np.array([[3.0001, 5.0001, -6.9999],[6.0002, 4.9999, -10.0001],[5.9999, 10.0001, -11.999]])\n",
        "B = np.array([[[10.001], [8.999], [19.998]]])\n",
        "X = np.linalg.inv(A).dot(B)\n",
        "\n",
        "print(X)"
      ],
      "metadata": {
        "colab": {
          "base_uri": "https://localhost:8080/"
        },
        "id": "JGHgnCBd64SP",
        "outputId": "275e6046-6b63-4cb2-ee23-8a7176cf797c"
      },
      "execution_count": 32,
      "outputs": [
        {
          "output_type": "stream",
          "name": "stdout",
          "text": [
            "[[[-3.35781988e-01]]\n",
            "\n",
            " [[ 2.19891646e+00]]\n",
            "\n",
            " [[-1.93964562e-03]]]\n"
          ]
        }
      ]
    },
    {
      "cell_type": "markdown",
      "source": [
        "# 9. 3D Graph Plotting"
      ],
      "metadata": {
        "id": "osq1R8vU65BH"
      }
    },
    {
      "cell_type": "code",
      "source": [
        "import numpy as np\n",
        "import matplotlib.pyplot as plt\n",
        "from matplotlib import cm\n",
        "from matplotlib.ticker import LinearLocator, FormatStrFormatter\n",
        "from mpl_toolkits.mplot3d import Axes3D\n",
        "\n",
        "## Matplotlib Sample Code using 2D arrays via meshgrid\n",
        "X = np.arange(-5, 5, 0.25)\n",
        "Y = np.arange(-5, 5, 0.25)\n",
        "X, Y = np.meshgrid(X, Y)\n",
        "R = np.sqrt(X ** 2 + Y ** 2)\n",
        "Z = np.sin(R)\n",
        "fig = plt.figure()\n",
        "ax = Axes3D(fig)\n",
        "surf = ax.plot_surface(X, Y, Z, rstride=1, cstride=1, cmap=cm.coolwarm,\n",
        "                       linewidth=0, antialiased=False)\n",
        "ax.set_zlim(-1.01, 1.01)\n",
        "\n",
        "ax.zaxis.set_major_locator(LinearLocator(10))\n",
        "ax.zaxis.set_major_formatter(FormatStrFormatter('%.02f'))\n",
        "\n",
        "fig.colorbar(surf, shrink=0.5, aspect=5)\n",
        "plt.title('Original Code')\n",
        "plt.show()"
      ],
      "metadata": {
        "id": "zifRe_pG667w"
      },
      "execution_count": null,
      "outputs": []
    },
    {
      "cell_type": "markdown",
      "source": [
        "# 10. Interpolation : Lagrange vs Cubic Spline"
      ],
      "metadata": {
        "id": "6KMXO5ti675W"
      }
    },
    {
      "cell_type": "code",
      "source": [
        "import numpy as np \n",
        "from numpy import log as ln\n",
        "from matplotlib import pyplot as plt\n",
        "from scipy.interpolate import lagrange, CubicSpline\n",
        "\n",
        "xls = [-3,-2,-1,0,1,2,3]\n",
        "yls = [np.exp((-(x-2)**2)/8) for x in xls]\n",
        "\n",
        "flag = lagrange(xls,yls)\n",
        "fcubspl = CubicSpline(xls,yls)\n",
        "\n",
        "newxls = np.linspace(-3,3,40)\n",
        "newyls_lag = flag(newxls)\n",
        "newyls_cbsp = fcubspl(newxls)\n",
        "\n",
        "plt.scatter(xls, yls)\n",
        "plt.plot(newxls,newyls_lag,label='lagrange')\n",
        "plt.plot(newxls,newyls_cbsp,label='CubicSpline')\n",
        "plt.legend()"
      ],
      "metadata": {
        "colab": {
          "base_uri": "https://localhost:8080/",
          "height": 282
        },
        "id": "nRXSpZiA693P",
        "outputId": "1d2922ac-cc14-40c0-a6e9-3c1816a5f3d1"
      },
      "execution_count": 34,
      "outputs": [
        {
          "output_type": "execute_result",
          "data": {
            "text/plain": [
              "<matplotlib.legend.Legend at 0x7f95f6c13650>"
            ]
          },
          "metadata": {},
          "execution_count": 34
        },
        {
          "output_type": "display_data",
          "data": {
            "text/plain": [
              "<Figure size 432x288 with 1 Axes>"
            ],
            "image/png": "[encoded data removed]"
          },
          "metadata": {
            "needs_background": "light"
          }
        }
      ]
    },
    {
      "cell_type": "markdown",
      "source": [
        "# 11. Lagrange Interpolation"
      ],
      "metadata": {
        "id": "CfAnnTT46_HH"
      }
    },
    {
      "cell_type": "code",
      "source": [
        "## Before Interpolate (Lagrange)\n",
        "\n",
        "import numpy as np\n",
        "from numpy import log as ln\n",
        "from matplotlib import pyplot as plt\n",
        "from scipy.interpolate import lagrange\n",
        "\n",
        "xls = np.linspace(0,4,100)\n",
        "yls = [(3*x**2)*(ln(x**2))-(x**4) for x in xls]\n",
        "\n",
        "plt.scatter(xls, yls)"
      ],
      "metadata": {
        "id": "Y3gIgj2qbsIp"
      },
      "execution_count": null,
      "outputs": []
    },
    {
      "cell_type": "code",
      "source": [
        "## After Interpolate (Lagrange)\n",
        "\n",
        "import numpy as np \n",
        "from numpy import log as ln\n",
        "from matplotlib import pyplot as plt\n",
        "from scipy.interpolate import lagrange\n",
        "\n",
        "xls = np.linspace(0,4,10)\n",
        "yls = [(3*x**2)*(ln(x**2))-(x**4) for x in xls]\n",
        "\n",
        "flag = lagrange(xls,yls)\n",
        "\n",
        "newxls = np.linspace(-3,3,10)\n",
        "newyls = flag(newxls)\n",
        "\n",
        "plt.scatter(xls, yls)\n",
        "plt.plot(newxls,newyls,label='lagrange')\n",
        "plt.legend()"
      ],
      "metadata": {
        "id": "Y-TPgu7M7Baf"
      },
      "execution_count": null,
      "outputs": []
    },
    {
      "cell_type": "markdown",
      "source": [
        "# 12. Cubic Spline Interpolation"
      ],
      "metadata": {
        "id": "l6baAhJjdCiU"
      }
    },
    {
      "cell_type": "code",
      "source": [
        "import numpy as np\n",
        "from matplotlib import pyplot as plt\n",
        "from scipy.interpolate import CubicSpline\n",
        "\n",
        "xls=[0.05,0.2,0.5,0.75]\n",
        "yls=[-4.812e-4,-2.72e-2,-3.125e-1,-7.383e-1]\n",
        "\n",
        "plt.scatter(xls, yls)\n",
        "plt.plot(xls, yls)"
      ],
      "metadata": {
        "id": "yjh3Y_FgdG4l"
      },
      "execution_count": null,
      "outputs": []
    },
    {
      "cell_type": "markdown",
      "source": [
        "# 13. Solve Linear Equations by Inversed Matrix"
      ],
      "metadata": {
        "id": "fyzO5is46_J-"
      }
    },
    {
      "cell_type": "code",
      "source": [
        "import numpy as np\n",
        "from numpy.linalg import inv\n",
        "\n",
        "#3.0001x + 5.0001y - 6.9999z = 10.001\n",
        "#6.0002x + 4.9999y - 10.0001z = 8.999\n",
        "#5.9999x + 10.0001y - 11.999z = 19.998\n",
        "\n",
        "A = np.array([[3.0001, 5.0001, -6.9999],[6.0002, 4.9999, -10.0001],[5.9999, 10.0001, -11.999]])\n",
        "B = np.array([[[10.001], [8.999], [19.998]]])\n",
        "X = np.linalg.inv(A).dot(B)\n",
        "\n",
        "print(X)"
      ],
      "metadata": {
        "id": "03owyA0n7DY2"
      },
      "execution_count": null,
      "outputs": []
    },
    {
      "cell_type": "markdown",
      "source": [
        "# 14. Matrix Multiplication\n"
      ],
      "metadata": {
        "id": "XBjmQBHacqrs"
      }
    },
    {
      "cell_type": "code",
      "source": [
        "import numpy as np\n",
        " \n",
        "als = [1,2,3,4,5]\n",
        "bls = [6,7,8,9,10]\n",
        "cls = []\n",
        "for val_a, val_b, in zip(als, bls) : \n",
        "  cls.append (val_a*val_b)\n",
        "cls"
      ],
      "metadata": {
        "id": "y7EGyrxnczCv"
      },
      "execution_count": null,
      "outputs": []
    },
    {
      "cell_type": "markdown",
      "source": [
        "# 15. Locating International Space Station (ISS)"
      ],
      "metadata": {
        "id": "GwIRoxWCd5Lm"
      }
    },
    {
      "cell_type": "code",
      "source": [
        "import plotly\n",
        "import plotly.graph_objs as go\n",
        "import pandas as pd\n",
        "import numpy as np\n",
        "x = np.linspace(0, 4.5,100)\n",
        "y = -1120.4*x*x+5742.3*x-4352.9;\n",
        "\n",
        "df = pd.read_csv('https://raw.githubusercontent.com/pcm-dpc/COVID-19/master/dati-andamento-nazionale/dpc-covid19-ita-andamento-nazionale.csv')\n",
        "# Create a trace\n",
        "data = [go.Scatter(\n",
        "    x = df['data'],\n",
        "    y = df['totale_positivi'],\n",
        ")]\n",
        "layout = go.Layout(\n",
        "        xaxis=dict(\n",
        "            title='Data',    \n",
        "        ),\n",
        "        yaxis=dict(\n",
        "            title='Totale positivi',  \n",
        "        )\n",
        "    )\n",
        "fig = go.Figure(data=data, layout=layout)\n",
        "fig"
      ],
      "metadata": {
        "id": "1oOZcg_TeCNZ"
      },
      "execution_count": null,
      "outputs": []
    },
    {
      "cell_type": "markdown",
      "source": [
        "# 16. Differentiation (Dy/Dx) : Lagrange vs Cubic Spline"
      ],
      "metadata": {
        "id": "QKoQif7tvtR6"
      }
    },
    {
      "cell_type": "code",
      "source": [
        "xls=[0.05,0.2,0.5,0.75]\n",
        "yls=[-4.812e-4,-2.72e-2,-3.125e-1,-7.383e-1]\n",
        "\n",
        "import numpy as np\n",
        "from matplotlib import pyplot as plt\n",
        "from scipy.interpolate import lagrange,CubicSpline\n",
        "\n",
        "#just to see how the data looks like in a graph\n",
        "plt.plot(xls,yls)"
      ],
      "metadata": {
        "id": "B7fMin48v2Ji"
      },
      "execution_count": null,
      "outputs": []
    },
    {
      "cell_type": "code",
      "source": [
        "# now we need to interpolate the data \n",
        "# there are four methods of interpolation\n",
        "# 1st: Lagrange interpolation\n",
        "# 2nd: Cubic Spline interpolation\n",
        "# 3rd: Cubic Spline (natural) interpolation\n",
        "# 4th: Cubic Spline (clamped) interpolation\n",
        "\n",
        "flag = lagrange(xls,yls)\n",
        "fcubspl = CubicSpline(xls,yls)\n",
        "fcubsplnat = CubicSpline(xls,yls,bc_type='natural')\n",
        "fcubsplclm = CubicSpline(xls,yls,bc_type='clamped')\n",
        "\n",
        "newxls = np.linspace(0,1,100)\n",
        "newyls_lag = flag(newxls)\n",
        "newyls_cbs = fcubspl(newxls)\n",
        "newyls_cbsnat = fcubsplnat(newxls)\n",
        "newyls_cbsclm = fcubsplclm(newxls)"
      ],
      "metadata": {
        "id": "jdjiQ3WCwGvq"
      },
      "execution_count": 52,
      "outputs": []
    },
    {
      "cell_type": "code",
      "source": [
        "# There are two methods that we can use to differentiate the data\n",
        "# 1st: Cubic method\n",
        "# 2nd: Gradient method\n",
        "\n",
        "# 1st: Cubic method: only for cubic spline interpolated, we may differentiate using the cubic method\n",
        "\n",
        "fcubspl_1d = fcubspl.derivative(nu=1)\n",
        "fcubsplls_1d_0= fcubspl_1d(newxls)\n",
        "fcubsplls_1d_1= fcubspl_1d(0.1)\n",
        "fcubsplls_1d_2= fcubspl_1d(0.4)\n",
        "fcubsplls_1d_3= fcubspl_1d(0.7)\n",
        "\n",
        "fcubsplnat_1d = fcubsplnat.derivative(nu=1)\n",
        "fcubsplnatls_1d_0= fcubsplnat_1d(newxls)\n",
        "fcubsplnatls_1d_1= fcubsplnat_1d(0.1)\n",
        "fcubsplnatls_1d_2= fcubsplnat_1d(0.4)\n",
        "fcubsplnatls_1d_3= fcubsplnat_1d(0.7)\n",
        "\n",
        "fcubsplclm_1d = fcubsplclm.derivative(nu=1)\n",
        "fcubsplclmls_1d_0= fcubsplclm_1d(newxls)\n",
        "fcubsplclmls_1d_1= fcubsplclm_1d(0.1)\n",
        "fcubsplclmls_1d_2= fcubsplclm_1d(0.4)\n",
        "fcubsplclmls_1d_3= fcubsplclm_1d(0.7)"
      ],
      "metadata": {
        "id": "TBdsY3S8wRKp"
      },
      "execution_count": 53,
      "outputs": []
    },
    {
      "cell_type": "code",
      "source": [
        "plt.scatter(xls,yls)\n",
        "plt.plot(newxls,fcubsplls_1d_0,label='Cubic Spline')\n",
        "plt.plot(newxls,fcubsplnatls_1d_0,label='Cubic Spline (natural)')\n",
        "plt.plot(newxls,fcubsplclmls_1d_0,label='Cubic Spline (clamped)')\n",
        "plt.legend()"
      ],
      "metadata": {
        "id": "gHbDFjRZwWmZ"
      },
      "execution_count": null,
      "outputs": []
    },
    {
      "cell_type": "code",
      "source": [
        "# then, finding the mean absolute errors for the cubic method\n",
        "# considering the true values for each points\n",
        "\n",
        "truevalls = [-1.080e-1, -1.152, -1.764]"
      ],
      "metadata": {
        "id": "2OQ2YrXXwX6h"
      },
      "execution_count": 55,
      "outputs": []
    },
    {
      "cell_type": "code",
      "source": [
        "# cubic spline interpolated\n",
        "maerror_cubspl = (abs(fcubsplls_1d_1-truevalls[0]) + abs(fcubsplls_1d_2-truevalls[1]) + abs(fcubsplls_1d_3-truevalls[2]))/3\n",
        "maerror_cubspl"
      ],
      "metadata": {
        "id": "qx9wRBuvwbd6"
      },
      "execution_count": null,
      "outputs": []
    },
    {
      "cell_type": "code",
      "source": [
        "# cubic spline natural interpolated\n",
        "maerror_cubsplnat = (abs(fcubsplnatls_1d_1-truevalls[0]) + abs(fcubsplnatls_1d_2-truevalls[1]) + abs(fcubsplnatls_1d_3-truevalls[2]))/3\n",
        "maerror_cubsplnat"
      ],
      "metadata": {
        "id": "rtO9h4wfwedZ"
      },
      "execution_count": null,
      "outputs": []
    },
    {
      "cell_type": "code",
      "source": [
        "# cubic spline clamped interpolated\n",
        "maerror_cubsplclm = (abs(fcubsplclmls_1d_1-truevalls[0]) + abs(fcubsplclmls_1d_2-truevalls[1]) + abs(fcubsplclmls_1d_3-truevalls[2]))/3\n",
        "maerror_cubsplclm"
      ],
      "metadata": {
        "id": "7KiHjN39whZb"
      },
      "execution_count": null,
      "outputs": []
    },
    {
      "cell_type": "code",
      "source": [
        "# 2nd: Gradient method \n",
        "\n",
        "grals_lag_1d = np.gradient(newyls_lag,newxls)\n",
        "grals_cbs_1d = np.gradient(newyls_cbs,newxls)\n",
        "grals_cbsnat_1d = np.gradient(newyls_cbsnat,newxls)\n",
        "grals_cbsclm_1d = np.gradient(newyls_cbsclm,newxls)\n",
        "\n",
        "plt.scatter(xls,yls)\n",
        "plt.plot(newxls,grals_lag_1d,label='Lagrange')\n",
        "plt.plot(newxls,grals_cbs_1d,label='Cubic Spline')\n",
        "plt.plot(newxls,grals_cbsnat_1d,label='Cubic Spline (natural)')\n",
        "plt.plot(newxls,grals_cbsclm_1d,label='Cubic Spline (clamped)')\n",
        "plt.legend()"
      ],
      "metadata": {
        "id": "7F7Hr3o4wj2V"
      },
      "execution_count": null,
      "outputs": []
    },
    {
      "cell_type": "code",
      "source": [
        "# thus, finding the mean absolute errors for the gradient method\n",
        "# considering the true values for each points\n",
        "\n",
        "truevalls = [-1.080e-1, -1.152, -1.764]"
      ],
      "metadata": {
        "id": "MwFvvAuHwnGL"
      },
      "execution_count": 60,
      "outputs": []
    },
    {
      "cell_type": "code",
      "source": [
        "# Lagrange interpolated\n",
        "maerror_lagg = (abs(grals_lag_1d[10]-truevalls[0]) + abs(grals_cbs_1d[40]-truevalls[1]) + abs(grals_cbs_1d[70]-truevalls[2]))/3\n",
        "maerror_lagg"
      ],
      "metadata": {
        "id": "TMROE2jOwt86"
      },
      "execution_count": null,
      "outputs": []
    },
    {
      "cell_type": "code",
      "source": [
        "# cubic spline interpolated\n",
        "maerror_cubsplg = (abs(grals_cbs_1d[10]-truevalls[0]) + abs(grals_cbs_1d[40]-truevalls[1]) + abs(grals_cbs_1d[70]-truevalls[2]))/3\n",
        "maerror_cubsplg"
      ],
      "metadata": {
        "id": "PoJcG-1TwyjC"
      },
      "execution_count": null,
      "outputs": []
    },
    {
      "cell_type": "code",
      "source": [
        "# cubic spline natural interpolated\n",
        "maerror_cubsplnatg = (abs(grals_cbsnat_1d[10]-truevalls[0]) + abs(grals_cbsnat_1d[40]-truevalls[1]) + abs(grals_cbsnat_1d[70]-truevalls[2]))/3\n",
        "maerror_cubsplnatg"
      ],
      "metadata": {
        "id": "a4YxGoKMw0-6"
      },
      "execution_count": null,
      "outputs": []
    },
    {
      "cell_type": "code",
      "source": [
        "# cubic spline clamped interpolated\n",
        "maerror_cubsplclmg = (abs(grals_cbsclm_1d[10]-truevalls[0]) + abs(grals_cbsclm_1d[40]-truevalls[1]) + abs(grals_cbsclm_1d[70]-truevalls[2]))/3\n",
        "maerror_cubsplclmg"
      ],
      "metadata": {
        "id": "EZ_HkLoow3_x"
      },
      "execution_count": null,
      "outputs": []
    },
    {
      "cell_type": "code",
      "source": [
        "# Both method can effectively be used to find the derivative of interpolated equations at any specific points\n",
        "# Although both methods could produce almost similar graphs and results, the values are not exactly the same\n",
        "# By finding the mean absolute errors for both method, there are several conclusions that can be made based on this data\n",
        "# 1- For cubic spline interpolated data, the gradient method has the least resulted mean absolute error compared with the cubic method\n",
        "# 2- For cubic spline natural interpolated data, the gradient method has the least resulted mean absolute error compared with the cubic method\n",
        "# 3- For cubic spline interpolated data, the cubic method has the least resulted mean absolute error compared with the gradient method\n",
        "# 4- For lagrange interpolated data, the resulted mean absolute error is obtained but cannot be compared with the cubic method"
      ],
      "metadata": {
        "id": "uDO9R45Bw746"
      },
      "execution_count": 65,
      "outputs": []
    },
    {
      "cell_type": "markdown",
      "source": [
        "# 17. Multiprocessing Exercises"
      ],
      "metadata": {
        "id": "O4nuGVf7x1uU"
      }
    },
    {
      "cell_type": "code",
      "source": [
        "## Multiprocessing Exercise 1\n",
        "\n",
        "import multiprocessing\n",
        "from numpy import random\n",
        "import time\n",
        "import numpy as np\n",
        "\n",
        "def Humidity(s):\n",
        "  random.seed(s)\n",
        "  print(\"Minute : \",s)\n",
        "  k = []\n",
        "  for i in range(6):\n",
        "    h = np.random.uniform(1.1,10.1)\n",
        "    #print(\"Humidity after 10 s = \", h)\n",
        "    time.sleep(10)\n",
        "    k.append(h)\n",
        "  #print(\"Range of Humidity within 1 min = \", k)\n",
        "  humidity_avg = sum(k) / len(k) \n",
        "  print(\"Average Humidity = \", humidity_avg)\n",
        "  return\n",
        "\n",
        "def Temperature(s):\n",
        "  random.seed(s)\n",
        "  k = []\n",
        "  for i in range(6):\n",
        "    t = np.random.uniform(1.1,10.1)\n",
        "    #print(\"Temperature after 10 s = \", t)\n",
        "    time.sleep(10)\n",
        "    k.append(t)\n",
        "  #print(\"Range of Temperature within 1 min = \", k)\n",
        "  temperature_avg = sum(k) / len(k) \n",
        "  print(\"Average Temperature = \", temperature_avg)\n",
        "  return\n",
        "\n",
        "if __name__ == '__main__':\n",
        "  for i in range(2):\n",
        "    print('\\r\\n{0},{1}\\r\\n'.format(time.strftime('%m/%d/%y'), time.strftime('%H:%M')))\n",
        "    p1 = multiprocessing.Process(target=Humidity, args=(i+1,))\n",
        "    p2 = multiprocessing.Process(target=Temperature, args=(i+3,))\n",
        "    p1.start()\n",
        "    p2.start()\n",
        "    p1.join()\n",
        "    p2.join()"
      ],
      "metadata": {
        "id": "sALdc8u-1K60"
      },
      "execution_count": null,
      "outputs": []
    },
    {
      "cell_type": "code",
      "source": [
        "## Multiprocessing Exercise 2\n",
        "\n",
        "import multiprocessing\n",
        "from numpy import random\n",
        "import time\n",
        "import numpy as np\n",
        "\n",
        "def loop(s):\n",
        "  random.seed(s)\n",
        "  print(\"Minute : \",s)\n",
        "  k = []\n",
        "  for i in range(6):\n",
        "    h = np.random.uniform(1.1,10.1)\n",
        "    print(\"Humidity after 10 s = \", h)\n",
        "    time.sleep(10)\n",
        "    k.append(h)\n",
        "  print(\"Humidity within 1 min = \", k)\n",
        "  return\n",
        "\n",
        "def looplagi(s):\n",
        "  print(\"Minute : \",s-2)\n",
        "  k = []\n",
        "  for i in range(6):\n",
        "    t = np.random.uniform(1.1,10.1)\n",
        "    print(\"Temperature after 10 s = \", t)\n",
        "    time.sleep(10)\n",
        "    k.append(t)\n",
        "  print(\"Temperature within 1 min = \", k)\n",
        "  return\n",
        "\n",
        "if __name__ == '__main__':\n",
        "  for i in range(2):\n",
        "    p1 = multiprocessing.Process(target=loop, args=(i+1,))\n",
        "    p2 = multiprocessing.Process(target=looplagi, args=(i+3,))\n",
        "    p1.start()\n",
        "    p2.start()\n",
        "    p1.join()\n",
        "    p2.join()\n"
      ],
      "metadata": {
        "id": "iM-rr1Tq2R3U"
      },
      "execution_count": null,
      "outputs": []
    }
  ]
}